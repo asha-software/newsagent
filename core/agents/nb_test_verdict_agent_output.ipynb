{
 "cells": [
  {
   "cell_type": "code",
   "execution_count": 1,
   "metadata": {},
   "outputs": [
    {
     "name": "stdout",
     "output_type": "stream",
     "text": [
      "\n",
      " Checking Final State Keys:\n",
      "dict_keys(['messages', 'claims', 'labels', 'justifications', 'final_label', 'final_justification', 'formatted_output'])\n",
      "\n",
      " Structured Output (`formatted_output`):\n",
      "{'final_justification': 'The majority of claims in the document are false. The '\n",
      "                        \"only true claim is 'Water freezes at 0°C', but it's \"\n",
      "                        \"outweighed by the single false claim 'The moon is \"\n",
      "                        \"made of cheese'.\",\n",
      " 'final_label': 'false'}\n",
      "\n",
      " Structured JSON output verified successfully!\n"
     ]
    }
   ],
   "source": [
    "from verdict_agent import verdict_agent\n",
    "from pprint import pprint\n",
    "\n",
    "test_state = {\n",
    "    \"messages\": [],\n",
    "    \"claims\": [\n",
    "        \"The moon is made of cheese.\",\n",
    "        \"Water freezes at 0°C.\"\n",
    "    ],\n",
    "    \"labels\": [\"false\", \"true\"],\n",
    "    \"justifications\": [\n",
    "        \"Scientific evidence shows the moon is composed of rock, not cheese.\",\n",
    "        \"Standard freezing point of water at sea level is 0°C.\"\n",
    "    ],\n",
    "    \"final_label\": None,\n",
    "    \"final_justification\": None\n",
    "}\n",
    "\n",
    "# Run the agent\n",
    "final_state = verdict_agent.invoke(test_state)\n",
    "\n",
    "print(\"\\n Checking Final State Keys:\")\n",
    "pprint(final_state.keys())\n",
    "\n",
    "print(\"\\n Structured Output (`formatted_output`):\")\n",
    "formatted_output = final_state.get(\"formatted_output\")\n",
    "pprint(formatted_output)\n",
    "\n",
    "# Check all possible cases\n",
    "assert \"formatted_output\" in final_state, \"'formatted_output' missing!\"\n",
    "assert isinstance(formatted_output, dict), \"'formatted_output' is not a dict!\"\n",
    "assert \"final_label\" in formatted_output, \"Missing key: 'final_label'\"\n",
    "assert \"final_justification\" in formatted_output, \"Missing key: 'final_justification'\"\n",
    "\n",
    "print(\"\\n Structured JSON output verified successfully\")\n"
   ]
  }
 ],
 "metadata": {
  "kernelspec": {
   "display_name": "venv",
   "language": "python",
   "name": "python3"
  },
  "language_info": {
   "codemirror_mode": {
    "name": "ipython",
    "version": 3
   },
   "file_extension": ".py",
   "mimetype": "text/x-python",
   "name": "python",
   "nbconvert_exporter": "python",
   "pygments_lexer": "ipython3",
   "version": "3.10.12"
  }
 },
 "nbformat": 4,
 "nbformat_minor": 2
}
