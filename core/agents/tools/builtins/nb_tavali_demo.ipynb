{
 "cells": [
  {
   "cell_type": "markdown",
   "metadata": {},
   "source": [
    "## Using the Tavily web search tool"
   ]
  },
  {
   "cell_type": "code",
   "execution_count": null,
   "metadata": {},
   "outputs": [
    {
     "data": {
      "text/plain": [
       "True"
      ]
     },
     "execution_count": 1,
     "metadata": {},
     "output_type": "execute_result"
    }
   ],
   "source": [
    "import os\n",
    "from dotenv import load_dotenv\n",
    "\n",
    "# Assumes TAVILY_API_KEY is set in the in core/.env\n",
    "load_dotenv('../../../.env', override=True)\n"
   ]
  },
  {
   "cell_type": "code",
   "execution_count": 2,
   "metadata": {},
   "outputs": [],
   "source": [
    "from langchain_ollama import ChatOllama\n",
    "from core.agents.tools.builtins.web_search import web_search_tavily\n",
    "from pprint import pprint\n",
    "\n",
    "llm = ChatOllama(\n",
    "    model=\"mistral-nemo\",\n",
    "    temperature=0).bind_tools([web_search_tavily])\n",
    "\n",
    "from langchain_core.messages import SystemMessage, HumanMessage, AIMessage\n",
    "\n",
    "msg = HumanMessage(content=\"do a web search on: Pope Francise endorses Trump for president\")\n",
    "llm_response = llm.invoke([msg])"
   ]
  },
  {
   "cell_type": "code",
   "execution_count": 3,
   "metadata": {},
   "outputs": [
    {
     "name": "stdout",
     "output_type": "stream",
     "text": [
      "[{'args': {'query': 'Pope Francis endorses Trump for president',\n",
      "           'topic': 'news'},\n",
      "  'id': '1836d2f5-a2e4-48af-a311-d9349a218da4',\n",
      "  'name': 'web_search',\n",
      "  'type': 'tool_call'}]\n"
     ]
    }
   ],
   "source": [
    "pprint(llm_response.tool_calls)"
   ]
  },
  {
   "cell_type": "code",
   "execution_count": 4,
   "metadata": {},
   "outputs": [
    {
     "name": "stdout",
     "output_type": "stream",
     "text": [
      "[{'args': {'query': 'Dow Jones movement this week', 'topic': 'finance'},\n",
      "  'id': '44ab70a1-f3d1-4ae0-bc0f-48932e4d6b34',\n",
      "  'name': 'web_search',\n",
      "  'type': 'tool_call'}]\n"
     ]
    }
   ],
   "source": [
    "msg = HumanMessage(\n",
    "    content=\"Did the Dow Jones go up or down this week?\")\n",
    "llm_response = llm.invoke([msg])\n",
    "pprint(llm_response.tool_calls)"
   ]
  },
  {
   "cell_type": "code",
   "execution_count": null,
   "metadata": {},
   "outputs": [],
   "source": []
  }
 ],
 "metadata": {
  "kernelspec": {
   "display_name": "newsagent",
   "language": "python",
   "name": "python3"
  },
  "language_info": {
   "codemirror_mode": {
    "name": "ipython",
    "version": 3
   },
   "file_extension": ".py",
   "mimetype": "text/x-python",
   "name": "python",
   "nbconvert_exporter": "python",
   "pygments_lexer": "ipython3",
   "version": "3.11.11"
  }
 },
 "nbformat": 4,
 "nbformat_minor": 2
}
