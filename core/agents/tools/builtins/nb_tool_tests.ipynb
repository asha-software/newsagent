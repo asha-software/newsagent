{
 "cells": [
  {
   "cell_type": "markdown",
   "metadata": {},
   "source": [
    "## Using the Tavily web search tool"
   ]
  },
  {
   "cell_type": "code",
   "execution_count": 1,
   "metadata": {},
   "outputs": [
    {
     "data": {
      "text/plain": [
       "True"
      ]
     },
     "execution_count": 1,
     "metadata": {},
     "output_type": "execute_result"
    }
   ],
   "source": [
    "import os\n",
    "from dotenv import load_dotenv\n",
    "\n",
    "# Assumes TAVILY_API_KEY is set in the in core/.env\n",
    "load_dotenv('../../../.env', override=True)\n"
   ]
  },
  {
   "cell_type": "code",
   "execution_count": 3,
   "metadata": {},
   "outputs": [
    {
     "name": "stdout",
     "output_type": "stream",
     "text": [
      "name='web_search' description='A search engine optimized for comprehensive, accurate, and trusted results. Useful for answering questions about current events or specific topics.' args_schema=<class 'langchain_core.utils.pydantic.web_search'> func=<function tool_function at 0x112edcae0>\n"
     ]
    }
   ],
   "source": [
    "from langchain_ollama import ChatOllama\n",
    "import core.agents.tools.builtins.web_search as web_search\n",
    "\n",
    "dir(web_search)\n",
    "web_search_tool = getattr(web_search, 'tool_function')\n",
    "print(web_search_tool)"
   ]
  },
  {
   "cell_type": "code",
   "execution_count": 6,
   "metadata": {},
   "outputs": [
    {
     "name": "stdout",
     "output_type": "stream",
     "text": [
      "[{'args': {'query': 'plane crash Nepal', 'topic': 'news'},\n",
      "  'id': '1a0af919-7dd9-4e4d-a1db-ad33c0e52663',\n",
      "  'name': 'web_search',\n",
      "  'type': 'tool_call'}]\n"
     ]
    }
   ],
   "source": [
    "from langchain_core.messages import SystemMessage, HumanMessage, AIMessage\n",
    "from pprint import pprint\n",
    "\n",
    "llm = ChatOllama(\n",
    "    model=\"mistral-nemo\",\n",
    "    temperature=0).bind_tools([web_search_tool])\n",
    "\n",
    "\n",
    "msg = HumanMessage(\n",
    "    content=\"What happened yesterday with the plane crash in Nepal?\",)\n",
    "llm_response = llm.invoke([msg])\n",
    "pprint(llm_response.tool_calls)"
   ]
  },
  {
   "cell_type": "code",
   "execution_count": 7,
   "metadata": {},
   "outputs": [
    {
     "name": "stdout",
     "output_type": "stream",
     "text": [
      "[{'args': {'query': 'Dow Jones movement this week', 'topic': 'news'},\n",
      "  'id': 'a971b0f9-7362-4b00-af1a-beb697e48074',\n",
      "  'name': 'web_search',\n",
      "  'type': 'tool_call'}]\n"
     ]
    }
   ],
   "source": [
    "msg = HumanMessage(\n",
    "    content=\"Did the Dow Jones go up or down this week?\")\n",
    "llm_response = llm.invoke([msg])\n",
    "pprint(llm_response.tool_calls)"
   ]
  },
  {
   "cell_type": "markdown",
   "metadata": {},
   "source": [
    "## Test Calculator"
   ]
  },
  {
   "cell_type": "code",
   "execution_count": 8,
   "metadata": {},
   "outputs": [
    {
     "name": "stdout",
     "output_type": "stream",
     "text": [
      "name='calculator' description='A calculator tool for evaluating single-line mathematical expressions. Useful for performing quick calculations.' args_schema=<class 'langchain_core.utils.pydantic.calculator'> func=<function tool_function at 0x1053c91c0>\n"
     ]
    }
   ],
   "source": [
    "import core.agents.tools.builtins.calculator as calculator\n",
    "\n",
    "dir(calculator)\n",
    "calc_tool = getattr(calculator, 'tool_function')\n",
    "print(calc_tool)"
   ]
  },
  {
   "cell_type": "code",
   "execution_count": 14,
   "metadata": {},
   "outputs": [
    {
     "name": "stdout",
     "output_type": "stream",
     "text": [
      "[{'args': {'expression': '(3.3 * 10^8) * (1 * 10^6) - 4 * 10^10'},\n",
      "  'id': '752b836d-c7e1-4b7a-a67a-58b45cf9e384',\n",
      "  'name': 'calculator',\n",
      "  'type': 'tool_call'}]\n"
     ]
    }
   ],
   "source": [
    "llm = ChatOllama(\n",
    "    model=\"mistral-nemo\",\n",
    "    temperature=0).bind_tools([calc_tool])\n",
    "\n",
    "\n",
    "msg = HumanMessage(\n",
    "    content=\"what is 330 million times 1 million, subtracted from 40 billion?\",)\n",
    "llm_response = llm.invoke([msg])\n",
    "pprint(llm_response.tool_calls)"
   ]
  },
  {
   "cell_type": "code",
   "execution_count": null,
   "metadata": {},
   "outputs": [],
   "source": []
  }
 ],
 "metadata": {
  "kernelspec": {
   "display_name": "newsagent",
   "language": "python",
   "name": "python3"
  },
  "language_info": {
   "codemirror_mode": {
    "name": "ipython",
    "version": 3
   },
   "file_extension": ".py",
   "mimetype": "text/x-python",
   "name": "python",
   "nbconvert_exporter": "python",
   "pygments_lexer": "ipython3",
   "version": "3.11.11"
  }
 },
 "nbformat": 4,
 "nbformat_minor": 2
}
