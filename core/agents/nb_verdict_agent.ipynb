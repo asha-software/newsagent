{
 "cells": [
  {
   "cell_type": "code",
   "execution_count": null,
   "id": "270906d2-ff8a-4ec1-8f65-84ef7b07844e",
   "metadata": {},
   "outputs": [
    {
     "name": "stdout",
     "output_type": "stream",
     "text": [
      " Final Verdict: FALSE\n",
      " Justification: The majority of claims in the document are false. The Eiffel Tower is explicitly stated to be located in Berlin, which is incorrect (it's actually in Paris). This error outweighs the single true claim about water boiling at 100°C at sea level.\n",
      "\n",
      " Formatted Output:\n",
      "{'final_label': 'FALSE', 'final_justification': \"The majority of claims in the document are false. The Eiffel Tower is explicitly stated to be located in Berlin, which is incorrect (it's actually in Paris). This error outweighs the single true claim about water boiling at 100°C at sea level.\"}\n",
      "\n",
      " Formatted Output (pretty):\n",
      "{\n",
      "  \"final_label\": \"FALSE\",\n",
      "  \"final_justification\": \"The majority of claims in the document are false. The Eiffel Tower is explicitly stated to be located in Berlin, which is incorrect (it's actually in Paris). This error outweighs the single true claim about water boiling at 100\\u00b0C at sea level.\"\n",
      "}\n"
     ]
    }
   ],
   "source": [
    "from verdict_agent import verdict_agent\n",
    "\n",
    "# output test\n",
    "test_state = {\n",
    "    \"messages\": [],\n",
    "    \"claims\": [\n",
    "        \"The Eiffel Tower is located in Berlin.\",\n",
    "        \"Water boils at 100 degrees Celsius at sea level.\"\n",
    "    ],\n",
    "    \"labels\": [\"false\", \"true\"],\n",
    "    \"justifications\": [\n",
    "        \"The Eiffel Tower is in Paris, not Berlin.\",\n",
    "        \"Scientific evidence confirms water boils at 100°C at sea level.\"\n",
    "    ],\n",
    "    \"final_label\": None,\n",
    "    \"final_justification\": None,\n",
    "    \"formatted_output\": None\n",
    "}\n",
    "\n",
    "# Execute agent\n",
    "final_state = verdict_agent.invoke(test_state)\n",
    "\n",
    "# show results\n",
    "print(\" Final Verdict:\", final_state[\"final_label\"])\n",
    "print(\" Justification:\", final_state[\"final_justification\"])\n",
    "\n",
    "# check `formatted_output`\n",
    "print(\"\\n Formatted Output:\")\n",
    "print(final_state.get(\"formatted_output\", \"Not found\"))\n",
    "\n",
    "# show if dict output\n",
    "import json\n",
    "if isinstance(final_state.get(\"formatted_output\"), dict):\n",
    "    print(\"\\n Formatted Output (pretty):\")\n",
    "    print(json.dumps(final_state[\"formatted_output\"], indent=2))\n"
   ]
  },
  {
   "cell_type": "code",
   "execution_count": null,
   "id": "f1b82f55-a02a-4cf8-95ee-de47ca25c25c",
   "metadata": {},
   "outputs": [],
   "source": []
  }
 ],
 "metadata": {
  "kernelspec": {
   "display_name": "venv",
   "language": "python",
   "name": "python3"
  },
  "language_info": {
   "codemirror_mode": {
    "name": "ipython",
    "version": 3
   },
   "file_extension": ".py",
   "mimetype": "text/x-python",
   "name": "python",
   "nbconvert_exporter": "python",
   "pygments_lexer": "ipython3",
   "version": "3.10.12"
  }
 },
 "nbformat": 4,
 "nbformat_minor": 5
}
