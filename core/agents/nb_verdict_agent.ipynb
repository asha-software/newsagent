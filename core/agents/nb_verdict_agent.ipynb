{
 "cells": [
  {
   "cell_type": "code",
   "execution_count": 1,
   "id": "270906d2-ff8a-4ec1-8f65-84ef7b07844e",
   "metadata": {},
   "outputs": [
    {
     "name": "stdout",
     "output_type": "stream",
     "text": [
      "Final Verdict: true\n",
      "Justification: Scientific evidence confirms water boils at 100°C at sea level.\n"
     ]
    }
   ],
   "source": [
    "from verdict_agent import verdict_agent as graph\n",
    "\n",
    "test_state = {\n",
    "    \"messages\": [],\n",
    "    \"claims\": [\n",
    "        \"The Eiffel Tower is located in Berlin.\",\n",
    "        \"Water boils at 100 degrees Celsius at sea level.\"\n",
    "    ],\n",
    "    \"labels\": [\"false\", \"true\"],\n",
    "    \"justifications\": [\n",
    "        \"The Eiffel Tower is in Paris, not Berlin.\",\n",
    "        \"Scientific evidence confirms water boils at 100°C at sea level.\"\n",
    "    ],\n",
    "    \"final_label\": None,\n",
    "    \"final_justification\": None\n",
    "}\n",
    "\n",
    "final_state = graph.invoke(test_state)\n",
    "\n",
    "print(f\"Final Verdict: {final_state['final_label']}\")\n",
    "print(f\"Justification: {final_state['final_justification']}\")\n"
   ]
  },
  {
   "cell_type": "code",
   "execution_count": 2,
   "id": "f1b82f55-a02a-4cf8-95ee-de47ca25c25c",
   "metadata": {},
   "outputs": [
    {
     "name": "stdout",
     "output_type": "stream",
     "text": [
      "================================\u001b[1m System Message \u001b[0m================================\n",
      "\n",
      "You are an expert analyst. The user will give you some text. Your task is to identify and extract all claims made in the text.\n",
      "\n",
      "### Instructions: Read the entire document carefully and list each individual factual claim. Each claim should be a complete statement that can be fact-checked.\n",
      "\n",
      "- A claim is any statement that can be objectively verified as true or false, regardless of whether it is actually true.\n",
      "- IGNORE opinions, subjective interpretations, or ambiguous statements.\n",
      "- IGNORE existential or trivial statements that are nearly always true (e.g. 'some people disagree with the policy')\n",
      "- Remember to remain objective and avoid inserting any personal interpretation or bias when extracting claims.\n",
      "\n",
      "Output Format:\n",
      "- Return your results as a JSON array of strings.\n",
      "- Each string in the array must contain one claim.\n",
      "- Do not include any additional text, explanations, or commentary—only the JSON array.\n",
      "\n",
      "{\n",
      "  \"examples\": [\n",
      "    {\n",
      "      \"input\": \"Albert Einstein was born in Germany. He developed the theory of relativity, which revolutionized physics.\",\n",
      "      \"output\": [\n",
      "        \"Albert Einstein was born in Germany.\",\n",
      "        \"Albert Einstein developed the theory of relativity.\",\n",
      "        \"The theory of relativity revolutionized physics.\"\n",
      "      ]\n",
      "    },\n",
      "    {\n",
      "      \"input\": \"Climate change is causing more extreme weather events every year. But of course, some people still insist it's just a natural cycle\",\n",
      "      \"output\": [\n",
      "        \"Climate change is causing extreme weather events to increase every year\",\n",
      "      ]\n",
      "    },\n",
      "    {\n",
      "      \"input\": \"Windmills emit high frequency signals causing birds to die\",\n",
      "      \"output\": [\n",
      "        \"Windmills emit high frequency signals\",\n",
      "        \"High frequency signals kill birds\"\n",
      "      ]\n",
      "    },\n",
      "    {\n",
      "      \"input\": \"Breaking: Ancient bird fossil uncovered, challenging everything we assumed about avian evolution!\",\n",
      "      \"output\": [\n",
      "        \"Someone has recently found an ancient bird fossil.\",\n",
      "        \"The ancient bird fossil has properties that conflict with current beliefs on avian evolution.\"\n",
      "      ]\n",
      "    },\n",
      "    {\n",
      "      \"input\": \"Wake up! Sources confirm the government's fluoridation program leads to cancer, brain decay, and infertility!\",\n",
      "      \"output\": [\n",
      "        \"Public water fluoridation causes cancer, brain decay, and infertility.\",\n",
      "        \"A trustworthy source has presented evidence that verifies water fluoridation causes cancer, brain decay, and infertility.\"\n",
      "      ]\n",
      "    }\n",
      "  ]\n",
      "}\n",
      "\n",
      "==================================\u001b[1m Ai Message \u001b[0m==================================\n",
      "\n",
      "### Claims Analysis\n",
      "Claim: The Eiffel Tower is located in Berlin.\n",
      "Verdict: false\n",
      "Justification: The Eiffel Tower is in Paris, not Berlin.\n",
      "Claim: Water boils at 100 degrees Celsius at sea level.\n",
      "Verdict: true\n",
      "Justification: Scientific evidence confirms water boils at 100°C at sea level.\n",
      "==================================\u001b[1m Ai Message \u001b[0m==================================\n",
      "\n",
      "{\"final_label\": \"true\", \"final_justification\": \"Scientific evidence confirms water boils at 100°C at sea level.\"}\n"
     ]
    }
   ],
   "source": [
    "for message in final_state['messages']:\n",
    "    message.pretty_print()"
   ]
  },
  {
   "cell_type": "code",
   "execution_count": null,
   "id": "d0b5aaff",
   "metadata": {},
   "outputs": [],
   "source": []
  }
 ],
 "metadata": {
  "kernelspec": {
   "display_name": "newsagent",
   "language": "python",
   "name": "python3"
  },
  "language_info": {
   "codemirror_mode": {
    "name": "ipython",
    "version": 3
   },
   "file_extension": ".py",
   "mimetype": "text/x-python",
   "name": "python",
   "nbconvert_exporter": "python",
   "pygments_lexer": "ipython3",
   "version": "3.11.11"
  }
 },
 "nbformat": 4,
 "nbformat_minor": 5
}
