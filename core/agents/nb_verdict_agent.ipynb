{
 "cells": [
  {
   "cell_type": "code",
   "execution_count": null,
   "id": "270906d2-ff8a-4ec1-8f65-84ef7b07844e",
   "metadata": {},
   "outputs": [],
   "source": [
    "from verdict_agent import graph\n",
    "\n",
    "test_state = {\n",
    "    \"messages\": [],\n",
    "    \"claims\": [\n",
    "        \"The Eiffel Tower is located in Berlin.\",\n",
    "        \"Water boils at 100 degrees Celsius at sea level.\"\n",
    "    ],\n",
    "    \"labels\": [\"false\", \"true\"],\n",
    "    \"justifications\": [\n",
    "        \"The Eiffel Tower is in Paris, not Berlin.\",\n",
    "        \"Scientific evidence confirms water boils at 100°C at sea level.\"\n",
    "    ],\n",
    "    \"final_label\": None,\n",
    "    \"final_justification\": None\n",
    "}\n",
    "\n",
    "final_state = graph.invoke(test_state)\n",
    "\n",
    "print(f\"Final Verdict: {final_state['final_label']}\")\n",
    "print(f\"Justification: {final_state['final_justification']}\")\n"
   ]
  },
  {
   "cell_type": "code",
   "execution_count": null,
   "id": "fb6c82fd-aea0-4fe6-baa7-280ac99a6fdb",
   "metadata": {},
   "outputs": [],
   "source": []
  }
 ],
 "metadata": {
  "kernelspec": {
   "display_name": "Python 3 (ipykernel)",
   "language": "python",
   "name": "python3"
  },
  "language_info": {
   "codemirror_mode": {
    "name": "ipython",
    "version": 3
   },
   "file_extension": ".py",
   "mimetype": "text/x-python",
   "name": "python",
   "nbconvert_exporter": "python",
   "pygments_lexer": "ipython3",
   "version": "3.10.12"
  }
 },
 "nbformat": 4,
 "nbformat_minor": 5
}
