{
 "cells": [
  {
   "cell_type": "code",
   "execution_count": 1,
   "id": "270906d2-ff8a-4ec1-8f65-84ef7b07844e",
   "metadata": {},
   "outputs": [
    {
     "ename": "ImportError",
     "evalue": "cannot import name 'graph' from 'verdict_agent' (/home/csterckx/newsagent/core/agents/verdict_agent.py)",
     "output_type": "error",
     "traceback": [
      "\u001b[0;31m---------------------------------------------------------------------------\u001b[0m",
      "\u001b[0;31mImportError\u001b[0m                               Traceback (most recent call last)",
      "Cell \u001b[0;32mIn[1], line 1\u001b[0m\n\u001b[0;32m----> 1\u001b[0m \u001b[38;5;28;01mfrom\u001b[39;00m\u001b[38;5;250m \u001b[39m\u001b[38;5;21;01mverdict_agent\u001b[39;00m\u001b[38;5;250m \u001b[39m\u001b[38;5;28;01mimport\u001b[39;00m graph\n\u001b[1;32m      3\u001b[0m test_state \u001b[38;5;241m=\u001b[39m {\n\u001b[1;32m      4\u001b[0m     \u001b[38;5;124m\"\u001b[39m\u001b[38;5;124mmessages\u001b[39m\u001b[38;5;124m\"\u001b[39m: [],\n\u001b[1;32m      5\u001b[0m     \u001b[38;5;124m\"\u001b[39m\u001b[38;5;124mclaims\u001b[39m\u001b[38;5;124m\"\u001b[39m: [\n\u001b[0;32m   (...)\u001b[0m\n\u001b[1;32m     15\u001b[0m     \u001b[38;5;124m\"\u001b[39m\u001b[38;5;124mfinal_justification\u001b[39m\u001b[38;5;124m\"\u001b[39m: \u001b[38;5;28;01mNone\u001b[39;00m\n\u001b[1;32m     16\u001b[0m }\n\u001b[1;32m     18\u001b[0m final_state \u001b[38;5;241m=\u001b[39m graph\u001b[38;5;241m.\u001b[39minvoke(test_state)\n",
      "\u001b[0;31mImportError\u001b[0m: cannot import name 'graph' from 'verdict_agent' (/home/csterckx/newsagent/core/agents/verdict_agent.py)"
     ]
    }
   ],
   "source": [
    "from verdict_agent import graph\n",
    "\n",
    "test_state = {\n",
    "    \"messages\": [],\n",
    "    \"claims\": [\n",
    "        \"The Eiffel Tower is located in Berlin.\",\n",
    "        \"Water boils at 100 degrees Celsius at sea level.\"\n",
    "    ],\n",
    "    \"labels\": [\"false\", \"true\"],\n",
    "    \"justifications\": [\n",
    "        \"The Eiffel Tower is in Paris, not Berlin.\",\n",
    "        \"Scientific evidence confirms water boils at 100°C at sea level.\"\n",
    "    ],\n",
    "    \"final_label\": None,\n",
    "    \"final_justification\": None\n",
    "}\n",
    "\n",
    "final_state = graph.invoke(test_state)\n",
    "\n",
    "print(f\"Final Verdict: {final_state['final_label']}\")\n",
    "print(f\"Justification: {final_state['final_justification']}\")\n"
   ]
  },
  {
   "cell_type": "code",
   "execution_count": null,
   "id": "f1b82f55-a02a-4cf8-95ee-de47ca25c25c",
   "metadata": {},
   "outputs": [],
   "source": []
  }
 ],
 "metadata": {
  "kernelspec": {
   "display_name": "Python 3 (ipykernel)",
   "language": "python",
   "name": "python3"
  },
  "language_info": {
   "codemirror_mode": {
    "name": "ipython",
    "version": 3
   },
   "file_extension": ".py",
   "mimetype": "text/x-python",
   "name": "python",
   "nbconvert_exporter": "python",
   "pygments_lexer": "ipython3",
   "version": "3.10.12"
  }
 },
 "nbformat": 4,
 "nbformat_minor": 5
}
