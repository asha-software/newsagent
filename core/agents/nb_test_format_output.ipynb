{
 "cells": [
  {
   "cell_type": "code",
   "execution_count": 1,
   "metadata": {},
   "outputs": [
    {
     "name": "stdout",
     "output_type": "stream",
     "text": [
      "\n",
      "Formatted Output:\n",
      "{'final_justification': 'The document contains both true and false claims. The '\n",
      "                        'moon is made of cheese (false) but water freezes at '\n",
      "                        '0°C (true).',\n",
      " 'final_label': 'mixed'}\n"
     ]
    }
   ],
   "source": [
    "from verdict_agent import verdict_agent\n",
    "from pprint import pprint\n",
    "import json\n",
    "\n",
    "test_state = {\n",
    "    \"messages\": [],\n",
    "    \"claims\": [\n",
    "        \"The moon is made of cheese.\",\n",
    "        \"Water freezes at 0°C.\"\n",
    "    ],\n",
    "    \"labels\": [\"false\", \"true\"],\n",
    "    \"justifications\": [\n",
    "        \"Scientific evidence shows the moon is composed of rock, not cheese.\",\n",
    "        \"Standard freezing point of water at sea level is 0°C.\"\n",
    "    ],\n",
    "    \"final_label\": None,\n",
    "    \"final_justification\": None\n",
    "}\n",
    "\n",
    "# Run the agent\n",
    "final_state = verdict_agent.invoke(test_state)\n",
    "response = final_state[\"messages\"][-1]\n",
    "structured = json.loads(response.content)\n",
    "\n",
    "print(\"\\nFormatted Output:\")\n",
    "pprint(structured)\n",
    "\n",
    "# Now assert keys\n",
    "assert isinstance(structured, dict), \"Expected a dictionary from LLM response\"\n",
    "assert \"final_label\" in structured\n",
    "assert \"final_justification\" in structured\n"
   ]
  },
  {
   "cell_type": "code",
   "execution_count": null,
   "metadata": {},
   "outputs": [],
   "source": []
  }
 ],
 "metadata": {
  "kernelspec": {
   "display_name": "venv",
   "language": "python",
   "name": "python3"
  },
  "language_info": {
   "codemirror_mode": {
    "name": "ipython",
    "version": 3
   },
   "file_extension": ".py",
   "mimetype": "text/x-python",
   "name": "python",
   "nbconvert_exporter": "python",
   "pygments_lexer": "ipython3",
   "version": "3.10.12"
  }
 },
 "nbformat": 4,
 "nbformat_minor": 2
}
