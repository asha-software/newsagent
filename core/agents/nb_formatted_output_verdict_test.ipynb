{
 "cells": [
  {
   "cell_type": "markdown",
   "metadata": {},
   "source": [
    "Test formated output for both research and verdict agent\n",
    "Claim → Research Agent → Evidence → Reasoning Agent (mocked) → Verdict Agent → Final Document-Level Verdict"
   ]
  },
  {
   "cell_type": "code",
   "execution_count": null,
   "metadata": {},
   "outputs": [],
   "source": [
    "from research_agent import research_agent\n",
    "from verdict_agent import verdict_agent\n",
    "\n",
    "claim = \"The Eiffel Tower is located in Berlin.\"\n",
    "\n",
    "# Initial input to research agent\n",
    "research_state = {\n",
    "    \"messages\": [],\n",
    "    \"claim\": claim,\n",
    "    \"evidence\": []\n",
    "}\n",
    "\n",
    "research_output = research_agent.invoke(research_state)\n",
    "\n",
    "# Display evidence found\n",
    "print(\"Evidence found:\")\n",
    "for item in research_output[\"evidence\"]:\n",
    "    print(\"-\", item)\n",
    "\n",
    "#mocked reasoning output\n",
    "reasoning_output = {\n",
    "    \"claim\": claim,\n",
    "    \"label\": \"false\",\n",
    "    \"justification\": \"The Eiffel Tower is in Paris, not Berlin.\"\n",
    "}\n",
    "\n",
    "verdict_state = {\n",
    "    \"messages\": [],\n",
    "    \"claims\": [reasoning_output[\"claim\"]],\n",
    "    \"labels\": [reasoning_output[\"label\"]],\n",
    "    \"justifications\": [reasoning_output[\"justification\"]],\n",
    "    \"final_label\": None,\n",
    "    \"final_justification\": None,\n",
    "    \"formatted_output\": None\n",
    "}\n",
    "\n",
    "verdict_output = verdict_agent.invoke(verdict_state)\n",
    "\n",
    "print(\"\\nFinal Verdict:\", verdict_output[\"final_label\"])\n",
    "print(\"Justification:\", verdict_output[\"final_justification\"])\n",
    "\n",
    "print(\"\\nFormatted Output:\")\n",
    "from pprint import pprint\n",
    "pprint(verdict_output.get(\"formatted_output\"))\n"
   ]
  },
  {
   "cell_type": "markdown",
   "metadata": {},
   "source": []
  }
 ],
 "metadata": {
  "language_info": {
   "name": "python"
  }
 },
 "nbformat": 4,
 "nbformat_minor": 2
}
