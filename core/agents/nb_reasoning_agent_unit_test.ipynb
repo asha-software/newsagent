{
 "cells": [
  {
   "cell_type": "code",
   "execution_count": null,
   "metadata": {},
   "outputs": [],
   "source": [
    "import os\n",
    "import sys\n",
    "import json\n",
    "from reasoning_agent import reasoning_agent\n",
    "\n",
    "def run_reasoning_agent_test(claim: str, evidence: list[str]):\n",
    "    test_state = {\n",
    "        \"messages\": [],\n",
    "        \"claim\": claim,\n",
    "        \"evidence\": evidence,\n",
    "        \"label\": None,\n",
    "        \"justification\": None\n",
    "    }\n",
    "    \n",
    "    result = reasoning_agent.invoke(test_state)\n",
    "    \n",
    "    print(f\"Claim: {claim}\")\n",
    "    print(f\"Evidence: {evidence}\")\n",
    "    print(f\"Result Label: {result['label']}\")\n",
    "    print(f\"Justification: {result['justification']}\\n\")\n"
   ]
  },
  {
   "cell_type": "code",
   "execution_count": null,
   "metadata": {},
   "outputs": [],
   "source": [
    "# True case\n",
    "run_reasoning_agent_test(\n",
    "    claim=\"Water boils at 100°C at sea level.\",\n",
    "    evidence=[\"Scientific data confirms water boils at exactly 100°C at sea level.\"]\n",
    ")"
   ]
  },
  {
   "cell_type": "code",
   "execution_count": null,
   "metadata": {},
   "outputs": [],
   "source": [
    "# False case\n",
    "run_reasoning_agent_test(\n",
    "    claim=\"The sun revolves around the Earth.\",\n",
    "    evidence=[\"Astronomical research clearly proves Earth revolves around the sun.\"]\n",
    ")\n"
   ]
  },
  {
   "cell_type": "code",
   "execution_count": null,
   "metadata": {},
   "outputs": [],
   "source": [
    "# Ambiguous test\n",
    "run_reasoning_agent_test(\n",
    "    claim=\"There is life on Mars.\",\n",
    "    evidence=[\"Some data shows potential signs of water, but no definitive evidence of life.\"]\n",
    ")\n"
   ]
  },
  {
   "cell_type": "code",
   "execution_count": null,
   "metadata": {},
   "outputs": [],
   "source": [
    "# Mixed case\n",
    "run_reasoning_agent_test(\n",
    "    claim=\"Coffee consumption reduces cancer risk.\",\n",
    "    evidence=[\n",
    "        \"Study A suggests coffee reduces cancer risk.\",\n",
    "        \"Study B finds no link between coffee and cancer.\"\n",
    "    ]\n",
    ")\n"
   ]
  },
  {
   "cell_type": "code",
   "execution_count": null,
   "metadata": {},
   "outputs": [],
   "source": [
    "# Clearly true case\n",
    "\n",
    "run_reasoning_agent_test(\n",
    "    claim=\"Humans have 206 bones.\",\n",
    "    evidence=[\"Medical textbooks clearly state humans have exactly 206 bones.\"]\n",
    ")\n"
   ]
  },
  {
   "cell_type": "code",
   "execution_count": null,
   "metadata": {},
   "outputs": [],
   "source": [
    "# Clearly false case\n",
    "\n",
    "run_reasoning_agent_test(\n",
    "    claim=\"The Great Wall of China is visible from space.\",\n",
    "    evidence=[\"Astronauts and satellite imagery confirm it is not clearly visible from space.\"]\n",
    ")\n"
   ]
  },
  {
   "cell_type": "code",
   "execution_count": null,
   "metadata": {},
   "outputs": [],
   "source": [
    "# Ambiguous case\n",
    "\n",
    "run_reasoning_agent_test(\n",
    "    claim=\"Eating carrots improves night vision.\",\n",
    "    evidence=[\"Research is inconclusive on carrots directly improving night vision.\"]\n",
    ")"
   ]
  },
  {
   "cell_type": "code",
   "execution_count": null,
   "metadata": {},
   "outputs": [],
   "source": [
    "# False case,\n",
    "run_reasoning_agent_test(\n",
    "    claim=\"Einstein invented electricity.\",\n",
    "    evidence=[\"Historical records confirm Benjamin Franklin and Nikola Tesla significantly contributed to electricity, not Einstein.\"]\n",
    ")"
   ]
  },
  {
   "cell_type": "code",
   "execution_count": null,
   "metadata": {},
   "outputs": [],
   "source": [
    "# True case, based on numbers\n",
    "\n",
    "run_reasoning_agent_test(\n",
    "    claim=\"Mount Everest is 8,848 meters high.\",\n",
    "    evidence=[\"Geographic measurements confirm Everest’s height as 8,848 meters.\"]\n",
    ")\n"
   ]
  },
  {
   "cell_type": "code",
   "execution_count": null,
   "metadata": {},
   "outputs": [],
   "source": [
    "# Ambiguous case, based on numbers\n",
    "run_reasoning_agent_test(\n",
    "    claim=\"The human brain uses exactly 10% of its capacity.\",\n",
    "    evidence=[\"Neuroscience research is mixed, many studies contradict this claim.\"]\n",
    ")\n"
   ]
  }
 ],
 "metadata": {
  "kernelspec": {
   "display_name": "venv",
   "language": "python",
   "name": "python3"
  },
  "language_info": {
   "codemirror_mode": {
    "name": "ipython",
    "version": 3
   },
   "file_extension": ".py",
   "mimetype": "text/x-python",
   "name": "python",
   "nbconvert_exporter": "python",
   "pygments_lexer": "ipython3",
   "version": "3.10.12"
  }
 },
 "nbformat": 4,
 "nbformat_minor": 2
}
