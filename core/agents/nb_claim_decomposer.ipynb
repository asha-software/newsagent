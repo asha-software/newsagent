{
 "cells": [
  {
   "cell_type": "code",
   "execution_count": 1,
   "metadata": {},
   "outputs": [],
   "source": [
    "from dotenv import load_dotenv\n",
    "import json\n",
    "import os\n",
    "from langchain_core.messages import AIMessage, BaseMessage, HumanMessage, SystemMessage\n",
    "from langchain_ollama import ChatOllama\n",
    "from langgraph.graph import StateGraph, START, END\n",
    "from langgraph.graph.message import add_messages\n",
    "from langgraph.prebuilt import ToolNode, tools_condition\n",
    "from typing import Annotated, TypedDict\n",
    "\n",
    "\n",
    "MODEL = \"mistral-nemo\"\n",
    "TEMPERATURE = 0\n",
    "load_dotenv('.env', override=True)\n",
    "\n",
    "\"\"\"\n",
    "1. Define your State object\n",
    "\"\"\"\n",
    "\n",
    "\n",
    "class State(TypedDict):\n",
    "    messages: Annotated[list[BaseMessage], add_messages]\n",
    "    text: str\n",
    "    claims: list[str]\n",
    "\n",
    "\n",
    "LLM_OUTPUT_FORMAT = {\n",
    "    \"type\": \"array\",\n",
    "    \"items\": {\n",
    "        \"type\": \"string\"\n",
    "    }\n",
    "}\n",
    "\n",
    "llm = ChatOllama(\n",
    "    model=MODEL,\n",
    "    temperature=TEMPERATURE,\n",
    "    format=LLM_OUTPUT_FORMAT\n",
    ")"
   ]
  },
  {
   "cell_type": "code",
   "execution_count": 2,
   "metadata": {},
   "outputs": [
    {
     "data": {
      "image/png": "[encoded data removed]",
      "text/plain": [
       "<IPython.core.display.Image object>"
      ]
     },
     "metadata": {},
     "output_type": "display_data"
    }
   ],
   "source": [
    "from IPython.display import Image, display\n",
    "\n",
    "with open(\"prompts/claim_decomposer_system_prompt.txt\", \"r\") as f:\n",
    "    system_prompt = f.read()\n",
    "system_message = SystemMessage(content=system_prompt)\n",
    "\n",
    "def preprocessing(state: State) -> State:\n",
    "    \"\"\"\n",
    "    Preprocesses state before sending to the assistant for decomposition.\n",
    "    Currently, this just extracts the text from the state, and sets it\n",
    "    as a HumanMessage following the SystemMessage\n",
    "    \"\"\"\n",
    "    state['messages'] = [system_message, HumanMessage(content=state['text'])]\n",
    "    return state\n",
    "\n",
    "def assistant(state: State) -> State:\n",
    "    \"\"\"\n",
    "    Gets the LLM response to System and Human prompt\n",
    "    \"\"\"\n",
    "    print(f\"Assistant node input:\")\n",
    "    for message in state['messages']:\n",
    "        print(message)\n",
    "    response = llm.invoke(state['messages'])\n",
    "    print(f\"Assistant node response:\")\n",
    "    print(response)\n",
    "    return {'messages': response}\n",
    "\n",
    "def postprocessing(state: State) -> State:\n",
    "    \"\"\"\n",
    "    Postprocesses the LLM response to extract the claims\n",
    "    Using format output on the LLM, we expect the AIMessage.content to be parsable\n",
    "    as a list of strings\n",
    "    \"\"\"\n",
    "    # We assume the last message in the state is the AI response\n",
    "    message = state['messages'][-1]\n",
    "    assert isinstance(message, AIMessage), \"Expected the last message to be an AIMessage\"\n",
    "    # claims = message.content\n",
    "    try:\n",
    "        claims = json.loads(message.content)\n",
    "    except json.JSONDecodeError as e:\n",
    "        print(f\"Error decoding JSON from claim decomposer: {e}\")\n",
    "\n",
    "    return {'claims': claims}\n",
    "\n",
    "\n",
    "builder = StateGraph(State)\n",
    "\n",
    "# Define nodes\n",
    "builder.add_node(\"preprocessing\", preprocessing)\n",
    "builder.add_node(\"assistant\", assistant)\n",
    "builder.add_node(\"postprocessing\", postprocessing)\n",
    "\n",
    "# Define edges\n",
    "builder.add_edge(START, \"preprocessing\")\n",
    "builder.add_edge(\"preprocessing\", \"assistant\")\n",
    "builder.add_edge(\"assistant\", \"postprocessing\")\n",
    "builder.add_edge(\"postprocessing\", END)\n",
    "\n",
    "claim_decomposer = builder.compile()\n",
    "\n",
    "\n",
    "display(Image(claim_decomposer.get_graph(xray=True).draw_mermaid_png()))"
   ]
  },
  {
   "cell_type": "code",
   "execution_count": 3,
   "metadata": {},
   "outputs": [
    {
     "name": "stdout",
     "output_type": "stream",
     "text": [
      "Assistant node input:\n",
      "content='The user will give you some text. Your task is to identify and extract every factual claim made in the text.\\n\\n### Instructions:\\n\\nDefinition: A factual claim is any statement in the document that asserts a verifiable fact about the world (e.g., data points, events, or concrete information). Do not include opinions, subjective interpretations, or ambiguous statements.\\n\\nExtraction: Read the entire document carefully and list each individual factual claim. Each claim should be a complete statement that can be fact-checked.\\n\\nOutput Format:\\n\\nReturn your results as a JSON array of strings.\\nEach string in the array must contain one factual claim.\\nDo not include any additional text, explanations, or commentary—only the JSON array.\\n\\n### EXAMPLE:\\nDocument:\\n\"Albert Einstein was born in Germany. He developed the theory of relativity, which revolutionized physics.\"\\n\\nOutput\\n[\\n  \"Albert Einstein was born in Germany.\",\\n  \"Albert Einstein developed the theory of relativity.\",\\n  \"The theory of relativity revolutionized physics.\"\\n]\\n\\n###\\n' additional_kwargs={} response_metadata={} id='77931574-937d-4725-83c0-d91d81d516c2'\n",
      "content='\\nThe Apollo 11 mission landed humans on the Moon for the first time on July 20, 1969. \\nNeil Armstrong was the first person to walk on the lunar surface.\\nThe mission was launched by NASA using a Saturn V rocket.\\n' additional_kwargs={} response_metadata={} id='828ea63d-5941-44ef-bc23-06a8ecaad503'\n",
      "Assistant node response:\n",
      "content='[\\n  \"The Apollo 11 mission landed humans on the Moon for the first time on July 20, 1969.\",\\n  \"Neil Armstrong was the first person to walk on the lunar surface.\",\\n  \"The mission was launched by NASA using a Saturn V rocket.\"\\n]' additional_kwargs={} response_metadata={'model': 'mistral-nemo', 'created_at': '2025-03-16T22:21:09.701124Z', 'done': True, 'done_reason': 'stop', 'total_duration': 1736362125, 'load_duration': 31174083, 'prompt_eval_count': 259, 'prompt_eval_duration': 210000000, 'eval_count': 61, 'eval_duration': 1492000000, 'message': Message(role='assistant', content='', images=None, tool_calls=None)} id='run-072f7b9e-1a50-4456-a3d9-a8d637c2d5e0-0' usage_metadata={'input_tokens': 259, 'output_tokens': 61, 'total_tokens': 320}\n"
     ]
    }
   ],
   "source": [
    "text = \"\"\"\n",
    "The Apollo 11 mission landed humans on the Moon for the first time on July 20, 1969. \n",
    "Neil Armstrong was the first person to walk on the lunar surface.\n",
    "The mission was launched by NASA using a Saturn V rocket.\n",
    "\"\"\"\n",
    "\n",
    "final_state = claim_decomposer.invoke({'text': text})"
   ]
  },
  {
   "cell_type": "code",
   "execution_count": 4,
   "metadata": {},
   "outputs": [
    {
     "name": "stdout",
     "output_type": "stream",
     "text": [
      "================================\u001b[1m System Message \u001b[0m================================\n",
      "\n",
      "The user will give you some text. Your task is to identify and extract every factual claim made in the text.\n",
      "\n",
      "### Instructions:\n",
      "\n",
      "Definition: A factual claim is any statement in the document that asserts a verifiable fact about the world (e.g., data points, events, or concrete information). Do not include opinions, subjective interpretations, or ambiguous statements.\n",
      "\n",
      "Extraction: Read the entire document carefully and list each individual factual claim. Each claim should be a complete statement that can be fact-checked.\n",
      "\n",
      "Output Format:\n",
      "\n",
      "Return your results as a JSON array of strings.\n",
      "Each string in the array must contain one factual claim.\n",
      "Do not include any additional text, explanations, or commentary—only the JSON array.\n",
      "\n",
      "### EXAMPLE:\n",
      "Document:\n",
      "\"Albert Einstein was born in Germany. He developed the theory of relativity, which revolutionized physics.\"\n",
      "\n",
      "Output\n",
      "[\n",
      "  \"Albert Einstein was born in Germany.\",\n",
      "  \"Albert Einstein developed the theory of relativity.\",\n",
      "  \"The theory of relativity revolutionized physics.\"\n",
      "]\n",
      "\n",
      "###\n",
      "\n",
      "================================\u001b[1m Human Message \u001b[0m=================================\n",
      "\n",
      "\n",
      "The Apollo 11 mission landed humans on the Moon for the first time on July 20, 1969. \n",
      "Neil Armstrong was the first person to walk on the lunar surface.\n",
      "The mission was launched by NASA using a Saturn V rocket.\n",
      "\n",
      "==================================\u001b[1m Ai Message \u001b[0m==================================\n",
      "\n",
      "[\n",
      "  \"The Apollo 11 mission landed humans on the Moon for the first time on July 20, 1969.\",\n",
      "  \"Neil Armstrong was the first person to walk on the lunar surface.\",\n",
      "  \"The mission was launched by NASA using a Saturn V rocket.\"\n",
      "]\n"
     ]
    }
   ],
   "source": [
    "for message in final_state['messages']:\n",
    "    message.pretty_print()"
   ]
  },
  {
   "cell_type": "code",
   "execution_count": 5,
   "metadata": {},
   "outputs": [
    {
     "name": "stdout",
     "output_type": "stream",
     "text": [
      "['The Apollo 11 mission landed humans on the Moon for the first time on July 20, 1969.', 'Neil Armstrong was the first person to walk on the lunar surface.', 'The mission was launched by NASA using a Saturn V rocket.']\n",
      "<class 'list'>\n"
     ]
    }
   ],
   "source": [
    "print(final_state['claims'])\n",
    "print(type(final_state['claims']))"
   ]
  },
  {
   "cell_type": "code",
   "execution_count": null,
   "metadata": {},
   "outputs": [],
   "source": []
  }
 ],
 "metadata": {
  "kernelspec": {
   "display_name": "newsagent",
   "language": "python",
   "name": "python3"
  },
  "language_info": {
   "codemirror_mode": {
    "name": "ipython",
    "version": 3
   },
   "file_extension": ".py",
   "mimetype": "text/x-python",
   "name": "python",
   "nbconvert_exporter": "python",
   "pygments_lexer": "ipython3",
   "version": "3.11.11"
  }
 },
 "nbformat": 4,
 "nbformat_minor": 2
}
