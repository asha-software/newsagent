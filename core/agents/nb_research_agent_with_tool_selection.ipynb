{
 "cells": [
  {
   "cell_type": "markdown",
   "metadata": {},
   "source": [
    "# Research Agent with Tool Selection\n",
    "\n",
    "This notebook demonstrates the enhanced research agent that first selects which tools to use before gathering evidence for a claim."
   ]
  },
  {
   "cell_type": "code",
   "execution_count": 8,
   "metadata": {},
   "outputs": [],
   "source": [
    "from dotenv import load_dotenv\n",
    "import json\n",
    "import importlib\n",
    "import os\n",
    "from pprint import pprint\n",
    "\n",
    "from langchain_core.messages import AIMessage, BaseMessage, HumanMessage, ToolMessage, SystemMessage\n",
    "from langchain_ollama import ChatOllama\n",
    "from langgraph.graph import StateGraph, START, END\n",
    "from langgraph.graph.message import add_messages\n",
    "from langgraph.prebuilt import ToolNode, tools_condition\n",
    "from typing import Annotated, TypedDict\n",
    "from IPython.display import Image, display"
   ]
  },
  {
   "cell_type": "markdown",
   "metadata": {},
   "source": [
    "## Setup\n",
    "\n",
    "First, we'll set up the environment and import the necessary tools."
   ]
  },
  {
   "cell_type": "code",
   "execution_count": 9,
   "metadata": {},
   "outputs": [
    {
     "name": "stdout",
     "output_type": "stream",
     "text": [
      "Tools: ['multiply', 'add', 'divide', 'wikipedia']\n"
     ]
    }
   ],
   "source": [
    "MODEL = \"mistral-nemo\"\n",
    "TEMPERATURE = 0\n",
    "load_dotenv('../.env', override=True)\n",
    "\n",
    "TOOL_REGISTRY = {\n",
    "    'tools.calculator': ['multiply', 'add', 'divide'],\n",
    "    'tools.wikipedia': ['wikipedia']\n",
    "}\n",
    "\n",
    "def import_function(module_name, function_name):\n",
    "    \"\"\"Dynamically imports a function from a module.\n",
    "\n",
    "    Args:\n",
    "        module_name: The name of the module (e.g., \"my_module\").\n",
    "        function_name: The name of the function to import (e.g., \"my_function\").\n",
    "\n",
    "    Returns:\n",
    "        The imported function, or None if the module or function is not found.\n",
    "    \"\"\"\n",
    "    try:\n",
    "        module = importlib.import_module(module_name)\n",
    "        function = getattr(module, function_name)\n",
    "        return function\n",
    "    except (ImportError, AttributeError) as e:\n",
    "        print(f\"Error: Could not import function '{function_name}' from module '{module_name}'.\")\n",
    "        print(f\"Exception: {e}\")\n",
    "        return None\n",
    "\n",
    "tools = [import_function(module, function) for module,\n",
    "         functions in TOOL_REGISTRY.items() for function in functions]\n",
    "print(f\"Tools: {[tool.__name__ for tool in tools]}\")"
   ]
  },
  {
   "cell_type": "markdown",
   "metadata": {},
   "source": [
    "## Initialize the LLM\n",
    "\n",
    "We'll use Ollama with the Mistral-Nemo model."
   ]
  },
  {
   "cell_type": "code",
   "execution_count": 10,
   "metadata": {},
   "outputs": [],
   "source": [
    "llm = ChatOllama(\n",
    "    model=MODEL,\n",
    "    temperature=TEMPERATURE,\n",
    "    # base_url=\"http://host.docker.internal:11434\", # if running in the studio\n",
    ").bind_tools(tools)"
   ]
  },
  {
   "cell_type": "markdown",
   "metadata": {},
   "source": [
    "## Define the State and Load Prompts\n",
    "\n",
    "We'll define the state structure and load the system prompts for both the research agent and the tool selection phase."
   ]
  },
  {
   "cell_type": "code",
   "execution_count": 11,
   "metadata": {},
   "outputs": [],
   "source": [
    "class State(TypedDict):\n",
    "    messages: Annotated[list[BaseMessage], add_messages]\n",
    "    claim: str\n",
    "    # New field to track tool selections\n",
    "    tool_selections: dict\n",
    "    # {'name': tool name, 'args': {kwargs}, 'result': str}\n",
    "    evidence: list[dict]\n",
    "\n",
    "with open('prompts/research_agent_system_prompt.txt', 'r') as f:\n",
    "    sys_msg = SystemMessage(content=f.read())\n",
    "\n",
    "with open('prompts/tool_selection_prompt.txt', 'r') as f:\n",
    "    tool_selection_msg = SystemMessage(content=f.read())"
   ]
  },
  {
   "cell_type": "markdown",
   "metadata": {},
   "source": [
    "## Define the Graph Nodes\n",
    "\n",
    "Now we'll define the nodes for our LangGraph workflow."
   ]
  },
  {
   "cell_type": "code",
   "execution_count": 12,
   "metadata": {},
   "outputs": [],
   "source": [
    "def preprocessing(state: State):\n",
    "    \"\"\"\n",
    "    Preprocesses state before sending to the assistant for tool routing.\n",
    "    Currently, this just extracts the claim from the state and sets it as a HumanMessage\n",
    "    following the SystemMessage\n",
    "    \"\"\"\n",
    "    state['messages'] = [sys_msg, HumanMessage(content=state['claim'])]\n",
    "    return state\n",
    "\n",
    "def tool_selection(state: State) -> State:\n",
    "    \"\"\"\n",
    "    Analyzes the claim and determines which tools would be appropriate to use.\n",
    "    Returns a dictionary with tool names as keys and boolean values indicating\n",
    "    whether each tool should be used.\n",
    "    \"\"\"\n",
    "    # Create a message with the tool selection prompt and the claim\n",
    "    messages = [tool_selection_msg, HumanMessage(content=state['claim'])]\n",
    "    \n",
    "    # Get the LLM's response\n",
    "    response = llm.invoke(messages)\n",
    "    \n",
    "    # Extract the tool selections from the response\n",
    "    try:\n",
    "        # Try to parse the JSON directly from the response content\n",
    "        selections_data = json.loads(response.content)\n",
    "        tool_selections = selections_data.get('tool_selections', {})\n",
    "    except json.JSONDecodeError:\n",
    "        # If direct parsing fails, try to extract JSON from the text\n",
    "        content = response.content\n",
    "        start_idx = content.find('{')\n",
    "        end_idx = content.rfind('}') + 1\n",
    "        if start_idx >= 0 and end_idx > start_idx:\n",
    "            json_str = content[start_idx:end_idx]\n",
    "            try:\n",
    "                selections_data = json.loads(json_str)\n",
    "                tool_selections = selections_data.get('tool_selections', {})\n",
    "            except json.JSONDecodeError:\n",
    "                # If all parsing attempts fail, use default selections (all True)\n",
    "                print(\"Failed to parse tool selections, using defaults\")\n",
    "                tool_selections = {\n",
    "                    tool.__name__: {\"selected\": True, \"reasoning\": \"Default selection\"} \n",
    "                    for tool in tools\n",
    "                }\n",
    "        else:\n",
    "            # If no JSON-like structure is found, use default selections\n",
    "            tool_selections = {\n",
    "                tool.__name__: {\"selected\": True, \"reasoning\": \"Default selection\"} \n",
    "                for tool in tools\n",
    "            }\n",
    "    \n",
    "    # Print the tool selections for debugging\n",
    "    print(\"Tool Selections:\")\n",
    "    for tool_name, selection in tool_selections.items():\n",
    "        selected = selection.get('selected', False)\n",
    "        reasoning = selection.get('reasoning', 'No reasoning provided')\n",
    "        print(f\"  {tool_name}: {selected} - {reasoning}\")\n",
    "    \n",
    "    return {\"tool_selections\": tool_selections}\n",
    "\n",
    "def assistant(state: State) -> State:\n",
    "    \"\"\"\n",
    "    Uses the LLM to generate a response based on the claim and selected tools.\n",
    "    \"\"\"\n",
    "    # Filter the tools based on the tool selections\n",
    "    selected_tools = []\n",
    "    for tool in tools:\n",
    "        tool_name = tool.__name__\n",
    "        selection = state['tool_selections'].get(tool_name, {})\n",
    "        if selection.get('selected', False):\n",
    "            selected_tools.append(tool)\n",
    "    \n",
    "    # If no tools were selected, use all tools as a fallback\n",
    "    if not selected_tools:\n",
    "        selected_tools = tools\n",
    "        print(\"No tools were selected, using all tools as fallback\")\n",
    "    else:\n",
    "        print(f\"Using selected tools: {[tool.__name__ for tool in selected_tools]}\")\n",
    "    \n",
    "    # Bind only the selected tools to the LLM\n",
    "    llm_with_selected_tools = llm.bind_tools(selected_tools)\n",
    "    \n",
    "    # Generate a response using the selected tools\n",
    "    response = llm_with_selected_tools.invoke(state['messages'])\n",
    "    \n",
    "    return {\"messages\": response}\n",
    "\n",
    "def postprocessing(state: State) -> State:\n",
    "    \"\"\"\n",
    "    Scan the message history to extract tool calls and results into tuples:\n",
    "    (tool_name, tool_args, tool_result) for the 'evidence' list in the state\n",
    "    \"\"\"\n",
    "    evidence = []\n",
    "    for i in range(len(state['messages'])):\n",
    "        message = state['messages'][i]\n",
    "        if isinstance(message, AIMessage) and hasattr(message, 'tool_calls'):\n",
    "            for tool_call in message.tool_calls:\n",
    "                # Scan later messages for the corresponding ToolMessage\n",
    "                for j in range(i + 1, len(state['messages'])):\n",
    "                    next_message = state['messages'][j]\n",
    "                    if isinstance(next_message, ToolMessage) and next_message.tool_call_id == tool_call['id']:\n",
    "                        # Found the corresponding ToolMessage\n",
    "                        evidence.append({\n",
    "                            'name': tool_call['name'],\n",
    "                            'args': tool_call['args'],\n",
    "                            'result': next_message.content})\n",
    "                        break\n",
    "\n",
    "    return {'evidence': evidence}"
   ]
  },
  {
   "cell_type": "markdown",
   "metadata": {},
   "source": [
    "## Build and Compile the Graph\n",
    "\n",
    "Now we'll build the LangGraph workflow with the new tool selection node."
   ]
  },
  {
   "cell_type": "code",
   "execution_count": 13,
   "metadata": {},
   "outputs": [
    {
     "data": {
      "image/png": "[encoded data removed]",
      "text/plain": [
       "<IPython.core.display.Image object>"
      ]
     },
     "metadata": {},
     "output_type": "display_data"
    }
   ],
   "source": [
    "# Graph\n",
    "builder = StateGraph(State)\n",
    "\n",
    "# Define nodes: these do the work\n",
    "builder.add_node(\"preprocessing\", preprocessing)\n",
    "builder.add_node(\"tool_selection\", tool_selection)\n",
    "builder.add_node(\"assistant\", assistant)\n",
    "builder.add_node(\"tools\", ToolNode(tools))\n",
    "builder.add_node(\"postprocessing\", postprocessing)\n",
    "\n",
    "# Define edges: these determine how the control flow moves\n",
    "builder.add_edge(START, \"preprocessing\")\n",
    "builder.add_edge(\"preprocessing\", \"tool_selection\")\n",
    "builder.add_edge(\"tool_selection\", \"assistant\")\n",
    "builder.add_conditional_edges(\n",
    "    source=\"assistant\",\n",
    "    path=tools_condition,\n",
    "    path_map={'tools': 'tools', '__end__': 'postprocessing'}\n",
    ")\n",
    "builder.add_edge(\"tools\", \"assistant\")\n",
    "builder.add_edge(\"postprocessing\", END)\n",
    "\n",
    "agent = builder.compile()\n",
    "\n",
    "# Visualize the graph\n",
    "try:\n",
    "    display(Image(agent.get_graph().draw_mermaid_png()))\n",
    "except Exception as e:\n",
    "    print(f\"Could not display graph visualization: {e}\")"
   ]
  },
  {
   "cell_type": "markdown",
   "metadata": {},
   "source": [
    "## Test with a Factual Claim\n",
    "\n",
    "Let's test the agent with a factual claim that should use the Wikipedia tool."
   ]
  },
  {
   "cell_type": "code",
   "execution_count": 14,
   "metadata": {},
   "outputs": [
    {
     "name": "stdout",
     "output_type": "stream",
     "text": [
      "Tool Selections:\n",
      "  wikipedia: True - This tool can provide information about historical figures and their contributions.\n",
      "  multiply: False - No multiplication involved in this claim.\n",
      "  add: False - No addition involved in this claim.\n",
      "  divide: False - No division involved in this claim.\n",
      "Using selected tools: ['wikipedia']\n",
      "Using selected tools: ['wikipedia']\n",
      "\n",
      "Factual Claim Test:\n",
      "Claim: Albert Einstein developed the theory of relativity\n",
      "\n",
      "Tool Selections:\n",
      "  wikipedia: True - This tool can provide information about historical figures and their contributions.\n",
      "  multiply: False - No multiplication involved in this claim.\n",
      "  add: False - No addition involved in this claim.\n",
      "  divide: False - No division involved in this claim.\n",
      "\n",
      "Evidence:\n",
      "  Tool: wikipedia\n",
      "  Args: {'query': 'Theory of Relativity'}\n",
      "  Result: The theory of relativity usually encompasses two interrelated physics theories by Albert Einstein: special relativity and general relativity, proposed and published in 1905 and 1915, respectively. Spe...\n",
      "\n"
     ]
    }
   ],
   "source": [
    "factual_claim = \"Albert Einstein developed the theory of relativity\"\n",
    "factual_result = agent.invoke({\"claim\": factual_claim})\n",
    "\n",
    "print(\"\\nFactual Claim Test:\")\n",
    "print(f\"Claim: {factual_claim}\")\n",
    "print(\"\\nTool Selections:\")\n",
    "for tool_name, selection in factual_result.get('tool_selections', {}).items():\n",
    "    selected = selection.get('selected', False)\n",
    "    reasoning = selection.get('reasoning', 'No reasoning provided')\n",
    "    print(f\"  {tool_name}: {selected} - {reasoning}\")\n",
    "\n",
    "print(\"\\nEvidence:\")\n",
    "for evidence in factual_result.get('evidence', []):\n",
    "    print(f\"  Tool: {evidence['name']}\")\n",
    "    print(f\"  Args: {evidence['args']}\")\n",
    "    print(f\"  Result: {evidence['result'][:200]}...\" if len(evidence['result']) > 200 else f\"  Result: {evidence['result']}\")\n",
    "    print()"
   ]
  },
  {
   "cell_type": "markdown",
   "metadata": {},
   "source": [
    "## Test with a Mathematical Claim\n",
    "\n",
    "Now let's test with a mathematical claim that should use the calculator tools."
   ]
  },
  {
   "cell_type": "code",
   "execution_count": 15,
   "metadata": {},
   "outputs": [
    {
     "name": "stdout",
     "output_type": "stream",
     "text": [
      "Tool Selections:\n",
      "  wikipedia: False - Wikipedia is not relevant for mathematical calculations.\n",
      "  multiply: True - This tool can be used to verify the multiplication claim.\n",
      "  add: False - Addition is not applicable here.\n",
      "  divide: False - Division is not applicable here.\n",
      "Using selected tools: ['multiply']\n",
      "Using selected tools: ['multiply']\n",
      "\n",
      "Mathematical Claim Test:\n",
      "Claim: 12 multiplied by 10 equals 120\n",
      "\n",
      "Tool Selections:\n",
      "  wikipedia: False - Wikipedia is not relevant for mathematical calculations.\n",
      "  multiply: True - This tool can be used to verify the multiplication claim.\n",
      "  add: False - Addition is not applicable here.\n",
      "  divide: False - Division is not applicable here.\n",
      "\n",
      "Evidence:\n",
      "  Tool: multiply\n",
      "  Args: {'a': 12, 'b': 10}\n",
      "  Result: 120\n",
      "\n"
     ]
    }
   ],
   "source": [
    "math_claim = \"12 multiplied by 10 equals 120\"\n",
    "math_result = agent.invoke({\"claim\": math_claim})\n",
    "\n",
    "print(\"\\nMathematical Claim Test:\")\n",
    "print(f\"Claim: {math_claim}\")\n",
    "print(\"\\nTool Selections:\")\n",
    "for tool_name, selection in math_result.get('tool_selections', {}).items():\n",
    "    selected = selection.get('selected', False)\n",
    "    reasoning = selection.get('reasoning', 'No reasoning provided')\n",
    "    print(f\"  {tool_name}: {selected} - {reasoning}\")\n",
    "\n",
    "print(\"\\nEvidence:\")\n",
    "for evidence in math_result.get('evidence', []):\n",
    "    print(f\"  Tool: {evidence['name']}\")\n",
    "    print(f\"  Args: {evidence['args']}\")\n",
    "    print(f\"  Result: {evidence['result']}\")\n",
    "    print()"
   ]
  },
  {
   "cell_type": "markdown",
   "metadata": {},
   "source": [
    "## Test with a Mixed Claim\n",
    "\n",
    "Finally, let's test with a claim that might need multiple tools."
   ]
  },
  {
   "cell_type": "code",
   "execution_count": 16,
   "metadata": {},
   "outputs": [
    {
     "name": "stdout",
     "output_type": "stream",
     "text": [
      "Tool Selections:\n",
      "  wikipedia: False - This tool is not relevant as this is a mathematical calculation.\n",
      "  multiply: True - This tool is directly applicable to the multiplication operation involved in the claim.\n",
      "  add: False - There's no addition operation mentioned in the claim.\n",
      "  divide: False - No division operation is involved in the claim.\n",
      "Using selected tools: ['multiply']\n",
      "Using selected tools: ['multiply']\n",
      "\n",
      "Mixed Claim Test:\n",
      "Claim: If you multiply the distance from Earth to the Sun (93 million miles) by 2, you get 186 million miles\n",
      "\n",
      "Tool Selections:\n",
      "  wikipedia: False - This tool is not relevant as this is a mathematical calculation.\n",
      "  multiply: True - This tool is directly applicable to the multiplication operation involved in the claim.\n",
      "  add: False - There's no addition operation mentioned in the claim.\n",
      "  divide: False - No division operation is involved in the claim.\n",
      "\n",
      "Evidence:\n",
      "  Tool: multiply\n",
      "  Args: {'a': 93000000, 'b': 2}\n",
      "  Result: 186000000\n",
      "\n"
     ]
    }
   ],
   "source": [
    "mixed_claim = \"If you multiply the distance from Earth to the Sun (93 million miles) by 2, you get 186 million miles\"\n",
    "mixed_result = agent.invoke({\"claim\": mixed_claim})\n",
    "\n",
    "print(\"\\nMixed Claim Test:\")\n",
    "print(f\"Claim: {mixed_claim}\")\n",
    "print(\"\\nTool Selections:\")\n",
    "for tool_name, selection in mixed_result.get('tool_selections', {}).items():\n",
    "    selected = selection.get('selected', False)\n",
    "    reasoning = selection.get('reasoning', 'No reasoning provided')\n",
    "    print(f\"  {tool_name}: {selected} - {reasoning}\")\n",
    "\n",
    "print(\"\\nEvidence:\")\n",
    "for evidence in mixed_result.get('evidence', []):\n",
    "    print(f\"  Tool: {evidence['name']}\")\n",
    "    print(f\"  Args: {evidence['args']}\")\n",
    "    print(f\"  Result: {evidence['result'][:200]}...\" if len(evidence['result']) > 200 else f\"  Result: {evidence['result']}\")\n",
    "    print()"
   ]
  },
  {
   "cell_type": "markdown",
   "metadata": {},
   "source": [
    "## Examine the Full Message History\n",
    "\n",
    "Let's look at the full message history for one of our examples to see the complete workflow."
   ]
  },
  {
   "cell_type": "code",
   "execution_count": 17,
   "metadata": {},
   "outputs": [
    {
     "name": "stdout",
     "output_type": "stream",
     "text": [
      "Full Message History for Factual Claim:\n",
      "\n",
      "Message 1:\n",
      "Type: SystemMessage\n",
      "Content: You are an **Evidence Retrieval Agent**. Your role is to retrieve supporting or contradictory evidence for a given claim using the tools available to you.  \n",
      "\n",
      "### **Rules:**  \n",
      "1. **Do Not Evaluate the ...\n",
      "\n",
      "Message 2:\n",
      "Type: HumanMessage\n",
      "Content: Albert Einstein developed the theory of relativity\n",
      "\n",
      "Message 3:\n",
      "Type: AIMessage\n",
      "Content: \n",
      "Tool Calls:\n",
      "  Name: wikipedia\n",
      "  Args: {'query': 'Theory of Relativity'}\n",
      "\n",
      "Message 4:\n",
      "Type: ToolMessage\n",
      "Content: The theory of relativity usually encompasses two interrelated physics theories by Albert Einstein: special relativity and general relativity, proposed and published in 1905 and 1915, respectively. Spe...\n",
      "\n",
      "Message 5:\n",
      "Type: AIMessage\n",
      "Content: Albert Einstein developed two interconnected theories known collectively as the theory of relativity:\n",
      "\n",
      "1. **Special Relativity (1905)**: This theory applies to all physical phenomena in the absence of...\n"
     ]
    }
   ],
   "source": [
    "print(\"Full Message History for Factual Claim:\")\n",
    "for i, message in enumerate(factual_result.get('messages', [])):\n",
    "    print(f\"\\nMessage {i+1}:\")\n",
    "    print(f\"Type: {type(message).__name__}\")\n",
    "    if hasattr(message, 'content'):\n",
    "        if isinstance(message.content, str):\n",
    "            print(f\"Content: {message.content[:200]}...\" if len(message.content) > 200 else f\"Content: {message.content}\")\n",
    "        else:\n",
    "            print(f\"Content: {message.content}\")\n",
    "    if hasattr(message, 'tool_calls') and message.tool_calls:\n",
    "        print(\"Tool Calls:\")\n",
    "        for tool_call in message.tool_calls:\n",
    "            print(f\"  Name: {tool_call['name']}\")\n",
    "            print(f\"  Args: {tool_call['args']}\")"
   ]
  },
  {
   "cell_type": "markdown",
   "metadata": {},
   "source": [
    "## Conclusion\n",
    "\n",
    "The enhanced research agent now follows a two-step process:\n",
    "\n",
    "1. First, it analyzes the claim and determines which tools would be most appropriate to use\n",
    "2. Then, it uses only the selected tools to gather evidence about the claim\n",
    "\n",
    "This approach provides several benefits:\n",
    "- Increased transparency into the agent's decision-making process\n",
    "- More efficient use of tools, only calling those that are relevant\n",
    "- Better control over the evidence-gathering process\n",
    "- Improved accuracy by focusing on the most appropriate tools for each claim"
   ]
  }
 ],
 "metadata": {
  "kernelspec": {
   "display_name": "venv",
   "language": "python",
   "name": "python3"
  },
  "language_info": {
   "codemirror_mode": {
    "name": "ipython",
    "version": 3
   },
   "file_extension": ".py",
   "mimetype": "text/x-python",
   "name": "python",
   "nbconvert_exporter": "python",
   "pygments_lexer": "ipython3",
   "version": "3.11.4"
  }
 },
 "nbformat": 4,
 "nbformat_minor": 4
}
