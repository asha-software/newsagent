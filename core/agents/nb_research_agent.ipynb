{
 "cells": [
  {
   "cell_type": "code",
   "execution_count": 25,
   "metadata": {},
   "outputs": [],
   "source": [
    "import sys\n",
    "import os\n",
    "\n",
    "sys.path.insert(0, os.path.abspath('../..'))\n",
    "\n",
    "from core.agents.tools.remote_tool import create_remote_tool\n",
    "\n",
    "MOCK_METHODS = {\n",
    "    \"get_article\": {\n",
    "        \"description\": \"Get information about a news article\",\n",
    "        \"input_types\": [str],  # URL\n",
    "        \"mock_response\": {\n",
    "            \"title\": \"News Article\",\n",
    "            \"author\": \"John Doe\",\n",
    "            \"published_date\": \"2025-03-22\",\n",
    "            \"content\": \"This is an example news article content.\"\n",
    "        }\n",
    "    }\n",
    "}\n",
    "\n",
    "tool_instance = create_remote_tool(\n",
    "        name=\"NewsAPI\",\n",
    "        url=\"https://example.com/api\",\n",
    "        api_key=\"test_key\",\n",
    "        mock=True,\n",
    "        mock_methods=MOCK_METHODS\n",
    "    )"
   ]
  },
  {
   "cell_type": "code",
   "execution_count": 26,
   "metadata": {},
   "outputs": [
    {
     "data": {
      "text/plain": [
       "False"
      ]
     },
     "execution_count": 26,
     "metadata": {},
     "output_type": "execute_result"
    }
   ],
   "source": [
    "from dotenv import load_dotenv\n",
    "import importlib\n",
    "import os\n",
    "from langchain_core.messages import AIMessage, BaseMessage, HumanMessage, ToolMessage, SystemMessage\n",
    "from langchain_ollama import ChatOllama\n",
    "from langgraph.graph import StateGraph, START, END\n",
    "from langgraph.graph.message import add_messages\n",
    "from langgraph.prebuilt import ToolNode, tools_condition\n",
    "from typing import Annotated, TypedDict\n",
    "\n",
    "\n",
    "MODEL = \"mistral-nemo\"\n",
    "TEMPERATURE = 0\n",
    "load_dotenv('../.env', override=True)"
   ]
  },
  {
   "cell_type": "code",
   "execution_count": 27,
   "metadata": {},
   "outputs": [
    {
     "name": "stdout",
     "output_type": "stream",
     "text": [
      "Tools: ['remote_tool']\n"
     ]
    }
   ],
   "source": [
    "TOOL_REGISTRY = {\n",
    "    # 'tools.calculator': ['multiply', 'add', 'divide'],\n",
    "    # 'tools.wikipedia': ['query'],\n",
    "    'core.agents.tools.remote_tool': ['remote_tool']\n",
    "}\n",
    "\n",
    "def import_function(module_name, function_name):\n",
    "    \"\"\"Dynamically imports a function from a module.\n",
    "\n",
    "    Args:\n",
    "        module_name: The name of the module (e.g., \"my_module\").\n",
    "        function_name: The name of the function to import (e.g., \"my_function\").\n",
    "\n",
    "    Returns:\n",
    "        The imported function, or None if the module or function is not found.\n",
    "    \"\"\"\n",
    "    try:\n",
    "        module = importlib.import_module(module_name)\n",
    "        function = getattr(module, function_name)\n",
    "        return function\n",
    "    except (ImportError, AttributeError):\n",
    "        print(f\"Error: Could not import function '{function_name}' from module '{module_name}'.\")\n",
    "        return None\n",
    "\n",
    "tools = [import_function(module, function) for module, functions in TOOL_REGISTRY.items() for function in functions]\n",
    "# Filter out None values in case import failed\n",
    "tools = [tool for tool in tools if tool is not None]\n",
    "if tools:\n",
    "    print(f\"Tools: {[tool.__name__ for tool in tools]}\")"
   ]
  },
  {
   "cell_type": "code",
   "execution_count": 28,
   "metadata": {},
   "outputs": [],
   "source": [
    "# Only bind tools if we have valid tools\n",
    "if tools:\n",
    "    llm = ChatOllama(\n",
    "        model=MODEL, \n",
    "        temperature=TEMPERATURE,\n",
    "        # base_url=\"http://host.docker.internal:11434\", # if running in the studio\n",
    "        ).bind_tools([tool for tool in tools])\n",
    "else:\n",
    "    llm = ChatOllama(\n",
    "        model=MODEL, \n",
    "        temperature=TEMPERATURE,\n",
    "        # base_url=\"http://host.docker.internal:11434\", # if running in the studio\n",
    "        )\n",
    "\n",
    "class State(TypedDict):\n",
    "    messages: Annotated[list[BaseMessage], add_messages]\n",
    "    claim: str\n",
    "    evidence: list[dict]  # {'name': tool name, 'args': {kwargs}, 'result': str}"
   ]
  },
  {
   "cell_type": "code",
   "execution_count": 29,
   "metadata": {},
   "outputs": [],
   "source": [
    "from IPython.display import Image, display\n",
    "\n",
    "\n",
    "\n",
    "with open('prompts/research_agent_system_prompt.txt', 'r') as f:\n",
    "    sys_msg = SystemMessage(content=f.read())\n",
    "\n",
    "def preprocessing(state: State):\n",
    "    \"\"\"\n",
    "    Preprocesses state before sending to the assistant for tool routing.\n",
    "    Currently, this just extracts the claim from the state and sets it as a HumanMessage\n",
    "    following the SystemMessage\n",
    "    \"\"\"\n",
    "    return {\"messages\": HumanMessage(content=state['claim'])}\n",
    "\n",
    "def assistant(state: State) -> State:\n",
    "    response = llm.invoke(state['messages'])\n",
    "    return {\"messages\": response}\n",
    "\n",
    "def postprocessing(state: State) -> State:\n",
    "    \"\"\"\n",
    "    Scan the message history to extract tool calls and results into tuples:\n",
    "    (tool_name, tool_args, tool_result) for the 'evidence' list in the state\n",
    "    \"\"\"\n",
    "    \n",
    "    evidence = []\n",
    "    for i in range(len(state['messages'])):\n",
    "        message = state['messages'][i]\n",
    "        if isinstance(message, AIMessage) and hasattr(message, 'tool_calls'):\n",
    "            for tool_call in message.tool_calls:\n",
    "                # Scan later messages for the corresponding ToolMessage\n",
    "                for j in range(i + 1, len(state['messages'])):\n",
    "                    next_message = state['messages'][j]\n",
    "                    if isinstance(next_message, ToolMessage) and next_message.tool_call_id == tool_call['id']:\n",
    "                        # Found the corresponding ToolMessage\n",
    "                        evidence.append({\n",
    "                            'name': tool_call['name'], \n",
    "                            'args': tool_call['args'], \n",
    "                            'result': next_message.content})\n",
    "                        break\n",
    "\n",
    "    return {'evidence': evidence}\n",
    "    # return state\n",
    "\n",
    "\n",
    "# Graph\n",
    "builder = StateGraph(State)\n",
    "\n",
    "# Define nodes: these do the work\n",
    "builder.add_node(\"preprocessing\", preprocessing)\n",
    "builder.add_node(\"assistant\", assistant)\n",
    "builder.add_node(\"tools\", ToolNode(tools))\n",
    "builder.add_node(\"postprocessing\", postprocessing)\n",
    "\n",
    "# Define edges: these determine how the control flow moves\n",
    "builder.add_edge(START, \"preprocessing\")\n",
    "builder.add_edge(\"preprocessing\", \"assistant\")\n",
    "builder.add_conditional_edges(\n",
    "    source=\"assistant\",\n",
    "    path=tools_condition,\n",
    "    path_map={'tools': 'tools', '__end__': 'postprocessing'}\n",
    ")\n",
    "builder.add_edge(\"tools\", \"assistant\")\n",
    "builder.add_edge(\"postprocessing\", END)\n",
    "\n",
    "react_graph = builder.compile()\n",
    "\n",
    "# Show\n",
    "# display(Image(react_graph.get_graph(xray=False).draw_mermaid_png()))"
   ]
  },
  {
   "cell_type": "code",
   "execution_count": 30,
   "metadata": {},
   "outputs": [],
   "source": [
    "# from langchain_core.messages import HumanMessage, SystemMessage\n",
    "claim = \"1/3 is bigger than 1/4.\"\n",
    "# initial_state = {\"claim\": claim}\n",
    "# final_state = graph.invoke(initial_state)\n",
    "\n",
    "messages = [sys_msg]\n",
    "messages = react_graph.invoke({\"messages\": messages, \"claim\": claim})"
   ]
  },
  {
   "cell_type": "code",
   "execution_count": 31,
   "metadata": {},
   "outputs": [
    {
     "name": "stdout",
     "output_type": "stream",
     "text": [
      "================================\u001b[1m System Message \u001b[0m================================\n",
      "\n",
      "You are an **Evidence Retrieval Agent**. Your role is to retrieve supporting or contradictory evidence for a given claim using the tools available to you.  \n",
      "\n",
      "### **Rules:**  \n",
      "1. **Do Not Evaluate the Claim** – Your task is to retrieve evidence, not to judge the claim's truth.  \n",
      "2. **Select and Use Tools Strategically** – Based on the claim, think carefully which tools would help, and construct the correct tool calls to retrieve relevant evidence.  \n",
      "3. **Return Only Tool Messages** – Your output should consist solely of tool calls with properly structured arguments. Do not generate natural language explanations.  \n",
      "4. **Handle Ambiguity Thoughtfully** – If the claim is unclear, attempt a best-guess search or request clarification through a tool call if applicable.  \n",
      "5. **Retrieve Evidence from Multiple Perspectives** – If conflicting evidence exists, return both supporting and contradictory sources.  \n",
      "\n",
      "### **Behavior:**  \n",
      "- Use available tools efficiently to retrieve the most relevant information.  \n",
      "- Use numeric tools such as calculators for numeric claims\n",
      "- Do not summarize, interpret, or filter the evidence—simply retrieve and present it through tool calls.  \n",
      "\n",
      "Your sole function is to query tools and return raw evidence. You do not form conclusions or engage in reasoning about the claim.\n",
      "\n",
      "### Examples\n",
      "Claim: \"The Eiffel Tower is located in Paris.\"\n",
      "Tool calls: [{\"tool\": \"wikipedia\", \"args\": {\"query\": \"Eiffel Tower\"}}]\n",
      "\n",
      "Claim: \"The U.S. GDP increased 3% this year, but this is down from a 3.6% increase last year, representing a 33% decline in growth rate.\"\n",
      "Tool calls: [\n",
      "    {\"tool\": \"web_search\", \"args\": {\"query\": \"united states GDP increase this year\"}}, \n",
      "    {\"tool\": \"web_search\", \"args\": {\"query\": \"united states GDP increase last year\"}},\n",
      "    {\"tool\": \"calculator\", \"args\": {\"divide\": \"a\": 3, \"b\": 3.6}}\n",
      "]\n",
      "\n",
      "Claim: \"The Great Wall of China is the only human-made structure visible from the Moon.\"\n",
      "Tool Calls: [\n",
      "  {\"tool\": \"Wikipedia\", \"query\": \"Great Wall of China visibility from space\"},\n",
      "  {\"tool\": \"Web Search\", \"query\": \"scientific consensus on structures visible from the Moon\"}\n",
      "]  \n",
      "\n",
      "### User's Claim:\n",
      "================================\u001b[1m Human Message \u001b[0m=================================\n",
      "\n",
      "1/3 is bigger than 1/4.\n",
      "==================================\u001b[1m Ai Message \u001b[0m==================================\n",
      "Tool Calls:\n",
      "  calculator (1bcd9333-e876-4db1-b247-188398aa1f71)\n",
      " Call ID: 1bcd9333-e876-4db1-b247-188398aa1f71\n",
      "  Args:\n",
      "    greater: {'a': 0.25, 'b': 0.25}\n",
      "=================================\u001b[1m Tool Message \u001b[0m=================================\n",
      "Name: calculator\n",
      "\n",
      "Error: calculator is not a valid tool, try one of [remote_tool].\n",
      "==================================\u001b[1m Ai Message \u001b[0m==================================\n",
      "\n",
      "I apologize for the confusion earlier. Let me correct that.\n",
      "\n",
      "1/3 (which is approximately 0.333) is indeed bigger than 1/4 (which is exactly 0.25).\n"
     ]
    }
   ],
   "source": [
    "for m in messages['messages']:\n",
    "    m.pretty_print()"
   ]
  },
  {
   "cell_type": "code",
   "execution_count": 32,
   "metadata": {},
   "outputs": [
    {
     "name": "stdout",
     "output_type": "stream",
     "text": [
      "{'claim': '1/3 is bigger than 1/4.',\n",
      " 'evidence': [{'args': {'greater': {'a': 0.25, 'b': 0.25}},\n",
      "               'name': 'calculator',\n",
      "               'result': 'Error: calculator is not a valid tool, try one of '\n",
      "                         '[remote_tool].'}],\n",
      " 'messages': [SystemMessage(content='You are an **Evidence Retrieval Agent**. Your role is to retrieve supporting or contradictory evidence for a given claim using the tools available to you.  \\n\\n### **Rules:**  \\n1. **Do Not Evaluate the Claim** – Your task is to retrieve evidence, not to judge the claim\\'s truth.  \\n2. **Select and Use Tools Strategically** – Based on the claim, think carefully which tools would help, and construct the correct tool calls to retrieve relevant evidence.  \\n3. **Return Only Tool Messages** – Your output should consist solely of tool calls with properly structured arguments. Do not generate natural language explanations.  \\n4. **Handle Ambiguity Thoughtfully** – If the claim is unclear, attempt a best-guess search or request clarification through a tool call if applicable.  \\n5. **Retrieve Evidence from Multiple Perspectives** – If conflicting evidence exists, return both supporting and contradictory sources.  \\n\\n### **Behavior:**  \\n- Use available tools efficiently to retrieve the most relevant information.  \\n- Use numeric tools such as calculators for numeric claims\\n- Do not summarize, interpret, or filter the evidence—simply retrieve and present it through tool calls.  \\n\\nYour sole function is to query tools and return raw evidence. You do not form conclusions or engage in reasoning about the claim.\\n\\n### Examples\\nClaim: \"The Eiffel Tower is located in Paris.\"\\nTool calls: [{\"tool\": \"wikipedia\", \"args\": {\"query\": \"Eiffel Tower\"}}]\\n\\nClaim: \"The U.S. GDP increased 3% this year, but this is down from a 3.6% increase last year, representing a 33% decline in growth rate.\"\\nTool calls: [\\n    {\"tool\": \"web_search\", \"args\": {\"query\": \"united states GDP increase this year\"}}, \\n    {\"tool\": \"web_search\", \"args\": {\"query\": \"united states GDP increase last year\"}},\\n    {\"tool\": \"calculator\", \"args\": {\"divide\": \"a\": 3, \"b\": 3.6}}\\n]\\n\\nClaim: \"The Great Wall of China is the only human-made structure visible from the Moon.\"\\nTool Calls: [\\n  {\"tool\": \"Wikipedia\", \"query\": \"Great Wall of China visibility from space\"},\\n  {\"tool\": \"Web Search\", \"query\": \"scientific consensus on structures visible from the Moon\"}\\n]  \\n\\n### User\\'s Claim:', additional_kwargs={}, response_metadata={}, id='14bf0da7-d27f-41fd-899d-a5b6f6238768'),\n",
      "              HumanMessage(content='1/3 is bigger than 1/4.', additional_kwargs={}, response_metadata={}, id='d002abfc-dfce-48e2-b881-ef3b32c02f32'),\n",
      "              AIMessage(content='', additional_kwargs={}, response_metadata={'model': 'mistral-nemo', 'created_at': '2025-03-23T19:31:45.580599Z', 'done': True, 'done_reason': 'stop', 'total_duration': 6503747125, 'load_duration': 712897375, 'prompt_eval_count': 591, 'prompt_eval_duration': 4020983708, 'eval_count': 32, 'eval_duration': 1762896875, 'message': Message(role='assistant', content='', images=None, tool_calls=None)}, id='run-752c3397-3ac5-42ea-8d5e-83884119b1e9-0', tool_calls=[{'name': 'calculator', 'args': {'greater': {'a': 0.25, 'b': 0.25}}, 'id': '1bcd9333-e876-4db1-b247-188398aa1f71', 'type': 'tool_call'}], usage_metadata={'input_tokens': 591, 'output_tokens': 32, 'total_tokens': 623}),\n",
      "              ToolMessage(content='Error: calculator is not a valid tool, try one of [remote_tool].', name='calculator', id='709bb5ad-9028-4e7b-bebf-882337900555', tool_call_id='1bcd9333-e876-4db1-b247-188398aa1f71', status='error'),\n",
      "              AIMessage(content='I apologize for the confusion earlier. Let me correct that.\\n\\n1/3 (which is approximately 0.333) is indeed bigger than 1/4 (which is exactly 0.25).', additional_kwargs={}, response_metadata={'model': 'mistral-nemo', 'created_at': '2025-03-23T19:31:48.575457Z', 'done': True, 'done_reason': 'stop', 'total_duration': 2989150708, 'load_duration': 10455583, 'prompt_eval_count': 70, 'prompt_eval_duration': 549420584, 'eval_count': 45, 'eval_duration': 2427895083, 'message': Message(role='assistant', content='I apologize for the confusion earlier. Let me correct that.\\n\\n1/3 (which is approximately 0.333) is indeed bigger than 1/4 (which is exactly 0.25).', images=None, tool_calls=None)}, id='run-c38762d9-babc-47dc-b056-8ac6e3bccd28-0', usage_metadata={'input_tokens': 70, 'output_tokens': 45, 'total_tokens': 115})]}\n"
     ]
    }
   ],
   "source": [
    "from pprint import pprint\n",
    "pprint(messages)"
   ]
  },
  {
   "cell_type": "code",
   "execution_count": 33,
   "metadata": {},
   "outputs": [],
   "source": [
    "response = react_graph.nodes['assistant'].invoke(\n",
    "    {\"messages\": [HumanMessage(content=\"hi there\")]}\n",
    ")"
   ]
  },
  {
   "cell_type": "code",
   "execution_count": 34,
   "metadata": {},
   "outputs": [
    {
     "name": "stdout",
     "output_type": "stream",
     "text": [
      "{'messages': AIMessage(content='Hello! How can I assist you today?', additional_kwargs={}, response_metadata={'model': 'mistral-nemo', 'created_at': '2025-03-23T19:31:49.66056Z', 'done': True, 'done_reason': 'stop', 'total_duration': 1052529666, 'load_duration': 13540250, 'prompt_eval_count': 68, 'prompt_eval_duration': 548689750, 'eval_count': 10, 'eval_duration': 489844333, 'message': Message(role='assistant', content='Hello! How can I assist you today?', images=None, tool_calls=None)}, id='run-7fc1d54e-9db1-4e4f-ac7a-296e8be1f5c4-0', usage_metadata={'input_tokens': 68, 'output_tokens': 10, 'total_tokens': 78})}\n"
     ]
    }
   ],
   "source": [
    "print(response)"
   ]
  },
  {
   "cell_type": "code",
   "execution_count": 35,
   "metadata": {},
   "outputs": [
    {
     "name": "stdout",
     "output_type": "stream",
     "text": [
      "Direct tool result:\n",
      "{'author': 'John Doe',\n",
      " 'content': 'This is an example news article content.',\n",
      " 'published_date': '2025-03-22',\n",
      " 'title': 'News Article'}\n"
     ]
    }
   ],
   "source": [
    "# Test the remote_tool function directly\n",
    "from core.agents.tools.remote_tool import remote_tool\n",
    "\n",
    "# Test with a sample URL\n",
    "sample_url = \"https://example.com/news/article123\"\n",
    "result = remote_tool(sample_url)\n",
    "print(\"Direct tool result:\")\n",
    "pprint(result)"
   ]
  },
  {
   "cell_type": "code",
   "execution_count": 36,
   "metadata": {},
   "outputs": [
    {
     "name": "stdout",
     "output_type": "stream",
     "text": [
      "Testing claim: The news article was written by John Doe.\n",
      "\n",
      "Message exchange:\n",
      "================================\u001b[1m System Message \u001b[0m================================\n",
      "\n",
      "You are an **Evidence Retrieval Agent**. Your role is to retrieve supporting or contradictory evidence for a given claim using the tools available to you.  \n",
      "\n",
      "### **Rules:**  \n",
      "1. **Do Not Evaluate the Claim** – Your task is to retrieve evidence, not to judge the claim's truth.  \n",
      "2. **Select and Use Tools Strategically** – Based on the claim, think carefully which tools would help, and construct the correct tool calls to retrieve relevant evidence.  \n",
      "3. **Return Only Tool Messages** – Your output should consist solely of tool calls with properly structured arguments. Do not generate natural language explanations.  \n",
      "4. **Handle Ambiguity Thoughtfully** – If the claim is unclear, attempt a best-guess search or request clarification through a tool call if applicable.  \n",
      "5. **Retrieve Evidence from Multiple Perspectives** – If conflicting evidence exists, return both supporting and contradictory sources.  \n",
      "\n",
      "### **Behavior:**  \n",
      "- Use available tools efficiently to retrieve the most relevant information.  \n",
      "- Use numeric tools such as calculators for numeric claims\n",
      "- Do not summarize, interpret, or filter the evidence—simply retrieve and present it through tool calls.  \n",
      "\n",
      "Your sole function is to query tools and return raw evidence. You do not form conclusions or engage in reasoning about the claim.\n",
      "\n",
      "### Examples\n",
      "Claim: \"The Eiffel Tower is located in Paris.\"\n",
      "Tool calls: [{\"tool\": \"wikipedia\", \"args\": {\"query\": \"Eiffel Tower\"}}]\n",
      "\n",
      "Claim: \"The U.S. GDP increased 3% this year, but this is down from a 3.6% increase last year, representing a 33% decline in growth rate.\"\n",
      "Tool calls: [\n",
      "    {\"tool\": \"web_search\", \"args\": {\"query\": \"united states GDP increase this year\"}}, \n",
      "    {\"tool\": \"web_search\", \"args\": {\"query\": \"united states GDP increase last year\"}},\n",
      "    {\"tool\": \"calculator\", \"args\": {\"divide\": \"a\": 3, \"b\": 3.6}}\n",
      "]\n",
      "\n",
      "Claim: \"The Great Wall of China is the only human-made structure visible from the Moon.\"\n",
      "Tool Calls: [\n",
      "  {\"tool\": \"Wikipedia\", \"query\": \"Great Wall of China visibility from space\"},\n",
      "  {\"tool\": \"Web Search\", \"query\": \"scientific consensus on structures visible from the Moon\"}\n",
      "]  \n",
      "\n",
      "### User's Claim:\n",
      "================================\u001b[1m Human Message \u001b[0m=================================\n",
      "\n",
      "The news article was written by John Doe.\n",
      "==================================\u001b[1m Ai Message \u001b[0m==================================\n",
      "Tool Calls:\n",
      "  remote_tool (15eca595-cb81-40a3-a4a2-6ac359cfa0af)\n",
      " Call ID: 15eca595-cb81-40a3-a4a2-6ac359cfa0af\n",
      "  Args:\n",
      "    url: https://example.com/news-article\n",
      "=================================\u001b[1m Tool Message \u001b[0m=================================\n",
      "Name: remote_tool\n",
      "\n",
      "{\"title\": \"News Article\", \"author\": \"John Doe\", \"published_date\": \"2025-03-22\", \"content\": \"This is an example news article content.\"}\n",
      "==================================\u001b[1m Ai Message \u001b[0m==================================\n",
      "\n",
      "Here's the information about the news article:\n",
      "\n",
      "**Title:** News Article\n",
      "**Author:** John Doe\n",
      "**Published Date:** March 22, 2025\n",
      "\n",
      "**Content:**\n",
      "\"This is an example news article content.\"\n",
      "\n",
      "Would you like to know anything else about this article?\n",
      "\n",
      "Evidence collected:\n",
      "[{'args': {'url': 'https://example.com/news-article'},\n",
      "  'name': 'remote_tool',\n",
      "  'result': '{\"title\": \"News Article\", \"author\": \"John Doe\", \"published_date\": '\n",
      "            '\"2025-03-22\", \"content\": \"This is an example news article '\n",
      "            'content.\"}'}]\n"
     ]
    }
   ],
   "source": [
    "# Test using the tool with the research agent\n",
    "test_claim = \"The news article was written by John Doe.\"\n",
    "print(f\"Testing claim: {test_claim}\")\n",
    "\n",
    "# Reset messages with system message\n",
    "test_messages = [sys_msg]\n",
    "# Invoke the graph with the test claim\n",
    "test_result = react_graph.invoke({\"messages\": test_messages, \"claim\": test_claim})\n",
    "\n",
    "# Print the messages\n",
    "print(\"\\nMessage exchange:\")\n",
    "for m in test_result['messages']:\n",
    "    m.pretty_print()\n",
    "\n",
    "# Print the evidence collected\n",
    "print(\"\\nEvidence collected:\")\n",
    "pprint(test_result['evidence'])"
   ]
  },
  {
   "cell_type": "code",
   "execution_count": null,
   "metadata": {},
   "outputs": [],
   "source": []
  }
 ],
 "metadata": {
  "kernelspec": {
   "display_name": "venv",
   "language": "python",
   "name": "python3"
  },
  "language_info": {
   "codemirror_mode": {
    "name": "ipython",
    "version": 3
   },
   "file_extension": ".py",
   "mimetype": "text/x-python",
   "name": "python",
   "nbconvert_exporter": "python",
   "pygments_lexer": "ipython3",
   "version": "3.11.4"
  }
 },
 "nbformat": 4,
 "nbformat_minor": 2
}
