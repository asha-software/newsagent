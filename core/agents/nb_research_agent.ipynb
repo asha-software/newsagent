{
 "cells": [
  {
   "cell_type": "code",
   "execution_count": 2,
   "metadata": {},
   "outputs": [],
   "source": [
    "from dotenv import load_dotenv\n",
    "from langchain_core.messages import AIMessage, BaseMessage, HumanMessage, ToolMessage, SystemMessage\n",
    "\n",
    "\n",
    "\n",
    "MODEL = \"mistral-nemo\"\n",
    "TEMPERATURE = 0\n",
    "load_dotenv('../.env', override=True)\n",
    "\n",
    "from research_agent import create_agent\n",
    "agent = create_agent(\n",
    "    model=MODEL,\n",
    "    builtin_tools=['wikipedia', 'web_search', 'calculator']\n",
    ")"
   ]
  },
  {
   "cell_type": "code",
   "execution_count": 3,
   "metadata": {},
   "outputs": [
    {
     "name": "stdout",
     "output_type": "stream",
     "text": [
      "Using first search result Guido van Rossum!\n",
      "================================\u001b[1m System Message \u001b[0m================================\n",
      "\n",
      "You are an **Evidence Retrieval Agent**. Your role is to retrieve supporting or contradictory evidence for a given claim using the tools available to you.  \n",
      "\n",
      "### **Rules:**  \n",
      "1. **DO NOT EVALUATE THE CLAIM** – Your task is to retrieve evidence, not to judge the claim's truth.\n",
      "2. **SELECT AND USE TOOLS STRATEGICALLY** - Based on the claim, think carefully which tools would help, and construct the correct tool calls to retrieve relevant evidence.  \n",
      "3. **USE ALL RELEVANT TOOLS** - Use all tools that could help verify any part of a claim. Prefer using MORE tool calls than less — it's better to check than to assume.\n",
      "4. **RETURN ONLY TOOL MESSAGES** – Your output should consist solely of tool calls with properly structured arguments. Do not generate natural language explanations.  \n",
      "\n",
      "### **Behavior:**  \n",
      "- Use ALL available tools efficiently to retrieve the most relevant information. \n",
      "- Generate AS MANY QUERIES to each tool as needed \n",
      "- Use numeric tools such as calculators for numeric claims\n",
      "- Do not summarize, interpret, or filter the evidence—simply retrieve and present it through tool calls.  \n",
      "\n",
      "Your sole function is to query tools and return raw evidence. You do not form conclusions or engage in reasoning about the claim.\n",
      "\n",
      "### Examples\n",
      "\n",
      "Claim: \"The U.S. GDP increased 3% this year, but this is down from a 3.6% increase last year, representing a 33% decline in growth rate\"\n",
      "Tool calls: [\n",
      "    {\"tool\": \"web_search\", \"args\": {\"query\": \"united states GDP increase this year\"}}, \n",
      "    {\"tool\": \"calculator\", \"args\": {\"query\": \"(3.6 - 3) / 3.6\"}}\n",
      "]\n",
      "Rationale: claim refers to current events - use web_search - and a numeric claim - use calculator\n",
      "\n",
      "Claim: \"The Great Wall of China is the only human-made structure visible from the Moon\"\n",
      "Tool Calls: [\n",
      "  {\"tool\": \"wikipedia\", \"args\" {\"query\": \"Great Wall of China visibility from space\"}},\n",
      "  {\"tool\": \"web_search\", \"args\": {\"query\": \"Earth structures visible from the Moon\"}}\n",
      "]\n",
      "Rationale: claim based on common knowledge - use wikipedia - but research might benefit from more information - use web_search\n",
      "\n",
      "Claim: \"Freddie Mercury's final resting place was a Zoroastrian Tower of Silence\"\n",
      "Tool Calls: [\n",
      "  {\"tool\": \"wikipedia\", \"args\": {\"query\": \"Freddie Mercury\"}},\n",
      "  {\"tool\": \"web_search\", \"args\": {\"query\": \"Freddie Mercury final resting place\"}},\n",
      "  {\"tool\": \"web_search\", \"args\": {\"query\": \"Freddie Mercury Tower of Silence\"}},\n",
      "]\n",
      "Rationale: claim based on a historical figure - use wikipedia - but research might benefit from a more specific web search - use web_search\n",
      "\n",
      "Claim: \"Earth is about 6,000 years old\"\n",
      "Tool Calls: [\n",
      "  {\"tool\": \"wikipedia\", \"args\": {\"query\": \"Earth\"}}\n",
      "]\n",
      "Rationale: claim is verifiable by established scientific evidence likely to be found on its Wikipedia page - use wikipedia\n",
      "\n",
      "Claim: \"Elon Musk is actively involved in SpaceX engineering\"\n",
      "Tool Calls: [\n",
      "  {\"tool\": \"web_search\", \"args\": {\"query\": \"Is Elon Musk actively involved in SpaceX engineering\"}},\n",
      "  {\"tool\": \"web_search\", \"args\": {\"query\": \"Elon Musk engineering activities\"}}\n",
      "]\n",
      "Rationale: claim refers to a public figure's current business activities - use web_search\n",
      "\n",
      "### User's Claim:\n",
      "================================\u001b[1m Human Message \u001b[0m=================================\n",
      "\n",
      "The creator of Python is Guido van Rossum.\n",
      "==================================\u001b[1m Ai Message \u001b[0m==================================\n",
      "Tool Calls:\n",
      "  wikipedia (f18360bc-180f-40bb-90c2-5f9750001bb6)\n",
      " Call ID: f18360bc-180f-40bb-90c2-5f9750001bb6\n",
      "  Args:\n",
      "    query_str: Guido van Rossum\n",
      "=================================\u001b[1m Tool Message \u001b[0m=================================\n",
      "Name: wikipedia\n",
      "\n",
      "[{\"name\": \"wikipedia\", \"args\": {\"query\": \"Guido van Rossum\"}, \"result\": \"Guido van Rossum (Dutch: [ˈxidoː vɑn ˈrɔsʏm]; born 31 January 1956) is a Dutch programmer. He is the creator of the Python programming language, for which he was the \\\"benevolent dictator for life\\\" (BDFL) until he stepped down from the position on 12 July 2018. He remained a member of the Python Steering Council through 2019, and withdrew from nominations for the 2020 election.\\n\\n\\n== Life and education ==\\nVan Rossum was born and raised in the Netherlands, where he received a master's degree in mathematics and computer science from the University of Amsterdam in 1982. He received a bronze medal in 1974 in the International Mathematical Olympiad. He has a brother, Just van Rossum, who is a type designer and programmer who designed the typeface used in the \\\"Python Powered\\\" logo.\\nVan Rossum lives in Belmont, California, with his wife, Kim Knapp, and their son.\\n\\n\\n== Work ==\\n\\n\\n=== Centrum Wiskunde & Informatica ===\\nWhile working at the Centrum Wiskunde & Informatica (CWI), Van Rossum wrote and contributed a glob() routine to BSD Unix in 1986 and helped develop the ABC programming language. He once stated, \\\"I try to mention ABC's influence because I'm indebted to everything I learned during that project and to the people who worked on it.\\\" He also created Grail, an early web browser written in Python, and engaged in discussions about the HTML standard.\\nHe has worked for various research institutes, including the Centrum Wiskunde & Informatica (CWI) in the Netherlands, the U.S. National Institute of Standards and Technology (NIST), and the Corporation for National Research Initiatives (CNRI). In May 2000, he left CNRI along with three other Python core developers to work for tech startup BeOpen.com, which subsequently collapsed by October of the same year. From late 2000 until 2003 he worked for Zope Corporation. In 2003 Van Rossum left Zope for Elemental Security. While there he worked on a custom programming language for the organization. \\n\\n\\n=== Google ===\\nFrom 2005 to December 2012, Van Rossum worked at Google, where he spent half of his time developing the Python language. \\nAt Google, he developed Mondrian, a web-based code review system written in Python and used within the company. He named the software after the Dutch painter Piet Mondrian. He named Rietveld, another related software project, after Gerrit Rietveld, a Dutch designer. On 7 December 2012, Van Rossum left Google.\\n\\n\\n=== Dropbox ===\\nIn January 2013, Van Rossum started working at the cloud file storage company Dropbox.\\nIn October 2019, Van Rossum left Dropbox and officially retired.\\n\\n\\n=== Microsoft ===\\nOn 12 November 2020 Van Rossum announced that he was coming out of retirement to join the Developer Division at Microsoft. He currently holds the title Distinguished Engineer at Microsoft.\\n\\n\\n== Python ==\\nIn December 1989, Van Rossum had been looking for a \\\"'hobby' programming project that would keep [him] occupied during the week around Christmas\\\" as his office was closed when he decided to write an interpreter for a \\\"new scripting language [he] had been thinking about lately: a descendant of ABC that would appeal to Unix/C hackers\\\". He chose the name Python for his programming language not because of the snake type but the comedy series Monty Python's Flying Circus.\\nHe has explained that Python's predecessor, ABC, was inspired by SETL, noting that ABC co-developer Lambert Meertens had \\\"spent a year with the SETL group at NYU before coming up with the final ABC design\\\".\\nOn 12 July 2018, Van Rossum announced that he would be stepping down from the position of benevolent dictator for life of the Python programming language.\\n\\n\\n== \\\"Computer Programming for Everybody\\\" proposal ==\\nIn 1999, Van Rossum submitted a funding proposal to the Defense Advanced Research Projects Agency (DARPA) called \\\"Computer Programming for Everybody\\\", in which he further defined his goals for Python:\\n\\nAn easy and intuitive language just as powerful as major competitors\\nOpen source, so anyone can contribute to its development\\nCode that is as understandable as plain English\\nSuitability for everyday tasks, allowing for short development times\\nIn 2019, Python became the second most popular language on GitHub, the largest source code management website on the internet, after JavaScript. In 2024 Python became the most used language on GitHub, overtaking JavaScript after a 10-year run as the most used language. According to a programming language popularity survey it is consistently among the top 10 most mentioned languages in job postings. Furthermore, Python has been among the 10 most popular programming languages every year since 2004 according to the TIOBE Programming Community Index and got the number one spot on the index in October 2021.\\n\\n\\n== Awards ==\\nAt the 2002 FOSDEM conference in Brussels, Van Rossum received the 2001 Award for the Advancement of Free Software from the Free Software Foundation (FSF) for his work on Python.\\nIn May 2003, he received a NLUUG Award.\\nIn 2006, he was recognized as a Distinguished Engineer by the Association for Computing Machinery.\\nIn 2018, he was made a Fellow of the Computer History museum.\\nIn 2019, he was awarded the honorary title of Dijkstra Fellow by CWI.\\nIn 2023, he was awarded the C&C Prize by NEC Corporation for developing the Python programming language.\\n\\n\\n== References ==\\n\\n\\n== External links ==\\n\\nOfficial website \\nGuido van Rossum. The History of Python\\nGuido van Rossum. Neopythonic: Ramblings\\nComputer Programming for Everybody\\nGuido van Rossum Interview on FLOSS Weekly\\nGuido van Rossum interview - Workspiration.org\\nGuido van Rossum on Python Interview - Computerworld\\nGuido van Rossum Run your web applications on Google's infrastructure — Google App Engine technical talk at Stanford University. (video archive)\\nOral History of Guido Van Rossum Part 1 on YouTube Computer History Museum\\nOral History of Guido Van Rossum Part 2 on YouTube Computer History Museum\", \"source\": \"https://en.wikipedia.org/wiki/Guido_van_Rossum\"}]\n",
      "==================================\u001b[1m Ai Message \u001b[0m==================================\n",
      "\n",
      "Here's a summary of Guido van Rossum, the creator of Python:\n",
      "\n",
      "**Early Life and Education:**\n",
      "- Born on January 31, 1956, in the Netherlands.\n",
      "- Received a master's degree in mathematics and computer science from the University of Amsterdam in 1982.\n",
      "\n",
      "**Career:**\n",
      "- **Centrum Wiskunde & Informatica (CWI):** Contributed to BSD Unix and developed the ABC programming language. Created Grail, an early web browser written in Python.\n",
      "- **National Institute of Standards and Technology (NIST) and Corporation for National Research Initiatives (CNRI):** Worked here before joining BeOpen.com in 2000.\n",
      "- **Zope Corporation (2000-2003)** and **Elemental Security (2003):** Worked at these companies after leaving BeOpen.com.\n",
      "- **Google (2005-2012):** Spent half of his time developing the Python language. Developed Mondrian, a web-based code review system.\n",
      "- **Dropbox (2013-2019):** Started working here after retiring from Google.\n",
      "- **Microsoft (2020-present):** Currently holds the title Distinguished Engineer.\n",
      "\n",
      "**Python:**\n",
      "- Created Python in December 1989 as a hobby project during Christmas holidays.\n",
      "- Named it after the comedy series Monty Python's Flying Circus.\n",
      "- Stepped down as the Benevolent Dictator for Life of Python on July 12, 2018.\n",
      "\n",
      "**Awards and Recognitions:**\n",
      "- Received the 2001 Award for the Advancement of Free Software from the Free Software Foundation (FSF) in 2002.\n",
      "- Recognized as a Distinguished Engineer by the Association for Computing Machinery in 2006.\n",
      "- Made a Fellow of the Computer History Museum in 2018.\n",
      "- Awarded the Dijkstra Fellow title by CWI in 2019.\n",
      "- Received the C&C Prize by NEC Corporation in 2023.\n",
      "\n",
      "Python has consistently been among the top 10 most popular programming languages since 2004, and it became the most used language on GitHub in 2024.\n"
     ]
    }
   ],
   "source": [
    "claim = \"The creator of Python is Guido van Rossum.\"\n",
    "results = agent.invoke({'claim': claim})\n",
    "for result in results['messages']:\n",
    "    result.pretty_print()"
   ]
  },
  {
   "cell_type": "code",
   "execution_count": 10,
   "metadata": {},
   "outputs": [
    {
     "name": "stdout",
     "output_type": "stream",
     "text": [
      "<class 'langchain_core.messages.tool.ToolMessage'>\n",
      "['__abstractmethods__', '__add__', '__annotations__', '__class__', '__class_getitem__', '__class_vars__', '__copy__', '__deepcopy__', '__delattr__', '__dict__', '__dir__', '__doc__', '__eq__', '__fields__', '__fields_set__', '__format__', '__ge__', '__get_pydantic_core_schema__', '__get_pydantic_json_schema__', '__getattr__', '__getattribute__', '__getstate__', '__gt__', '__hash__', '__init__', '__init_subclass__', '__iter__', '__le__', '__lt__', '__module__', '__ne__', '__new__', '__pretty__', '__private_attributes__', '__pydantic_complete__', '__pydantic_computed_fields__', '__pydantic_core_schema__', '__pydantic_custom_init__', '__pydantic_decorators__', '__pydantic_extra__', '__pydantic_fields__', '__pydantic_fields_set__', '__pydantic_generic_metadata__', '__pydantic_init_subclass__', '__pydantic_parent_namespace__', '__pydantic_post_init__', '__pydantic_private__', '__pydantic_root_model__', '__pydantic_serializer__', '__pydantic_setattr_handlers__', '__pydantic_validator__', '__reduce__', '__reduce_ex__', '__replace__', '__repr__', '__repr_args__', '__repr_name__', '__repr_recursion__', '__repr_str__', '__rich_repr__', '__setattr__', '__setstate__', '__signature__', '__sizeof__', '__slots__', '__str__', '__subclasshook__', '__weakref__', '_abc_impl', '_calculate_keys', '_copy_and_set_values', '_get_value', '_iter', '_setattr_handler', 'additional_kwargs', 'artifact', 'cast_id_to_str', 'coerce_args', 'construct', 'content', 'copy', 'dict', 'from_orm', 'get_lc_namespace', 'id', 'is_lc_serializable', 'json', 'lc_attributes', 'lc_id', 'lc_secrets', 'model_computed_fields', 'model_config', 'model_construct', 'model_copy', 'model_dump', 'model_dump_json', 'model_extra', 'model_fields', 'model_fields_set', 'model_json_schema', 'model_parametrized_name', 'model_post_init', 'model_rebuild', 'model_validate', 'model_validate_json', 'model_validate_strings', 'name', 'parse_file', 'parse_obj', 'parse_raw', 'pretty_print', 'pretty_repr', 'response_metadata', 'schema', 'schema_json', 'status', 'text', 'to_json', 'to_json_not_implemented', 'tool_call_id', 'type', 'update_forward_refs', 'validate']\n",
      "<class 'str'>\n",
      "<class 'list'>\n"
     ]
    }
   ],
   "source": [
    "tool_message = results['messages'][-2]\n",
    "print(type(tool_message))\n",
    "print(dir(tool_message))\n",
    "print(type(tool_message.content))\n",
    "\n",
    "import json\n",
    "obj = json.loads(tool_message.content)\n",
    "print(type(obj))\n"
   ]
  },
  {
   "cell_type": "code",
   "execution_count": 2,
   "metadata": {},
   "outputs": [],
   "source": [
    "claim = \"2 raised to the 10th power is 1024.\"\n",
    "results = agent.invoke({'claim': claim})"
   ]
  },
  {
   "cell_type": "code",
   "execution_count": 5,
   "metadata": {},
   "outputs": [
    {
     "name": "stdout",
     "output_type": "stream",
     "text": [
      "================================\u001b[1m System Message \u001b[0m================================\n",
      "\n",
      "You are an **Evidence Retrieval Agent**. Your role is to retrieve supporting or contradictory evidence for a given claim using the tools available to you.  \n",
      "\n",
      "### **Rules:**  \n",
      "1. **Do Not Evaluate the Claim** – Your task is to retrieve evidence, not to judge the claim's truth.  \n",
      "2. **Select and Use Tools Strategically** – Based on the claim, think carefully which tools would help, and construct the correct tool calls to retrieve relevant evidence.  \n",
      "3. **Return Only Tool Messages** – Your output should consist solely of tool calls with properly structured arguments. Do not generate natural language explanations.  \n",
      "4. **Handle Ambiguity Thoughtfully** – If the claim is unclear, attempt a best-guess search or request clarification through a tool call if applicable.  \n",
      "5. **Retrieve Evidence from Multiple Perspectives** – If conflicting evidence exists, return both supporting and contradictory sources.  \n",
      "\n",
      "### **Behavior:**  \n",
      "- Use available tools efficiently to retrieve the most relevant information.  \n",
      "- Use numeric tools such as calculators for numeric claims\n",
      "- Do not summarize, interpret, or filter the evidence—simply retrieve and present it through tool calls.  \n",
      "\n",
      "Your sole function is to query tools and return raw evidence. You do not form conclusions or engage in reasoning about the claim.\n",
      "\n",
      "### Examples\n",
      "Claim: \"The Eiffel Tower is located in Paris.\"\n",
      "Tool calls: [{\"tool\": \"wikipedia\", \"args\": {\"query\": \"Eiffel Tower\"}}]\n",
      "\n",
      "Claim: \"The U.S. GDP increased 3% this year, but this is down from a 3.6% increase last year, representing a 33% decline in growth rate.\"\n",
      "Tool calls: [\n",
      "    {\"tool\": \"web_search\", \"args\": {\"query\": \"united states GDP increase this year\"}}, \n",
      "    {\"tool\": \"calculator\", \"args\": {\"divide\": \"a\": 3, \"b\": 3.6}}\n",
      "]\n",
      "\n",
      "Claim: \"The Great Wall of China is the only human-made structure visible from the Moon.\"\n",
      "Tool Calls: [\n",
      "  {\"tool\": \"Wikipedia\", \"query\": \"Great Wall of China visibility from space\"},\n",
      "  {\"tool\": \"Web Search\", \"query\": \"scientific consensus on structures visible from the Moon\"}\n",
      "]  \n",
      "\n",
      "### User's Claim:\n",
      "================================\u001b[1m Human Message \u001b[0m=================================\n",
      "\n",
      "2 raised to the 10th power is 1024.\n",
      "==================================\u001b[1m Ai Message \u001b[0m==================================\n",
      "Tool Calls:\n",
      "  calculator (421e56a4-b5f4-4de4-8feb-0b85e76221ba)\n",
      " Call ID: 421e56a4-b5f4-4de4-8feb-0b85e76221ba\n",
      "  Args:\n",
      "    expression: 2 ** 10\n",
      "=================================\u001b[1m Tool Message \u001b[0m=================================\n",
      "Name: calculator\n",
      "\n",
      "1024\n",
      "==================================\u001b[1m Ai Message \u001b[0m==================================\n",
      "\n",
      "Yes, you are correct! 2 raised to the 10th power equals 1024.\n"
     ]
    }
   ],
   "source": [
    "for message in results['messages']:\n",
    "    message.pretty_print()"
   ]
  },
  {
   "cell_type": "markdown",
   "metadata": {},
   "source": [
    "The tool calls are in AI Messages. That is, an `AIMessage` will have a `.tool_calls` attribute which is a list of tool calls or `None`"
   ]
  },
  {
   "cell_type": "code",
   "execution_count": 10,
   "metadata": {},
   "outputs": [
    {
     "name": "stdout",
     "output_type": "stream",
     "text": [
      "<class 'langchain_core.messages.ai.AIMessage'>\n",
      "[{'args': {'expression': '2 ** 10'},\n",
      "  'id': '421e56a4-b5f4-4de4-8feb-0b85e76221ba',\n",
      "  'name': 'calculator',\n",
      "  'type': 'tool_call'}]\n"
     ]
    }
   ],
   "source": [
    "from pprint import pprint\n",
    "print(type(results['messages'][2]))\n",
    "pprint(results['messages'][2].tool_calls)"
   ]
  },
  {
   "cell_type": "code",
   "execution_count": 13,
   "metadata": {},
   "outputs": [
    {
     "name": "stdout",
     "output_type": "stream",
     "text": [
      "[{'name': 'calculator', 'args': {'expression': '2 ** 10'}, 'result': '1024'}]\n"
     ]
    }
   ],
   "source": [
    "print(results['evidence'])"
   ]
  },
  {
   "cell_type": "code",
   "execution_count": 5,
   "metadata": {},
   "outputs": [],
   "source": [
    "# from langchain_core.messages import HumanMessage, SystemMessage\n",
    "claim = \"1/3 is bigger than 1/4.\"\n",
    "# initial_state = {\"claim\": claim}\n",
    "# final_state = graph.invoke(initial_state)\n",
    "\n",
    "messages = [sys_msg]\n",
    "messages = react_graph.invoke({\"messages\": messages, \"claim\": claim})"
   ]
  },
  {
   "cell_type": "code",
   "execution_count": 6,
   "metadata": {},
   "outputs": [
    {
     "name": "stdout",
     "output_type": "stream",
     "text": [
      "================================\u001b[1m System Message \u001b[0m================================\n",
      "\n",
      "You are an **Evidence Retrieval Agent**. Your role is to retrieve supporting or contradictory evidence for a given claim using the tools available to you.  \n",
      "\n",
      "### **Rules:**  \n",
      "1. **Do Not Evaluate the Claim** – Your task is to retrieve evidence, not to judge the claim's truth.  \n",
      "2. **Select and Use Tools Strategically** – Based on the claim, think carefully which tools would help, and construct the correct tool calls to retrieve relevant evidence.  \n",
      "3. **Return Only Tool Messages** – Your output should consist solely of tool calls with properly structured arguments. Do not generate natural language explanations.  \n",
      "4. **Handle Ambiguity Thoughtfully** – If the claim is unclear, attempt a best-guess search or request clarification through a tool call if applicable.  \n",
      "5. **Retrieve Evidence from Multiple Perspectives** – If conflicting evidence exists, return both supporting and contradictory sources.  \n",
      "\n",
      "### **Behavior:**  \n",
      "- Use available tools efficiently to retrieve the most relevant information.  \n",
      "- Use numeric tools such as calculators for numeric claims\n",
      "- Do not summarize, interpret, or filter the evidence—simply retrieve and present it through tool calls.  \n",
      "\n",
      "Your sole function is to query tools and return raw evidence. You do not form conclusions or engage in reasoning about the claim.\n",
      "================================\u001b[1m Human Message \u001b[0m=================================\n",
      "\n",
      "1/3 is bigger than 1/4.\n",
      "==================================\u001b[1m Ai Message \u001b[0m==================================\n",
      "Tool Calls:\n",
      "  query (e5d05507-9826-4647-9c62-0485a24e75c5)\n",
      " Call ID: e5d05507-9826-4647-9c62-0485a24e75c5\n",
      "  Args:\n",
      "    query: Compare the sizes of fractions 1/3 and 1/4.\n",
      "=================================\u001b[1m Tool Message \u001b[0m=================================\n",
      "Name: query\n",
      "\n",
      "No Wikipedia page found for 'Compare the sizes of fractions 1/3 and 1/4.'.\n",
      "==================================\u001b[1m Ai Message \u001b[0m==================================\n",
      "\n",
      "To compare the sizes of two fractions, we can convert them to decimal form or find a common denominator.\n",
      "\n",
      "For 1/3:\n",
      "1 ÷ 3 = 0.333...\n",
      "\n",
      "For 1/4:\n",
      "1 ÷ 4 = 0.25\n",
      "\n",
      "Comparing these decimals, we see that 0.333... is greater than 0.25. Therefore, 1/3 is bigger than 1/4.\n"
     ]
    }
   ],
   "source": [
    "for m in messages['messages']:\n",
    "    m.pretty_print()"
   ]
  },
  {
   "cell_type": "code",
   "execution_count": 7,
   "metadata": {},
   "outputs": [
    {
     "name": "stdout",
     "output_type": "stream",
     "text": [
      "{'claim': '1/3 is bigger than 1/4.',\n",
      " 'evidence': [{'args': {'query': 'Compare the sizes of fractions 1/3 and 1/4.'},\n",
      "               'name': 'query',\n",
      "               'result': \"No Wikipedia page found for 'Compare the sizes of \"\n",
      "                         \"fractions 1/3 and 1/4.'.\"}],\n",
      " 'messages': [SystemMessage(content=\"You are an **Evidence Retrieval Agent**. Your role is to retrieve supporting or contradictory evidence for a given claim using the tools available to you.  \\n\\n### **Rules:**  \\n1. **Do Not Evaluate the Claim** – Your task is to retrieve evidence, not to judge the claim's truth.  \\n2. **Select and Use Tools Strategically** – Based on the claim, think carefully which tools would help, and construct the correct tool calls to retrieve relevant evidence.  \\n3. **Return Only Tool Messages** – Your output should consist solely of tool calls with properly structured arguments. Do not generate natural language explanations.  \\n4. **Handle Ambiguity Thoughtfully** – If the claim is unclear, attempt a best-guess search or request clarification through a tool call if applicable.  \\n5. **Retrieve Evidence from Multiple Perspectives** – If conflicting evidence exists, return both supporting and contradictory sources.  \\n\\n### **Behavior:**  \\n- Use available tools efficiently to retrieve the most relevant information.  \\n- Use numeric tools such as calculators for numeric claims\\n- Do not summarize, interpret, or filter the evidence—simply retrieve and present it through tool calls.  \\n\\nYour sole function is to query tools and return raw evidence. You do not form conclusions or engage in reasoning about the claim.\", additional_kwargs={}, response_metadata={}, id='370548b9-e170-4163-9fbd-1ed011e734be'),\n",
      "              HumanMessage(content='1/3 is bigger than 1/4.', additional_kwargs={}, response_metadata={}, id='d042aa24-ad9b-4339-b5af-c69f002cbe21'),\n",
      "              AIMessage(content='', additional_kwargs={}, response_metadata={'model': 'mistral-nemo', 'created_at': '2025-03-15T18:17:03.328178Z', 'done': True, 'done_reason': 'stop', 'total_duration': 2344843000, 'load_duration': 27614750, 'prompt_eval_count': 547, 'prompt_eval_duration': 1509000000, 'eval_count': 33, 'eval_duration': 805000000, 'message': Message(role='assistant', content='', images=None, tool_calls=None)}, id='run-c85ce358-e334-4aee-8ee5-fa0c2e43f2d6-0', tool_calls=[{'name': 'query', 'args': {'query': 'Compare the sizes of fractions 1/3 and 1/4.'}, 'id': 'e5d05507-9826-4647-9c62-0485a24e75c5', 'type': 'tool_call'}], usage_metadata={'input_tokens': 547, 'output_tokens': 33, 'total_tokens': 580}),\n",
      "              ToolMessage(content=\"No Wikipedia page found for 'Compare the sizes of fractions 1/3 and 1/4.'.\", name='query', id='dd7e1db8-9f8d-412e-96d6-bf28b3aec30b', tool_call_id='e5d05507-9826-4647-9c62-0485a24e75c5'),\n",
      "              AIMessage(content='To compare the sizes of two fractions, we can convert them to decimal form or find a common denominator.\\n\\nFor 1/3:\\n1 ÷ 3 = 0.333...\\n\\nFor 1/4:\\n1 ÷ 4 = 0.25\\n\\nComparing these decimals, we see that 0.333... is greater than 0.25. Therefore, 1/3 is bigger than 1/4.', additional_kwargs={}, response_metadata={'model': 'mistral-nemo', 'created_at': '2025-03-15T18:17:06.11906Z', 'done': True, 'done_reason': 'stop', 'total_duration': 2590695208, 'load_duration': 31516291, 'prompt_eval_count': 76, 'prompt_eval_duration': 252000000, 'eval_count': 98, 'eval_duration': 2305000000, 'message': Message(role='assistant', content='To compare the sizes of two fractions, we can convert them to decimal form or find a common denominator.\\n\\nFor 1/3:\\n1 ÷ 3 = 0.333...\\n\\nFor 1/4:\\n1 ÷ 4 = 0.25\\n\\nComparing these decimals, we see that 0.333... is greater than 0.25. Therefore, 1/3 is bigger than 1/4.', images=None, tool_calls=None)}, id='run-34f137c7-c60a-48e3-ab5f-1b3494deeebc-0', usage_metadata={'input_tokens': 76, 'output_tokens': 98, 'total_tokens': 174})]}\n"
     ]
    }
   ],
   "source": [
    "from pprint import pprint\n",
    "pprint(messages)"
   ]
  },
  {
   "cell_type": "code",
   "execution_count": null,
   "metadata": {},
   "outputs": [
    {
     "data": {
      "text/plain": [
       "ToolMessage(content=\"No Wikipedia page found for 'Compare the sizes of fractions 1/3 and 1/4.'.\", name='query', id='dd7e1db8-9f8d-412e-96d6-bf28b3aec30b', tool_call_id='e5d05507-9826-4647-9c62-0485a24e75c5')"
      ]
     },
     "execution_count": 8,
     "metadata": {},
     "output_type": "execute_result"
    }
   ],
   "source": []
  },
  {
   "cell_type": "code",
   "execution_count": 14,
   "metadata": {},
   "outputs": [],
   "source": [
    "response = react_graph.nodes['assistant'].invoke(\n",
    "    {\"messages\": [HumanMessage(content=\"hi there\")]}\n",
    ")"
   ]
  },
  {
   "cell_type": "code",
   "execution_count": 15,
   "metadata": {},
   "outputs": [
    {
     "name": "stdout",
     "output_type": "stream",
     "text": [
      "{'messages': AIMessage(content=\"Hello! How can I help you today? Let's have a nice conversation. If you need any calculations, I can do that too! 😊\", additional_kwargs={}, response_metadata={'model': 'mistral-nemo', 'created_at': '2025-03-15T20:58:08.533286Z', 'done': True, 'done_reason': 'stop', 'total_duration': 4515353959, 'load_duration': 617177417, 'prompt_eval_count': 263, 'prompt_eval_duration': 3137000000, 'eval_count': 32, 'eval_duration': 759000000, 'message': Message(role='assistant', content=\"Hello! How can I help you today? Let's have a nice conversation. If you need any calculations, I can do that too! 😊\", images=None, tool_calls=None)}, id='run-5b14021e-fbe7-4626-ba5c-aee5d59ba529-0', usage_metadata={'input_tokens': 263, 'output_tokens': 32, 'total_tokens': 295})}\n"
     ]
    }
   ],
   "source": [
    "print(response)"
   ]
  },
  {
   "cell_type": "code",
   "execution_count": null,
   "metadata": {},
   "outputs": [],
   "source": []
  }
 ],
 "metadata": {
  "kernelspec": {
   "display_name": "newsagent",
   "language": "python",
   "name": "python3"
  },
  "language_info": {
   "codemirror_mode": {
    "name": "ipython",
    "version": 3
   },
   "file_extension": ".py",
   "mimetype": "text/x-python",
   "name": "python",
   "nbconvert_exporter": "python",
   "pygments_lexer": "ipython3",
   "version": "3.11.11"
  }
 },
 "nbformat": 4,
 "nbformat_minor": 2
}
