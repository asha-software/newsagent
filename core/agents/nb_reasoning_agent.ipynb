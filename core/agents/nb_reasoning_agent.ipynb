{
 "cells": [
  {
   "cell_type": "code",
   "execution_count": 1,
   "metadata": {},
   "outputs": [],
   "source": [
    "from dotenv import load_dotenv\n",
    "import json\n",
    "import os\n",
    "from langchain.prompts import SystemMessagePromptTemplate\n",
    "from langchain_core.messages import AIMessage, SystemMessage, BaseMessage\n",
    "from langchain_ollama import ChatOllama\n",
    "from langgraph.graph import StateGraph, START, END\n",
    "from langgraph.graph.message import add_messages\n",
    "from langgraph.prebuilt import ToolNode, tools_condition\n",
    "from typing import Annotated, NotRequired, TypedDict\n",
    "\n",
    "\n",
    "MODEL = \"mistral-nemo\"\n",
    "TEMPERATURE = 0\n",
    "load_dotenv('.env', override=True)\n",
    "\n",
    "\n",
    "class State(TypedDict):\n",
    "    messages: Annotated[list[str], add_messages]\n",
    "    # messages: list[BaseMessage]\n",
    "    claim: str\n",
    "    evidence: list[str]\n",
    "    label: str | None\n",
    "    justification: str | None\n",
    "\n",
    "\n",
    "LLM_OUTPUT_FORMAT = {\n",
    "    \"type\": \"object\",\n",
    "    \"properties\": {\n",
    "        \"label\": {\n",
    "            \"type\": \"string\",\n",
    "            \"enum\": [\"true\", \"false\", \"unknown\"]\n",
    "        },\n",
    "        \"justification\": {\n",
    "            \"type\": \"string\"\n",
    "        }\n",
    "    },\n",
    "    \"required\": [\"label\", \"justification\"]\n",
    "}\n",
    "\n",
    "llm = ChatOllama(\n",
    "    model=MODEL, \n",
    "    temperature=TEMPERATURE,\n",
    "    format=LLM_OUTPUT_FORMAT,\n",
    "    # base_url=\"http://host.docker.internal:11434\", # if running in the studio\n",
    "    )\n",
    "\n",
    "\n",
    "\n",
    "\"\"\"\n",
    "4. Define Nodes: functions taking state and returning state\n",
    "\"\"\"\n",
    "with open(\"prompts/reasoning_agent_system_prompt.txt\", \"r\") as f:\n",
    "    system_prompt = f.read()\n",
    "\n",
    "def preprocessing(state: State) -> State:\n",
    "    \"\"\"\n",
    "    Formats the system prompt template with the evidence, then supplies the claim\n",
    "    as a human message. The working assumption is that putting the evidence in the\n",
    "    system prompt will help make the model trust it more than the claim.\n",
    "    \"\"\"\n",
    "    # Format system prmopt template: unwind the evidence list to a bullet list\n",
    "    evidence_str = \"\\n\".join([f\"* {e}\" for e in state[\"evidence\"]])\n",
    "    formatted_prompt = system_prompt.format(evidence=evidence_str)\n",
    "\n",
    "    # Set system and human messages in the state\n",
    "    state['messages'] = [SystemMessage(content=formatted_prompt)]\n",
    "    return {'messages': HumanMessage(content=state['claim'])}\n",
    "\n",
    "# TODO: add format instructions\n",
    "def assistant(state: State) -> State:\n",
    "    response = llm.invoke(state['messages'])\n",
    "    return {\"messages\": response}\n",
    "\n",
    "def postprocessing(state: State) -> State:\n",
    "    \"\"\"\n",
    "    #TODO: migrate the postprocessing logic to Pydantic/Langchain\n",
    "    \"\"\"\n",
    "    reasoning = state['messages'][-1].content\n",
    "\n",
    "    try:\n",
    "        # Try to parse the reasoning as JSON\n",
    "        formatted_reasoning = json.loads(reasoning)\n",
    "    except json.JSONDecodeError as e:\n",
    "        print(f\"JSONDecodeError: {e}\")\n",
    "        print(f\"Reasoning content: {reasoning}\")\n",
    "\n",
    "    label = formatted_reasoning['label']\n",
    "    justification = formatted_reasoning['justification']\n",
    "    \n",
    "    # prompt = \"\"\"Format the response into a JSON object with the following keys:\n",
    "    #     \"label\": \"true\" | \"false\" | \"unknown\"\n",
    "    #     \"justification\": \"Justification for the label (string)\"\n",
    "    # \"\"\"\n",
    "    # # formatted_reasoning = llm.invoke(reasoning + '\\n' + prompt)\n",
    "    # results = json.loads(formatted_reasoning.content)\n",
    "    # label = results['label']\n",
    "    # justification = results['justification']\n",
    "    return {\"label\": label, \"justification\": justification}\n",
    "\n",
    "\n",
    "\n"
   ]
  },
  {
   "cell_type": "code",
   "execution_count": 2,
   "metadata": {},
   "outputs": [
    {
     "data": {
      "image/png": "[encoded data removed]",
      "text/plain": [
       "<IPython.core.display.Image object>"
      ]
     },
     "metadata": {},
     "output_type": "display_data"
    }
   ],
   "source": [
    "from IPython.display import Image, display\n",
    "\"\"\"\n",
    "5. Build the graph\n",
    "\"\"\"\n",
    "\n",
    "builder = StateGraph(State)\n",
    "builder.add_node(\"preprocessing\", preprocessing)\n",
    "builder.add_node(\"assistant\", assistant)\n",
    "builder.add_node(\"postprocessing\", postprocessing)\n",
    "\n",
    "builder.add_edge(START, \"preprocessing\")\n",
    "builder.add_edge(\"preprocessing\", \"assistant\")\n",
    "\n",
    "builder.add_edge(\"assistant\", \"postprocessing\")\n",
    "builder.add_edge(\"postprocessing\", END)\n",
    "graph = builder.compile()\n",
    "\n",
    "display(Image(graph.get_graph(xray=True).draw_mermaid_png()))"
   ]
  },
  {
   "cell_type": "code",
   "execution_count": 3,
   "metadata": {},
   "outputs": [],
   "source": [
    "from langchain_core.messages import HumanMessage\n",
    "claim = \"George Washington was the first president of the United States.\"\n",
    "evidence = [\"George Washington was born in 1732.\", \"George Washington was a general in the Revolutionary War.\", \"George Washington was elected president in 1789.\"]\n",
    "initial_state = {\"claim\": claim, \"evidence\": evidence}\n",
    "final_state = graph.invoke(initial_state)"
   ]
  },
  {
   "cell_type": "code",
   "execution_count": 4,
   "metadata": {},
   "outputs": [
    {
     "name": "stdout",
     "output_type": "stream",
     "text": [
      "Label: true\n",
      "Justification: George Washington served as the first President of the United States, serving two terms from April 30, 1789, until his death on December 14, 1799.\n",
      "Messages:\n",
      "================================\u001b[1m Human Message \u001b[0m=================================\n",
      "\n",
      "George Washington was the first president of the United States.\n",
      "==================================\u001b[1m Ai Message \u001b[0m==================================\n",
      "\n",
      "{ \"label\": \"true\" , \"justification\": \"George Washington served as the first President of the United States, serving two terms from April 30, 1789, until his death on December 14, 1799.\" }\n"
     ]
    }
   ],
   "source": [
    "print(f\"Label: {final_state['label']}\")\n",
    "print(f\"Justification: {final_state['justification']}\")\n",
    "print(\"Messages:\")\n",
    "for m in final_state['messages']:\n",
    "    m.pretty_print()"
   ]
  },
  {
   "cell_type": "code",
   "execution_count": null,
   "metadata": {},
   "outputs": [],
   "source": []
  }
 ],
 "metadata": {
  "kernelspec": {
   "display_name": "newsagent",
   "language": "python",
   "name": "python3"
  },
  "language_info": {
   "codemirror_mode": {
    "name": "ipython",
    "version": 3
   },
   "file_extension": ".py",
   "mimetype": "text/x-python",
   "name": "python",
   "nbconvert_exporter": "python",
   "pygments_lexer": "ipython3",
   "version": "3.11.11"
  }
 },
 "nbformat": 4,
 "nbformat_minor": 2
}
