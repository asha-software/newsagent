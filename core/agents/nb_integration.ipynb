{
 "cells": [
  {
   "cell_type": "code",
   "execution_count": 1,
   "metadata": {},
   "outputs": [],
   "source": [
    "from claim_decomposer import claim_decomposer\n",
    "from research_agent import create_agent \n",
    "from verdict_agent import verdict_agent\n"
   ]
  },
  {
   "cell_type": "code",
   "execution_count": 2,
   "metadata": {},
   "outputs": [
    {
     "name": "stdout",
     "output_type": "stream",
     "text": [
      "['The Apollo 11 mission landed humans on the Moon for the first time on July 20, 1969.', 'Neil Armstrong was the first person to walk on the lunar surface.', 'The mission was launched by NASA using a Saturn V rocket.']\n"
     ]
    }
   ],
   "source": [
    "text = \"\"\"\n",
    "The Apollo 11 mission landed humans on the Moon for the first time on July 20, 1969. \n",
    "Neil Armstrong was the first person to walk on the lunar surface.\n",
    "The mission was launched by NASA using a Saturn V rocket.\n",
    "\"\"\"\n",
    "\n",
    "claim_decomposer_output = claim_decomposer.invoke({'text': text})\n",
    "print(claim_decomposer_output['claims'])\n",
    "\n"
   ]
  },
  {
   "cell_type": "code",
   "execution_count": 3,
   "metadata": {},
   "outputs": [],
   "source": [
    "claim = claim_decomposer_output['claims'][0]\n",
    "use_builtins = {\n",
    "    'calculator': ['add', 'multiply'],\n",
    "    'wikipedia': ['query']}\n",
    "research_agent = create_agent(model='mistral-nemo', builtin_tools=use_builtins)\n",
    "research_agent_output = research_agent.invoke(\n",
    "    {'claim': claim + \"\\nNOTE: the wikipedia page for Apollo 11 is 'Apollo_11'\"})"
   ]
  },
  {
   "cell_type": "code",
   "execution_count": 4,
   "metadata": {},
   "outputs": [
    {
     "name": "stdout",
     "output_type": "stream",
     "text": [
      "Evidence: [{'name': 'query', 'args': {'query': 'Apollo 11'}, 'result': 'Apollo 11 was a spaceflight conducted from July 16 to 24, 1969, by the United States and launched by NASA. It marked the first time that humans landed on the Moon. Commander Neil Armstrong and Lunar Module Pilot Buzz Aldrin landed the Apollo Lunar Module Eagle on July 20, 1969, at 20:17 UTC, and Armstrong became the first person to step onto the Moon\\'s surface six hours and 39 minutes later, on July 21 at 02:56 UTC. Aldrin joined him 19 minutes later, and they spent about two and a quarter hours together exploring the site they had named Tranquility Base upon landing. Armstrong and Aldrin collected 47.5 pounds (21.5 kg) of lunar material to bring back to Earth as pilot Michael Collins flew the Command Module Columbia in lunar orbit, and were on the Moon\\'s surface for 21 hours, 36 minutes, before lifting off to rejoin Columbia.\\nApollo 11 was launched by a Saturn V rocket from Kennedy Space Center on Merritt Island, Florida, on July 16 at 13:32 UTC. It was the fifth crewed mission of NASA\\'s Apollo program. The Apollo spacecraft had three parts: a command module (CM) with a cabin for the three astronauts, the only part that returned to Earth; a service module (SM), which supported the command module with propulsion, electrical power, oxygen, and water; and a lunar module (LM) that had two stages—a descent stage for landing on the Moon and an ascent stage to place the astronauts back into lunar orbit.\\nAfter being sent to the Moon by the Saturn V\\'s third stage, the astronauts separated the spacecraft from it and traveled for three days until they entered lunar orbit. Armstrong and Aldrin then moved into Eagle and landed in the Sea of Tranquility on July 20. The astronauts used Eagle\\'s ascent stage to lift off from the lunar surface and rejoin Collins in the command module. They jettisoned Eagle before they performed the maneuvers that propelled Columbia out of the last of its 30 lunar orbits onto a trajectory back to Earth. They returned to Earth and splashed down in the Pacific Ocean on July 24 after more than eight days in space.\\nArmstrong\\'s first step onto the lunar surface was broadcast on live TV to a worldwide audience. He described the event as \"one small step for [a] man, one giant leap for mankind.\" Apollo 11 effectively proved U.S. victory in the Space Race to demonstrate spaceflight superiority, by fulfilling a national goal proposed in 1961 by President John F. Kennedy, \"before this decade is out, of landing a man on the Moon and returning him safely to the Earth.\"'}]\n"
     ]
    }
   ],
   "source": [
    "print(f\"Evidence: {research_agent_output['evidence']}\")"
   ]
  },
  {
   "cell_type": "code",
   "execution_count": 5,
   "metadata": {},
   "outputs": [],
   "source": [
    "from reasoning_agent import reasoning_agent\n",
    "reasoning_input = {\n",
    "    'messages': [],\n",
    "    'claim': research_agent_output['claim'],\n",
    "    'evidence': research_agent_output['evidence'],\n",
    "}\n",
    "reasoning_agent_output = reasoning_agent.invoke(reasoning_input)"
   ]
  },
  {
   "cell_type": "code",
   "execution_count": 6,
   "metadata": {},
   "outputs": [
    {
     "name": "stdout",
     "output_type": "stream",
     "text": [
      "================================\u001b[1m System Message \u001b[0m================================\n",
      "\n",
      "You are an analytical reasoning assistant tasked with evaluating factual claims based on evidence. Your task is to systematically analyze whether the claim is 'true', 'false', or 'unknown' based solely on the provided evidence.\n",
      "\n",
      "## Examples:\n",
      "Evidence:\n",
      "  - data: U.S. Bureau of Economic Analysis reports the GDP has increased 3.03% this year (source: web_search)\n",
      "Claim: \"The U.S. GDP increased 3% this year\"\n",
      "Label:\n",
      "  - \"true\"\n",
      "Justification:\n",
      "  - \"The GDP increased 3.03%. It's reasonable to round this figure to 3% in discussion\"\n",
      "\n",
      "Evidence:\n",
      "  - The U.S. population is rougly 340.1 million people (source: wikipedia)\n",
      "  - 10^12 / (340.1 * 10^6) = 2940.3117 (source: calculator)\n",
      "Claim: \"One trillion dollars distributed evenly to everyone in American would make everyone a millionare\"\n",
      "Label:\n",
      "  - \"false\"\n",
      "Justification:\n",
      "  - \"One trillion divided by 340.1 million people is roughly 2940. Therefore dividing a trillion dollars equally would give each person less than $3000\"\n",
      "\n",
      "\n",
      "Evidence: \n",
      "  - \"Sponsoring something (or someone) is the act of financially supporting an event or organization, possibly through the provision of products or services. Sponsorship is a cash and/or in-kind fee paid to a property in return for access.\" (source: wikipedia)\n",
      "  - \"A Starbucks spokesperson said they were providing beverages to the Milwaukee 2024 Host Committee first responders. It is not making any cash donation. (source: web_search)\n",
      "  - \"The MKE 2024 Host Committee is a nonprofit, nonpartisan organization whose mission is as follows: To work on behalf of the City of Milwaukee, its businesses and residents to ensure that the 2024 Republican National Convention has all the tools it needs to be successful.\" (source: wikipedia)\n",
      "Claim: Starbucks is sponsoring the Republican National Convention\n",
      "Label: \"false\"\n",
      "Justification:\n",
      "  - \"Although Starbucks is not donating cash, providing products in-kind can constitute sponsorship if Starbucks uses this to gain access to the RNC audience. However in this case Starbucks is at most sponsoring the city's planning committee, not the RNC.\"\n",
      "\n",
      "## Evaluation Guidelines:\n",
      "- true: The evidence directly confirms the claim with clear, specific support\n",
      "- false: The evidence explicitly contradicts or disproves the claim\n",
      "- unknown: The evidence is insufficient, ambiguous, irrelevant, or provides mixed signals\n",
      "\n",
      "## Analysis Process:\n",
      "1. Identify key components of the claim that require verification\n",
      "2. Examine each piece of evidence for relevance and reliability\n",
      "3. Determine whether the evidence collectively supports, refutes, or is insufficient for the claim\n",
      "4. Provide a verdict (true/false/unknown) with clear justification\n",
      "\n",
      "## Rules:\n",
      "- Base your reasoning exclusively on the provided evidence\n",
      "- Do not introduce external knowledge or assumptions\n",
      "- Acknowledge ambiguity when present\n",
      "- Consider counterevidence and alternative interpretations\n",
      "- Maintain objective reasoning without bias\n",
      "- Respond with a verdict:\n",
      "    - true, false, or unknown\n",
      "- Write a justification, your systematic analysis explaining how the evidence supports your verdict\n",
      "- Respond in the format of a JSON object as follows:\n",
      "{\n",
      "    label: str (\"true\"|\"false\"|\"unknown\"),\n",
      "    justification: str\n",
      "}\n",
      "\n",
      "###\n",
      "* query: Apollo 11 was a spaceflight conducted from July 16 to 24, 1969, by the United States and launched by NASA. It marked the first time that humans landed on the Moon. Commander Neil Armstrong and Lunar Module Pilot Buzz Aldrin landed the Apollo Lunar Module Eagle on July 20, 1969, at 20:17 UTC, and Armstrong became the first person to step onto the Moon's surface six hours and 39 minutes later, on July 21 at 02:56 UTC. Aldrin joined him 19 minutes later, and they spent about two and a quarter hours together exploring the site they had named Tranquility Base upon landing. Armstrong and Aldrin collected 47.5 pounds (21.5 kg) of lunar material to bring back to Earth as pilot Michael Collins flew the Command Module Columbia in lunar orbit, and were on the Moon's surface for 21 hours, 36 minutes, before lifting off to rejoin Columbia.\n",
      "Apollo 11 was launched by a Saturn V rocket from Kennedy Space Center on Merritt Island, Florida, on July 16 at 13:32 UTC. It was the fifth crewed mission of NASA's Apollo program. The Apollo spacecraft had three parts: a command module (CM) with a cabin for the three astronauts, the only part that returned to Earth; a service module (SM), which supported the command module with propulsion, electrical power, oxygen, and water; and a lunar module (LM) that had two stages—a descent stage for landing on the Moon and an ascent stage to place the astronauts back into lunar orbit.\n",
      "After being sent to the Moon by the Saturn V's third stage, the astronauts separated the spacecraft from it and traveled for three days until they entered lunar orbit. Armstrong and Aldrin then moved into Eagle and landed in the Sea of Tranquility on July 20. The astronauts used Eagle's ascent stage to lift off from the lunar surface and rejoin Collins in the command module. They jettisoned Eagle before they performed the maneuvers that propelled Columbia out of the last of its 30 lunar orbits onto a trajectory back to Earth. They returned to Earth and splashed down in the Pacific Ocean on July 24 after more than eight days in space.\n",
      "Armstrong's first step onto the lunar surface was broadcast on live TV to a worldwide audience. He described the event as \"one small step for [a] man, one giant leap for mankind.\" Apollo 11 effectively proved U.S. victory in the Space Race to demonstrate spaceflight superiority, by fulfilling a national goal proposed in 1961 by President John F. Kennedy, \"before this decade is out, of landing a man on the Moon and returning him safely to the Earth.\"\n",
      "\n"
     ]
    }
   ],
   "source": [
    "reasoning_agent_output['messages'][0].pretty_print()"
   ]
  },
  {
   "cell_type": "code",
   "execution_count": 7,
   "metadata": {},
   "outputs": [
    {
     "name": "stdout",
     "output_type": "stream",
     "text": [
      "================================\u001b[1m System Message \u001b[0m================================\n",
      "\n",
      "You are an analytical reasoning assistant tasked with evaluating factual claims based on evidence. Your task is to systematically analyze whether the claim is 'true', 'false', or 'unknown' based solely on the provided evidence.\n",
      "\n",
      "## Examples:\n",
      "Evidence:\n",
      "  - data: U.S. Bureau of Economic Analysis reports the GDP has increased 3.03% this year (source: web_search)\n",
      "Claim: \"The U.S. GDP increased 3% this year\"\n",
      "Label:\n",
      "  - \"true\"\n",
      "Justification:\n",
      "  - \"The GDP increased 3.03%. It's reasonable to round this figure to 3% in discussion\"\n",
      "\n",
      "Evidence:\n",
      "  - The U.S. population is rougly 340.1 million people (source: wikipedia)\n",
      "  - 10^12 / (340.1 * 10^6) = 2940.3117 (source: calculator)\n",
      "Claim: \"One trillion dollars distributed evenly to everyone in American would make everyone a millionare\"\n",
      "Label:\n",
      "  - \"false\"\n",
      "Justification:\n",
      "  - \"One trillion divided by 340.1 million people is roughly 2940. Therefore dividing a trillion dollars equally would give each person less than $3000\"\n",
      "\n",
      "\n",
      "Evidence: \n",
      "  - \"Sponsoring something (or someone) is the act of financially supporting an event or organization, possibly through the provision of products or services. Sponsorship is a cash and/or in-kind fee paid to a property in return for access.\" (source: wikipedia)\n",
      "  - \"A Starbucks spokesperson said they were providing beverages to the Milwaukee 2024 Host Committee first responders. It is not making any cash donation. (source: web_search)\n",
      "  - \"The MKE 2024 Host Committee is a nonprofit, nonpartisan organization whose mission is as follows: To work on behalf of the City of Milwaukee, its businesses and residents to ensure that the 2024 Republican National Convention has all the tools it needs to be successful.\" (source: wikipedia)\n",
      "Claim: Starbucks is sponsoring the Republican National Convention\n",
      "Label: \"false\"\n",
      "Justification:\n",
      "  - \"Although Starbucks is not donating cash, providing products in-kind can constitute sponsorship if Starbucks uses this to gain access to the RNC audience. However in this case Starbucks is at most sponsoring the city's planning committee, not the RNC.\"\n",
      "\n",
      "## Evaluation Guidelines:\n",
      "- true: The evidence directly confirms the claim with clear, specific support\n",
      "- false: The evidence explicitly contradicts or disproves the claim\n",
      "- unknown: The evidence is insufficient, ambiguous, irrelevant, or provides mixed signals\n",
      "\n",
      "## Analysis Process:\n",
      "1. Identify key components of the claim that require verification\n",
      "2. Examine each piece of evidence for relevance and reliability\n",
      "3. Determine whether the evidence collectively supports, refutes, or is insufficient for the claim\n",
      "4. Provide a verdict (true/false/unknown) with clear justification\n",
      "\n",
      "## Rules:\n",
      "- Base your reasoning exclusively on the provided evidence\n",
      "- Do not introduce external knowledge or assumptions\n",
      "- Acknowledge ambiguity when present\n",
      "- Consider counterevidence and alternative interpretations\n",
      "- Maintain objective reasoning without bias\n",
      "- Respond with a verdict:\n",
      "    - true, false, or unknown\n",
      "- Write a justification, your systematic analysis explaining how the evidence supports your verdict\n",
      "- Respond in the format of a JSON object as follows:\n",
      "{\n",
      "    label: str (\"true\"|\"false\"|\"unknown\"),\n",
      "    justification: str\n",
      "}\n",
      "\n",
      "###\n",
      "* query: Apollo 11 was a spaceflight conducted from July 16 to 24, 1969, by the United States and launched by NASA. It marked the first time that humans landed on the Moon. Commander Neil Armstrong and Lunar Module Pilot Buzz Aldrin landed the Apollo Lunar Module Eagle on July 20, 1969, at 20:17 UTC, and Armstrong became the first person to step onto the Moon's surface six hours and 39 minutes later, on July 21 at 02:56 UTC. Aldrin joined him 19 minutes later, and they spent about two and a quarter hours together exploring the site they had named Tranquility Base upon landing. Armstrong and Aldrin collected 47.5 pounds (21.5 kg) of lunar material to bring back to Earth as pilot Michael Collins flew the Command Module Columbia in lunar orbit, and were on the Moon's surface for 21 hours, 36 minutes, before lifting off to rejoin Columbia.\n",
      "Apollo 11 was launched by a Saturn V rocket from Kennedy Space Center on Merritt Island, Florida, on July 16 at 13:32 UTC. It was the fifth crewed mission of NASA's Apollo program. The Apollo spacecraft had three parts: a command module (CM) with a cabin for the three astronauts, the only part that returned to Earth; a service module (SM), which supported the command module with propulsion, electrical power, oxygen, and water; and a lunar module (LM) that had two stages—a descent stage for landing on the Moon and an ascent stage to place the astronauts back into lunar orbit.\n",
      "After being sent to the Moon by the Saturn V's third stage, the astronauts separated the spacecraft from it and traveled for three days until they entered lunar orbit. Armstrong and Aldrin then moved into Eagle and landed in the Sea of Tranquility on July 20. The astronauts used Eagle's ascent stage to lift off from the lunar surface and rejoin Collins in the command module. They jettisoned Eagle before they performed the maneuvers that propelled Columbia out of the last of its 30 lunar orbits onto a trajectory back to Earth. They returned to Earth and splashed down in the Pacific Ocean on July 24 after more than eight days in space.\n",
      "Armstrong's first step onto the lunar surface was broadcast on live TV to a worldwide audience. He described the event as \"one small step for [a] man, one giant leap for mankind.\" Apollo 11 effectively proved U.S. victory in the Space Race to demonstrate spaceflight superiority, by fulfilling a national goal proposed in 1961 by President John F. Kennedy, \"before this decade is out, of landing a man on the Moon and returning him safely to the Earth.\"\n",
      "\n",
      "================================\u001b[1m Human Message \u001b[0m=================================\n",
      "\n",
      "Claim: The Apollo 11 mission landed humans on the Moon for the first time on July 20, 1969.\n",
      "NOTE: the wikipedia page for Apollo 11 is 'Apollo_11'\n",
      "==================================\u001b[1m Ai Message \u001b[0m==================================\n",
      "\n",
      "{\n",
      "    \"label\": \"true\",\n",
      "    \"justification\": \"The evidence directly confirms the claim. The provided text explicitly states that 'Commander Neil Armstrong and Lunar Module Pilot Buzz Aldrin landed the Apollo Lunar Module Eagle on July 20, 1969... Armstrong became the first person to step onto the Moon's surface six hours and 39 minutes later, on July 21 at 02:56 UTC.' This matches the claim exactly.\"\n",
      "}\n"
     ]
    }
   ],
   "source": [
    "for message in reasoning_agent_output['messages']:\n",
    "    message.pretty_print()"
   ]
  },
  {
   "cell_type": "code",
   "execution_count": null,
   "metadata": {},
   "outputs": [],
   "source": []
  }
 ],
 "metadata": {
  "kernelspec": {
   "display_name": "newsagent",
   "language": "python",
   "name": "python3"
  },
  "language_info": {
   "codemirror_mode": {
    "name": "ipython",
    "version": 3
   },
   "file_extension": ".py",
   "mimetype": "text/x-python",
   "name": "python",
   "nbconvert_exporter": "python",
   "pygments_lexer": "ipython3",
   "version": "3.11.11"
  }
 },
 "nbformat": 4,
 "nbformat_minor": 2
}
