{
 "cells": [
  {
   "cell_type": "code",
   "execution_count": null,
   "metadata": {},
   "outputs": [],
   "source": [
    "from claim_decomposer import claim_decomposer\n",
    "from research_agent import create_agent \n",
    "from verdict_agent import verdict_agent\n"
   ]
  },
  {
   "cell_type": "code",
   "execution_count": null,
   "metadata": {},
   "outputs": [],
   "source": [
    "text = \"\"\"\n",
    "The Apollo 11 mission landed humans on the Moon for the first time on July 20, 1969. \n",
    "Neil Armstrong was the first person to walk on the lunar surface.\n",
    "The mission was launched by NASA using a Saturn V rocket.\n",
    "\"\"\"\n",
    "\n",
    "claim_decomposer_output = claim_decomposer.invoke({'text': text})\n",
    "print(claim_decomposer_output['claims'])\n",
    "\n"
   ]
  },
  {
   "cell_type": "code",
   "execution_count": null,
   "metadata": {},
   "outputs": [],
   "source": [
    "claim = claim_decomposer_output['claims'][0]\n",
    "use_builtins = {\n",
    "    'calculator': ['add', 'multiply'],\n",
    "    'wikipedia': ['query']}\n",
    "research_agent = create_agent(model='mistral-nemo', builtin_tools=use_builtins)\n",
    "research_agent_output = research_agent.invoke(\n",
    "    {'claim': claim + \"\\nNOTE: the wikipedia page for Apollo 11 is 'Apollo_11'\"})"
   ]
  },
  {
   "cell_type": "code",
   "execution_count": null,
   "metadata": {},
   "outputs": [],
   "source": [
    "print(f\"Evidence: {research_agent_output['evidence']}\")"
   ]
  },
  {
   "cell_type": "code",
   "execution_count": null,
   "metadata": {},
   "outputs": [],
   "source": [
    "from reasoning_agent import reasoning_agent\n",
    "reasoning_input = {\n",
    "    'messages': [],\n",
    "    'claim': research_agent_output['claim'],\n",
    "    'evidence': research_agent_output['evidence'],\n",
    "}\n",
    "reasoning_agent_output = reasoning_agent.invoke(reasoning_input)"
   ]
  },
  {
   "cell_type": "code",
   "execution_count": null,
   "metadata": {},
   "outputs": [],
   "source": [
    "reasoning_agent_output['messages'][0].pretty_print()"
   ]
  },
  {
   "cell_type": "code",
   "execution_count": null,
   "metadata": {},
   "outputs": [],
   "source": [
    "for message in reasoning_agent_output['messages']:\n",
    "    message.pretty_print()"
   ]
  },
  {
   "cell_type": "code",
   "execution_count": 1,
   "metadata": {},
   "outputs": [],
   "source": [
    "from core.processing import process_query\n",
    "\n"
   ]
  },
  {
   "cell_type": "code",
   "execution_count": null,
   "metadata": {},
   "outputs": [],
   "source": [
    "result = await process_query(text='Philadelphia used to be the capital of the United States', use_builtin_tools=None)"
   ]
  },
  {
   "cell_type": "code",
   "execution_count": 3,
   "metadata": {},
   "outputs": [
    {
     "name": "stdout",
     "output_type": "stream",
     "text": [
      "[{'claim': 'Philadelphia was once the capital of the United States', 'evidence': [{'name': 'query', 'args': {'query': 'Capital of the United States'}, 'result': \"Washington, D.C., formally the District of Columbia and commonly known as Washington or D.C., is the capital city and federal district of the United States. The city is on the Potomac River, across from Virginia, and shares land borders with Maryland to its north and east. It was named after George Washington, the first president of the United States. The district is named for Columbia, the female personification of the nation.\\nThe U.S. Constitution in 1789 called for the creation of a federal district under exclusive jurisdiction of the U.S. Congress. As such, Washington, D.C., is not part of any state, and is not one itself. The Residence Act, adopted on July 16, 1790, approved the creation of the capital district along the Potomac River. The city was founded in 1791, and the 6th Congress held the first session in the unfinished Capitol Building in 1800 after the capital moved from Philadelphia. In 1801, the District of Columbia, formerly part of Maryland and Virginia and including the existing settlements of Georgetown and Alexandria, was officially recognized as the federal district; initially, the city was a separate settlement within the larger district. In 1846, Congress reduced the size of the district when it returned the land originally ceded by Virginia, including the city of Alexandria. In 1871, it created a single municipality for the district. There have been several unsuccessful efforts to make the district into a state since the 1880s; a statehood bill passed the House of Representatives in 2021 but was not adopted by the U.S. Senate. To become law, it would have to be passed by the Senate and signed by the president; it would have renamed the city Washington, Douglass Commonwealth and shrunk the Federal District to about the size of the National Mall.\\nDesigned in 1791 by Pierre Charles L'Enfant, the city is divided into quadrants, which are centered on the Capitol Building and include 131 neighborhoods. As of the 2020 census, the city had a population of 689,545. Commuters from the city's Maryland and Virginia suburbs raise the city's daytime population to more than one million during the workweek. The Washington metropolitan area, which includes parts of Maryland, Virginia, and West Virginia, is the country's seventh-largest metropolitan area, with a 2023 population of 6.3 million residents. A locally elected mayor and 13-member council have governed the district since 1973, though Congress retains the power to overturn local laws. Washington, D.C., residents do not have voting representation in Congress, but elect a single non-voting congressional delegate to the U.S. House of Representatives. The city's voters choose three presidential electors in accordance with the Twenty-third Amendment, passed in 1961.\\nWashington, D.C., anchors the southern end of the Northeast megalopolis. As the seat of the U.S. federal government, the city is an important world political capital. The city hosts buildings that house federal government headquarters, including the White House, U.S. Capitol, Supreme Court Building, and multiple federal departments and agencies. The city is home to many national monuments and museums, located most prominently on or around the National Mall, including the Jefferson Memorial, Lincoln Memorial, and Washington Monument. It hosts 177 foreign embassies and the global headquarters of the World Bank, International Monetary Fund, Organization of American States, and other international organizations. Home to many of the nation's largest industry associations, non-profit organizations, and think tanks, the city is known as a lobbying hub, which is centered on and around K Street. It is also among the country's top tourist destinations; in 2022, it drew an estimated 20.7 million domestic and 1.2 million international visitors, seventh-most among U.S. cities.\"}], 'label': 'false', 'justification': 'The evidence explicitly states that Washington, D.C., is the capital city and federal district of the United States since its founding in 1790. There is no mention of Philadelphia ever being the capital.'}]\n"
     ]
    }
   ],
   "source": [
    "print(result)"
   ]
  },
  {
   "cell_type": "code",
   "execution_count": null,
   "metadata": {},
   "outputs": [],
   "source": []
  }
 ],
 "metadata": {
  "kernelspec": {
   "display_name": "newsagent",
   "language": "python",
   "name": "python3"
  },
  "language_info": {
   "codemirror_mode": {
    "name": "ipython",
    "version": 3
   },
   "file_extension": ".py",
   "mimetype": "text/x-python",
   "name": "python",
   "nbconvert_exporter": "python",
   "pygments_lexer": "ipython3",
   "version": "3.11.11"
  }
 },
 "nbformat": 4,
 "nbformat_minor": 2
}
