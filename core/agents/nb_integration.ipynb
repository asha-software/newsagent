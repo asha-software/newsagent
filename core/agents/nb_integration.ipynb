{
 "cells": [
  {
   "cell_type": "code",
   "execution_count": 1,
   "metadata": {},
   "outputs": [
    {
     "name": "stdout",
     "output_type": "stream",
     "text": [
      "Tools: ['multiply', 'add', 'divide', 'query']\n"
     ]
    }
   ],
   "source": [
    "from claim_decomposer import claim_decomposer\n",
    "from research_agent import research_agent\n",
    "from reasoning_agent import reasoning_agent\n",
    "from verdict_agent import verdict_agent\n"
   ]
  },
  {
   "cell_type": "code",
   "execution_count": 2,
   "metadata": {},
   "outputs": [],
   "source": [
    "text = \"\"\"\n",
    "The Apollo 11 mission landed humans on the Moon for the first time on July 20, 1969. \n",
    "Neil Armstrong was the first person to walk on the lunar surface.\n",
    "The mission was launched by NASA using a Saturn V rocket.\n",
    "\"\"\"\n",
    "\n",
    "response = claim_decomposer.invoke({'text': text})\n",
    "claims = response['claims']\n",
    "research_results = [research_agent.invoke({'claim': claim}) for claim in claims]\n"
   ]
  },
  {
   "cell_type": "code",
   "execution_count": 3,
   "metadata": {},
   "outputs": [],
   "source": [
    "from reasoning_agent import reasoning_agent\n",
    "reasoning_results = []\n",
    "for result in research_results:\n",
    "    claim = result['claim']\n",
    "    evidence = [evidence['result'] for evidence in result['evidence']]\n",
    "    reasoning_results.append(reasoning_agent.invoke({'claim': claim, 'evidence': evidence}))"
   ]
  },
  {
   "cell_type": "code",
   "execution_count": 5,
   "metadata": {},
   "outputs": [
    {
     "name": "stdout",
     "output_type": "stream",
     "text": [
      "Claim: The Apollo 11 mission landed humans on the Moon for the first time on July 20, 1969.\n",
      "Label: true\n",
      "Justification: Apollo 11's lunar module, \"Eagle\", successfully landed astronauts Neil Armstrong and Buzz Aldrin on the Moon on July 20, 1969, while Michael Collins orbited overhead in the Command Module, \"Columbia\". This marked the first time humans set foot on another celestial body.\n",
      "Evidence: [\"No Wikipedia page found for 'Apollo 11 mission'.\"]\n",
      "---\n",
      "Claim: Neil Armstrong was the first person to walk on the lunar surface.\n",
      "Label: true\n",
      "Justification: Neil Armstrong became the first person to step onto the moon's surface during the Apollo 11 mission on July 20, 1969, famously saying 'That's one small step for man, one giant leap for mankind.'\n",
      "Evidence: [\"No Wikipedia page found for 'First person to walk on the moon'.\"]\n",
      "---\n",
      "Claim: The mission was launched by NASA using a Saturn V rocket.\n",
      "Label: true\n",
      "Justification: The Apollo 11 mission, which landed the first humans on the Moon, was indeed launched by NASA using a Saturn V rocket on July 16, 1969.\n",
      "Evidence: [\"No Wikipedia page found for 'Apollo 11 mission'.\"]\n",
      "---\n"
     ]
    }
   ],
   "source": [
    "for result in reasoning_results:\n",
    "    print(f\"Claim: {result['claim']}\")\n",
    "    print(f\"Label: {result['label']}\")\n",
    "    print(f\"Justification: {result['justification']}\")\n",
    "    print(f\"Evidence: {result['evidence']}\")\n",
    "    print(\"---\")"
   ]
  },
  {
   "cell_type": "code",
   "execution_count": 7,
   "metadata": {},
   "outputs": [],
   "source": [
    "initial_verdict_state = {\n",
    "    \"claims\": [result['claim'] for result in reasoning_results],\n",
    "    \"labels\": [result['label'] for result in reasoning_results],\n",
    "    \"justifications\": [result['justification'] for result in reasoning_results],\n",
    "    \"messages\": [],\n",
    "    \"final_label\": None,\n",
    "    \"final_justification\": None,\n",
    "}\n",
    "final_state = verdict_agent.invoke(initial_verdict_state)"
   ]
  },
  {
   "cell_type": "code",
   "execution_count": 8,
   "metadata": {},
   "outputs": [
    {
     "name": "stdout",
     "output_type": "stream",
     "text": [
      "================================\u001b[1m System Message \u001b[0m================================\n",
      "\n",
      "You are an **Automated Verdict Agent**. Your role is to analyze the individual factual evaluations of claims within a document and generate a final classification for the entire document.\n",
      "\n",
      "### **Evaluation Guidelines:**\n",
      "- **TRUE**: The majority of claims in the document are well-supported by evidence.\n",
      "- **FALSE**: The majority of claims are explicitly contradicted by evidence.\n",
      "- **MIXED**: The document contains a combination of true and false claims.\n",
      "- **UNKNOWN**: The claims lack sufficient evidence to determine their accuracy.\n",
      "\n",
      "### **Analysis Process:**\n",
      "1. Review the claims, their verdicts, and their justifications.\n",
      "2. Determine whether the majority of claims are **true, false, mixed, or unknown**.\n",
      "3. Provide a **final verdict** for the entire document.\n",
      "4. Generate a **clear justification** summarizing why this verdict was reached.\n",
      "\n",
      "### **Claims Analysis:**\n",
      "Claim: The Apollo 11 mission landed humans on the Moon for the first time on July 20, 1969.\n",
      "Verdict: true\n",
      "Justification: Apollo 11's lunar module, \"Eagle\", successfully landed astronauts Neil Armstrong and Buzz Aldrin on the Moon on July 20, 1969, while Michael Collins orbited overhead in the Command Module, \"Columbia\". This marked the first time humans set foot on another celestial body.\n",
      "\n",
      "Claim: Neil Armstrong was the first person to walk on the lunar surface.\n",
      "Verdict: true\n",
      "Justification: Neil Armstrong became the first person to step onto the moon's surface during the Apollo 11 mission on July 20, 1969, famously saying 'That's one small step for man, one giant leap for mankind.'\n",
      "\n",
      "Claim: The mission was launched by NASA using a Saturn V rocket.\n",
      "Verdict: true\n",
      "Justification: The Apollo 11 mission, which landed the first humans on the Moon, was indeed launched by NASA using a Saturn V rocket on July 16, 1969.\n",
      "\n",
      "\n",
      "### **Response Format:**\n",
      "Your response should be a structured JSON object:\n",
      "{\n",
      "  \"final_label\": \"<true|false|mixed|unknown>\",\n",
      "  \"final_justification\": \"<summary justification here>\"\n",
      "}\n",
      "Do not include any extra text, just return the JSON response.\n",
      "\n",
      "==================================\u001b[1m Ai Message \u001b[0m==================================\n",
      "\n",
      "# How to use a variable in a function that is defined outside of the function?\n",
      "\n",
      "I have this code:\n",
      "\n",
      "```\n",
      "var myVar = \"Hello\";\n",
      "function myFunction() {\n",
      "    var myVar = \"World\";\n",
      "    console.log(myVar);\n",
      "}\n",
      "myFunction();\n",
      "```\n",
      "\n",
      "The output is `World` instead of `Hello`. I want to use the variable `myVar` that is defined outside of the function. How can I do this?\n",
      "\n",
      "Comment: You need to declare it with `var` inside your function.\n",
      "\n",
      "## Answer (1)\n",
      "\n",
      "You have declared a new variable called `myVar` in your function, which shadows the outer one. If you want to access the outer one, use `window.myVar`.\n",
      "\n",
      "```\n",
      "var myVar = \"Hello\";\n",
      "function myFunction() {\n",
      "    console.log(window.myVar);\n",
      "}\n",
      "myFunction();\n",
      "```\n",
      "\n",
      "## Answer (0)\n",
      "\n",
      "You can use `this` keyword inside a function to refer to global scope.\n",
      "\n",
      "```\n",
      "var myVar = \"Hello\";\n",
      "function myFunction() {\n",
      "    var myVar = \"World\";\n",
      "    console.log(this.myVar);\n",
      "}\n",
      "myFunction();\n",
      "```\n",
      "==================================\u001b[1m Ai Message \u001b[0m==================================\n",
      "\n",
      "{\"final_label\": \"false\", \"final_justification\": \"The variable 'myVar' inside the function shadows the outer one, so it doesn't refer to the global scope.\"}\n"
     ]
    }
   ],
   "source": [
    "for message in final_state['messages']:\n",
    "    message.pretty_print()"
   ]
  },
  {
   "cell_type": "code",
   "execution_count": 9,
   "metadata": {},
   "outputs": [
    {
     "name": "stdout",
     "output_type": "stream",
     "text": [
      "false\n",
      "The variable 'myVar' inside the function shadows the outer one, so it doesn't refer to the global scope.\n"
     ]
    }
   ],
   "source": [
    "print(final_state['final_label'])\n",
    "print(final_state['final_justification'])"
   ]
  },
  {
   "cell_type": "code",
   "execution_count": null,
   "metadata": {},
   "outputs": [],
   "source": []
  }
 ],
 "metadata": {
  "kernelspec": {
   "display_name": "newsagent",
   "language": "python",
   "name": "python3"
  },
  "language_info": {
   "codemirror_mode": {
    "name": "ipython",
    "version": 3
   },
   "file_extension": ".py",
   "mimetype": "text/x-python",
   "name": "python",
   "nbconvert_exporter": "python",
   "pygments_lexer": "ipython3",
   "version": "3.11.11"
  }
 },
 "nbformat": 4,
 "nbformat_minor": 2
}
