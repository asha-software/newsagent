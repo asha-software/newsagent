{
 "cells": [
  {
   "cell_type": "code",
   "execution_count": 8,
   "metadata": {},
   "outputs": [],
   "source": [
    "import pandas as pd"
   ]
  },
  {
   "cell_type": "code",
   "execution_count": 9,
   "metadata": {},
   "outputs": [
    {
     "name": "stdout",
     "output_type": "stream",
     "text": [
      "1174\n",
      "Index(['id', 'label', 'claim', 'evidence', 'original_id', 'transformation',\n",
      "       'attack', 'annotation'],\n",
      "      dtype='object')\n"
     ]
    }
   ],
   "source": [
    "dataset = pd.read_json('datasets/fever2-fixers-dev.jsonl', lines=True)\n",
    "print(len(dataset))\n",
    "print(dataset.columns)"
   ]
  },
  {
   "cell_type": "code",
   "execution_count": 10,
   "metadata": {},
   "outputs": [
    {
     "name": "stdout",
     "output_type": "stream",
     "text": [
      "Number of valid rows: 1174\n"
     ]
    }
   ],
   "source": [
    "# Check that every row has a valid claim (str) and label (\"SUPPORTS\", \"REFUTES\", \"NOT ENOUGH INFO\")\n",
    "def check_claim(row):\n",
    "    ok = True\n",
    "    if not isinstance(row['claim'], str):\n",
    "        print(row['claim'])\n",
    "        ok = False\n",
    "    if not isinstance(row['label'], str):\n",
    "        print(row['label'])\n",
    "        ok = False\n",
    "    if row['label'].upper() not in ['SUPPORTS', 'REFUTES', 'NOT ENOUGH INFO']:\n",
    "        ok = False\n",
    "        print(row['label']) \n",
    "    return ok\n",
    "valid_rows = dataset.apply(check_claim, axis=1)\n",
    "print(f\"Number of valid rows: {valid_rows.sum()}\")"
   ]
  },
  {
   "cell_type": "code",
   "execution_count": null,
   "metadata": {},
   "outputs": [
    {
     "name": "stdout",
     "output_type": "stream",
     "text": [
      "Globalism is not a group of ideologies that oppose the concept of globalization.\n",
      "SUPPORTS\n"
     ]
    }
   ],
   "source": [
    "# Test run\n",
    "from core.processing import process_query\n",
    "\n",
    "example = dataset.iloc[42]\n",
    "print(example['claim'])\n",
    "print(example['label'])\n",
    "\n",
    "async def process_claim(claim: str):\n",
    "    return await process_query(text=claim, selected_sources=None)\n",
    "\n",
    "\n",
    "def translate_label(label: str) -> str:\n",
    "    \"\"\"\n",
    "    Translate the newsagent label to the Fever2 label.\n",
    "    :param label: The newsagent label.\n",
    "    :return: The Fever2 label.\n",
    "    \"\"\"\n",
    "    if label == 'true':\n",
    "        return 'SUPPORTS'\n",
    "    elif label == 'false':\n",
    "        return 'REFUTES'\n",
    "    else:\n",
    "        return 'NOT ENOUGH INFO'\n",
    "    \n",
    "async def evaluate_row(row: pd.Series):\n",
    "    claim = row['claim']\n",
    "    label = row['label']\n",
    "    analysis = await process_query(text=claim, selected_sources=None)\n",
    "    \n",
    "    # Here we're assuming there's only one claim processed by newsagent\n",
    "    # TODO: soften this assumption, OR hook up the verdict agent\n",
    "    proposed_label = analysis[0]['label']\n",
    "    predicted_label = translate_label(proposed_label)\n",
    "    print(f\"Ground truth: {label}, predicted: {predicted_label}\")\n",
    "    # Check if the predicted label is correct\n",
    "    if predicted_label.upper() == label.upper():\n",
    "        print(\"Correct prediction\")\n",
    "    else:\n",
    "        print(\"Incorrect prediction\")\n",
    "\n",
    "    return label.upper(), predicted_label.upper()\n",
    "    "
   ]
  },
  {
   "cell_type": "code",
   "execution_count": 12,
   "metadata": {},
   "outputs": [
    {
     "name": "stdout",
     "output_type": "stream",
     "text": [
      "Ground truth: SUPPORTS, predicted: NOT ENOUGH INFO\n",
      "Incorrect prediction\n"
     ]
    }
   ],
   "source": [
    "result = await evaluate_row(example)"
   ]
  },
  {
   "cell_type": "code",
   "execution_count": 13,
   "metadata": {},
   "outputs": [
    {
     "name": "stdout",
     "output_type": "stream",
     "text": [
      "('SUPPORTS', 'NOT ENOUGH INFO')\n"
     ]
    }
   ],
   "source": [
    "print(result)"
   ]
  },
  {
   "cell_type": "code",
   "execution_count": null,
   "metadata": {},
   "outputs": [],
   "source": []
  }
 ],
 "metadata": {
  "kernelspec": {
   "display_name": "newsagent",
   "language": "python",
   "name": "python3"
  },
  "language_info": {
   "codemirror_mode": {
    "name": "ipython",
    "version": 3
   },
   "file_extension": ".py",
   "mimetype": "text/x-python",
   "name": "python",
   "nbconvert_exporter": "python",
   "pygments_lexer": "ipython3",
   "version": "3.11.11"
  }
 },
 "nbformat": 4,
 "nbformat_minor": 2
}
