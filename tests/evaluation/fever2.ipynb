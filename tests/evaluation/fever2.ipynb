{
 "cells": [
  {
   "cell_type": "markdown",
   "metadata": {},
   "source": [
    "# Fever 2.0 Evaluation Code\n",
    "\n",
    "Assumes the dataset is in `datasets/fever2-fixers-dev.jsonl` relative to this notebook\n",
    "\n"
   ]
  },
  {
   "cell_type": "code",
   "execution_count": 1,
   "metadata": {},
   "outputs": [
    {
     "name": "stdout",
     "output_type": "stream",
     "text": [
      "       id            label                                              claim  \\\n",
      "0  500000  NOT ENOUGH INFO  There is a convicted statutory rapist called C...   \n",
      "1  500001         SUPPORTS  There exists a producer and an actor called Si...   \n",
      "2  500002          REFUTES  Exotic Birds rejected to be an opening band fo...   \n",
      "\n",
      "                                            evidence  original_id  \\\n",
      "0                     [[[269158, None, None, None]]]     225798.0   \n",
      "1                [[[141141, 156349, Simon_Pegg, 0]]]     120126.0   \n",
      "2  [[[25977, 31918, Exotic_Birds, 2], [25977, 319...          NaN   \n",
      "\n",
      "     transformation                 attack  \\\n",
      "0  label_preserving      there.is.a.called   \n",
      "1  label_preserving  there.exists.a.called   \n",
      "2               NaN       word replacement   \n",
      "\n",
      "                                          annotation  \n",
      "0                                                N/A  \n",
      "1                                                N/A  \n",
      "2  OK - Claim is grammatical and label supported ...  \n",
      "Total rows: 1174\n",
      "Number of valid rows: 1174\n"
     ]
    }
   ],
   "source": [
    "import pandas as pd\n",
    "from sklearn.metrics import f1_score\n",
    "\n",
    "dataset = pd.read_json('datasets/fever2-fixers-dev.jsonl', lines=True)\n",
    "print(dataset.head(3))\n",
    "print(f\"Total rows: {len(dataset)}\")\n",
    "\n",
    "# Normalize label column to always uppercase\n",
    "dataset['label'] = dataset['label'].str.upper()\n",
    "\n",
    "def check_claim(row):\n",
    "    ok = True\n",
    "    if not isinstance(row['claim'], str):\n",
    "        print(row['claim'])\n",
    "        ok = False\n",
    "    if not isinstance(row['label'], str):\n",
    "        print(row['label'])\n",
    "        ok = False\n",
    "    if row['label'] not in ['SUPPORTS', 'REFUTES', 'NOT ENOUGH INFO']:\n",
    "        ok = False\n",
    "        print(row['label'])\n",
    "    return ok\n",
    "\n",
    "\n",
    "valid_rows = dataset.apply(check_claim, axis=1)\n",
    "\n",
    "# Check that every row has a valid claim (str) and label (\"SUPPORTS\", \"REFUTES\", \"NOT ENOUGH INFO\")\n",
    "print(f\"Number of valid rows: {valid_rows.sum()}\")"
   ]
  },
  {
   "cell_type": "code",
   "execution_count": 2,
   "metadata": {},
   "outputs": [],
   "source": [
    "from tqdm import tqdm\n",
    "from core.processing import process_query\n",
    "\n",
    "\n",
    "def translate_label(label: str) -> str:\n",
    "    \"\"\"Translate the newsagent label to the Fever2 label.\"\"\"\n",
    "    if label == 'true':\n",
    "        return 'SUPPORTS'\n",
    "    elif label == 'false':\n",
    "        return 'REFUTES'\n",
    "    else:\n",
    "        return 'NOT ENOUGH INFO'\n",
    "\n",
    "\n",
    "async def evaluate_df(df: pd.DataFrame, builtin_tools: list[str]=[], user_tool_kwargs=[]):\n",
    "    agent_responses, predicted_labels, correct_prediction = [], [], []\n",
    "    for i in tqdm(range(len(df))):\n",
    "        row = df.iloc[i]\n",
    "        claim = row['claim']\n",
    "        label = row['label']\n",
    "\n",
    "        agent_response = await process_query(text=claim, builtin_tools=builtin_tools, user_tool_kwargs=user_tool_kwargs)\n",
    "        predicted_label = agent_response['final_label']\n",
    "        predicted_fever_label = translate_label(predicted_label)\n",
    "\n",
    "        # Compile results\n",
    "        agent_responses.append(agent_response)\n",
    "        predicted_labels.append(predicted_fever_label)\n",
    "        correct_prediction.append(predicted_fever_label == label)\n",
    "    return agent_responses, predicted_labels, correct_prediction \n",
    "\n",
    "import nest_asyncio\n",
    "nest_asyncio.apply()\n",
    "\n"
   ]
  },
  {
   "cell_type": "code",
   "execution_count": 3,
   "metadata": {},
   "outputs": [
    {
     "name": "stderr",
     "output_type": "stream",
     "text": [
      "100%|██████████| 1/1 [00:11<00:00, 11.02s/it]\n"
     ]
    }
   ],
   "source": [
    "# Test run\n",
    "mini_df = dataset.iloc[:1].copy()\n",
    "agent_responses, preds, is_correct_list = await evaluate_df(mini_df)\n",
    "mini_df['agent_response'] = agent_responses\n",
    "mini_df['predicted_label'] = preds\n",
    "mini_df['is_correct'] = is_correct_list"
   ]
  },
  {
   "cell_type": "code",
   "execution_count": 4,
   "metadata": {},
   "outputs": [
    {
     "name": "stdout",
     "output_type": "stream",
     "text": [
      "       id            label                                              claim  \\\n",
      "0  500000  NOT ENOUGH INFO  There is a convicted statutory rapist called C...   \n",
      "\n",
      "                         evidence  original_id    transformation  \\\n",
      "0  [[[269158, None, None, None]]]     225798.0  label_preserving   \n",
      "\n",
      "              attack annotation  \\\n",
      "0  there.is.a.called        N/A   \n",
      "\n",
      "                                      agent_response  predicted_label  \\\n",
      "0  {'final_label': 'unknown', 'final_justificatio...  NOT ENOUGH INFO   \n",
      "\n",
      "   is_correct  label_int  predicted_label_int  \n",
      "0        True          2                    2  \n",
      "F1 score: 1.0000\n"
     ]
    }
   ],
   "source": [
    "# Compute F1 score for the 3 labels\n",
    "# Convert \"REFUTES\" to 0, \"SUPPORTS\" to 1, and \"NOT ENOUGH INFO\" to 2\n",
    "label_mapping = {'REFUTES': 0, 'SUPPORTS': 1, 'NOT ENOUGH INFO': 2}\n",
    "mini_df['label_int'] = mini_df['label'].map(label_mapping)\n",
    "mini_df['predicted_label_int'] = mini_df['predicted_label'].map(label_mapping)\n",
    "\n",
    "print(mini_df)\n",
    "f1 = f1_score(mini_df['label_int'],\n",
    "              mini_df['predicted_label_int'], average='macro')\n",
    "print(f\"F1 score: {f1:.4f}\")"
   ]
  },
  {
   "cell_type": "code",
   "execution_count": 5,
   "metadata": {},
   "outputs": [],
   "source": [
    "async def run_evaluation(dataset, builtin_tools, user_tool_kwargs):\n",
    "    # Evaluate the entire dataset\n",
    "    df = dataset.copy()\n",
    "    agent_responses, preds, is_correct_list = await evaluate_df(df, builtin_tools=builtin_tools, user_tool_kwargs=user_tool_kwargs)\n",
    "    df['agent_response'] = agent_responses\n",
    "    df['predicted_label'] = preds\n",
    "    df['is_correct'] = is_correct_list\n",
    "\n",
    "    # Compute F1 score for the 3 labels\n",
    "    # Convert \"REFUTES\" to 0, \"SUPPORTS\" to 1, and \"NOT ENOUGH INFO\" to 2\n",
    "    label_mapping = {'REFUTES': 0, 'SUPPORTS': 1, 'NOT ENOUGH INFO': 2}\n",
    "    df['label_int'] = df['label'].map(label_mapping)\n",
    "    df['predicted_label_int'] = df['predicted_label'].map(label_mapping)\n",
    "\n",
    "    f1 = f1_score(dataset['label_int'],\n",
    "                  dataset['predicted_label_int'], average='macro')\n",
    "    print(f\"F1 score: {f1:.4f}\")\n",
    "    return df, f1\n",
    "\n"
   ]
  },
  {
   "cell_type": "code",
   "execution_count": null,
   "metadata": {},
   "outputs": [
    {
     "name": "stderr",
     "output_type": "stream",
     "text": [
      "100%|██████████| 1/1 [00:10<00:00, 10.89s/it]"
     ]
    },
    {
     "name": "stdout",
     "output_type": "stream",
     "text": [
      "F1 score: 1.0000\n",
      "       id            label                                              claim  \\\n",
      "0  500000  NOT ENOUGH INFO  There is a convicted statutory rapist called C...   \n",
      "\n",
      "                         evidence  original_id    transformation  \\\n",
      "0  [[[269158, None, None, None]]]     225798.0  label_preserving   \n",
      "\n",
      "              attack annotation  \\\n",
      "0  there.is.a.called        N/A   \n",
      "\n",
      "                                      agent_response  predicted_label  \\\n",
      "0  {'final_label': 'unknown', 'final_justificatio...  NOT ENOUGH INFO   \n",
      "\n",
      "   is_correct  label_int  predicted_label_int  \n",
      "0        True          2                    2  \n",
      "1.0\n"
     ]
    },
    {
     "name": "stderr",
     "output_type": "stream",
     "text": [
      "\n"
     ]
    }
   ],
   "source": [
    "mini_results, mini_f1 = await run_evaluation(dataset=mini_df, builtin_tools=[], user_tool_kwargs=[])\n",
    "print(f\"F1: {mini_f1}\")"
   ]
  },
  {
   "cell_type": "code",
   "execution_count": 7,
   "metadata": {},
   "outputs": [
    {
     "name": "stdout",
     "output_type": "stream",
     "text": [
      "1.0\n"
     ]
    }
   ],
   "source": [
    "print(mini_f1)"
   ]
  },
  {
   "cell_type": "markdown",
   "metadata": {},
   "source": [
    "### Evaluate dataset using no tools"
   ]
  },
  {
   "cell_type": "code",
   "execution_count": null,
   "metadata": {},
   "outputs": [
    {
     "name": "stderr",
     "output_type": "stream",
     "text": [
      " 20%|█▉        | 229/1174 [1:10:41<5:05:54, 19.42s/it]"
     ]
    }
   ],
   "source": [
    "no_tools_results, no_tools_f1 = await run_evaluation(dataset=dataset, builtin_tools=[], user_tool_kwargs=[])\n",
    "print(f\"F1: {no_tools_f1}\")"
   ]
  },
  {
   "cell_type": "markdown",
   "metadata": {},
   "source": [
    "## Evaluate using Wikipedia API"
   ]
  },
  {
   "cell_type": "code",
   "execution_count": null,
   "metadata": {},
   "outputs": [],
   "source": [
    "wiki_results, wiki_f1 = await run_evaluation(dataset=dataset, builtin_tools=['wikipedia'], user_tool_kwargs=[])"
   ]
  },
  {
   "cell_type": "markdown",
   "metadata": {},
   "source": [
    "## Evaluate using Web Search"
   ]
  },
  {
   "cell_type": "code",
   "execution_count": null,
   "metadata": {},
   "outputs": [],
   "source": [
    "web_results, web_f1 = await run_evaluation(dataset=dataset, builtin_tools=['web_search'], user_tool_kwargs=[])"
   ]
  },
  {
   "cell_type": "markdown",
   "metadata": {},
   "source": [
    "## Evaluate using Web & Wikipedia"
   ]
  },
  {
   "cell_type": "code",
   "execution_count": null,
   "metadata": {},
   "outputs": [],
   "source": [
    "wiki_web_results, wiki_web_f1 = await run_evaluation(dataset=dataset, builtin_tools=['web_search'], user_tool_kwargs=[])"
   ]
  },
  {
   "cell_type": "code",
   "execution_count": null,
   "metadata": {},
   "outputs": [],
   "source": []
  }
 ],
 "metadata": {
  "kernelspec": {
   "display_name": "newsagent",
   "language": "python",
   "name": "python3"
  },
  "language_info": {
   "codemirror_mode": {
    "name": "ipython",
    "version": 3
   },
   "file_extension": ".py",
   "mimetype": "text/x-python",
   "name": "python",
   "nbconvert_exporter": "python",
   "pygments_lexer": "ipython3",
   "version": "3.11.11"
  }
 },
 "nbformat": 4,
 "nbformat_minor": 2
}
