{
 "cells": [
  {
   "cell_type": "markdown",
   "metadata": {},
   "source": [
    "# Fever 2.0 Evaluation Code\n",
    "\n",
    "Assumes the dataset is in `datasets/fever2-fixers-dev.jsonl` relative to this notebook\n",
    "\n"
   ]
  },
  {
   "cell_type": "code",
   "execution_count": 1,
   "metadata": {},
   "outputs": [
    {
     "name": "stdout",
     "output_type": "stream",
     "text": [
      "       id            label                                              claim  \\\n",
      "0  500000  NOT ENOUGH INFO  There is a convicted statutory rapist called C...   \n",
      "1  500001         SUPPORTS  There exists a producer and an actor called Si...   \n",
      "2  500002          REFUTES  Exotic Birds rejected to be an opening band fo...   \n",
      "\n",
      "                                            evidence  original_id  \\\n",
      "0                     [[[269158, None, None, None]]]     225798.0   \n",
      "1                [[[141141, 156349, Simon_Pegg, 0]]]     120126.0   \n",
      "2  [[[25977, 31918, Exotic_Birds, 2], [25977, 319...          NaN   \n",
      "\n",
      "     transformation                 attack  \\\n",
      "0  label_preserving      there.is.a.called   \n",
      "1  label_preserving  there.exists.a.called   \n",
      "2               NaN       word replacement   \n",
      "\n",
      "                                          annotation  \n",
      "0                                                N/A  \n",
      "1                                                N/A  \n",
      "2  OK - Claim is grammatical and label supported ...  \n",
      "Total rows: 1174\n",
      "Number of valid rows: 1174\n"
     ]
    }
   ],
   "source": [
    "import pandas as pd\n",
    "from sklearn.metrics import f1_score\n",
    "\n",
    "dataset = pd.read_json('datasets/fever2-fixers-dev.jsonl', lines=True)\n",
    "print(dataset.head(3))\n",
    "print(f\"Total rows: {len(dataset)}\")\n",
    "\n",
    "# Normalize label column to always uppercase\n",
    "dataset['label'] = dataset['label'].str.upper()\n",
    "\n",
    "def check_claim(row):\n",
    "    ok = True\n",
    "    if not isinstance(row['claim'], str):\n",
    "        print(row['claim'])\n",
    "        ok = False\n",
    "    if not isinstance(row['label'], str):\n",
    "        print(row['label'])\n",
    "        ok = False\n",
    "    if row['label'] not in ['SUPPORTS', 'REFUTES', 'NOT ENOUGH INFO']:\n",
    "        ok = False\n",
    "        print(row['label'])\n",
    "    return ok\n",
    "\n",
    "\n",
    "valid_rows = dataset.apply(check_claim, axis=1)\n",
    "\n",
    "# Check that every row has a valid claim (str) and label (\"SUPPORTS\", \"REFUTES\", \"NOT ENOUGH INFO\")\n",
    "print(f\"Number of valid rows: {valid_rows.sum()}\")"
   ]
  },
  {
   "cell_type": "code",
   "execution_count": 2,
   "metadata": {},
   "outputs": [],
   "source": [
    "from tqdm import tqdm\n",
    "from core.processing import process_query\n",
    "\n",
    "\n",
    "def translate_label(label: str) -> str:\n",
    "    \"\"\"Translate the newsagent label to the Fever2 label.\"\"\"\n",
    "    if label == 'true':\n",
    "        return 'SUPPORTS'\n",
    "    elif label == 'false':\n",
    "        return 'REFUTES'\n",
    "    else:\n",
    "        return 'NOT ENOUGH INFO'\n",
    "\n",
    "\n",
    "async def evaluate_df(df: pd.DataFrame):\n",
    "    agent_responses, predicted_labels, correct_prediction = [], [], []\n",
    "    for i in tqdm(range(len(df))):\n",
    "        row = df.iloc[i]\n",
    "        claim = row['claim']\n",
    "        label = row['label']\n",
    "\n",
    "        agent_response = await process_query(text=claim, selected_sources=None)\n",
    "        predicted_label = agent_response['final_label']\n",
    "        predicted_fever_label = translate_label(predicted_label)\n",
    "\n",
    "        # Compile results\n",
    "        agent_responses.append(agent_response)\n",
    "        predicted_labels.append(predicted_fever_label)\n",
    "        correct_prediction.append(predicted_fever_label == label)\n",
    "    return agent_responses, predicted_labels, correct_prediction \n",
    "\n",
    "import nest_asyncio\n",
    "nest_asyncio.apply()\n",
    "\n"
   ]
  },
  {
   "cell_type": "code",
   "execution_count": 3,
   "metadata": {},
   "outputs": [
    {
     "data": {
      "text/plain": [
       "id                                                           500000\n",
       "label                                               NOT ENOUGH INFO\n",
       "claim             There is a convicted statutory rapist called C...\n",
       "evidence                             [[[269158, None, None, None]]]\n",
       "original_id                                                225798.0\n",
       "transformation                                     label_preserving\n",
       "attack                                            there.is.a.called\n",
       "annotation                                                      N/A\n",
       "Name: 0, dtype: object"
      ]
     },
     "execution_count": 3,
     "metadata": {},
     "output_type": "execute_result"
    }
   ],
   "source": [
    "# Figure out why this example isn't returning valid json in the verdict agent\n",
    "dataset.iloc[0]\n",
    "\n",
    "# Figure out why this example is causing newsagent to hang\n",
    "# dataset.iloc[2]"
   ]
  },
  {
   "cell_type": "code",
   "execution_count": 4,
   "metadata": {},
   "outputs": [
    {
     "name": "stderr",
     "output_type": "stream",
     "text": [
      "  0%|          | 0/1 [00:00<?, ?it/s]"
     ]
    },
    {
     "name": "stdout",
     "output_type": "stream",
     "text": [
      "Using first search result Chinatown (1974 film)!\n"
     ]
    },
    {
     "name": "stderr",
     "output_type": "stream",
     "text": [
      "100%|██████████| 1/1 [00:26<00:00, 26.14s/it]"
     ]
    },
    {
     "name": "stdout",
     "output_type": "stream",
     "text": [
      "JSON decode error: Expecting value: line 1 column 1 (char 0)\n",
      "Raw response content: \n",
      "MESSAGES:\n",
      "================================\u001b[1m System Message \u001b[0m================================\n",
      "\n",
      "You are an expert analyst. The user will give you some text. Your task is to identify and extract all claims made in the text.\n",
      "\n",
      "### Instructions: Read the entire document carefully and list each individual factual claim. Each claim should be a complete statement that can be fact-checked.\n",
      "\n",
      "- A claim is any statement that can be objectively verified as true or false, regardless of whether it is actually true.\n",
      "- IGNORE opinions, subjective interpretations, or ambiguous statements.\n",
      "- IGNORE existential or trivial statements that are nearly always true (e.g. 'some people disagree with the policy')\n",
      "- Remember to remain objective and avoid inserting any personal interpretation or bias when extracting claims.\n",
      "\n",
      "Output Format:\n",
      "- Return your results as a JSON array of strings.\n",
      "- Each string in the array must contain one claim.\n",
      "- Do not include any additional text, explanations, or commentary—only the JSON array.\n",
      "\n",
      "{\n",
      "  \"examples\": [\n",
      "    {\n",
      "      \"input\": \"Albert Einstein was born in Germany. He developed the theory of relativity, which revolutionized physics.\",\n",
      "      \"output\": [\n",
      "        \"Albert Einstein was born in Germany.\",\n",
      "        \"Albert Einstein developed the theory of relativity.\",\n",
      "        \"The theory of relativity revolutionized physics.\"\n",
      "      ]\n",
      "    },\n",
      "    {\n",
      "      \"input\": \"Climate change is causing more extreme weather events every year. But of course, some people still insist it's just a natural cycle\",\n",
      "      \"output\": [\n",
      "        \"Climate change is causing extreme weather events to increase every year\",\n",
      "      ]\n",
      "    },\n",
      "    {\n",
      "      \"input\": \"Windmills emit high frequency signals causing birds to die\",\n",
      "      \"output\": [\n",
      "        \"Windmills emit high frequency signals\",\n",
      "        \"High frequency signals kill birds\"\n",
      "      ]\n",
      "    },\n",
      "    {\n",
      "      \"input\": \"Breaking: Ancient bird fossil uncovered, challenging everything we assumed about avian evolution!\",\n",
      "      \"output\": [\n",
      "        \"Someone has recently found an ancient bird fossil.\",\n",
      "        \"The ancient bird fossil has properties that conflict with current beliefs on avian evolution.\"\n",
      "      ]\n",
      "    },\n",
      "    {\n",
      "      \"input\": \"Wake up! Sources confirm the government's fluoridation program leads to cancer, brain decay, and infertility!\",\n",
      "      \"output\": [\n",
      "        \"Public water fluoridation causes cancer, brain decay, and infertility.\",\n",
      "        \"A trustworthy source has presented evidence that verifies water fluoridation causes cancer, brain decay, and infertility.\"\n",
      "      ]\n",
      "    }\n",
      "  ]\n",
      "}\n",
      "\n",
      "==================================\u001b[1m Ai Message \u001b[0m==================================\n",
      "\n",
      "### Claims Analysis\n",
      "Claim: There is a convicted statutory rapist named Chinatown's writer.\n",
      "Verdict: false\n",
      "Justification: There is no convicted statutory rapist named Chinatown's writer. The film 'Chinatown' was written by Robert Towne, not a person named Chinatown's Writer.\n",
      "==================================\u001b[1m Ai Message \u001b[0m==================================\n"
     ]
    },
    {
     "name": "stderr",
     "output_type": "stream",
     "text": [
      "\n"
     ]
    }
   ],
   "source": [
    "# Test run\n",
    "mini_df = dataset.iloc[:1].copy()\n",
    "agent_responses, preds, is_correct_list = await evaluate_df(mini_df)\n",
    "mini_df['agent_response'] = agent_responses\n",
    "mini_df['predicted_label'] = preds\n",
    "mini_df['is_correct'] = is_correct_list"
   ]
  },
  {
   "cell_type": "code",
   "execution_count": null,
   "metadata": {},
   "outputs": [],
   "source": [
    "# Compute F1 score for the 3 labels\n",
    "\n",
    "\n",
    "# Convert \"REFUTES\" to 0, \"SUPPORTS\" to 1, and \"NOT ENOUGH INFO\" to 2\n",
    "label_mapping = {'REFUTES': 0, 'SUPPORTS': 1, 'NOT ENOUGH INFO': 2}\n",
    "mini_df['label_int'] = mini_df['label'].map(label_mapping)\n",
    "mini_df['predicted_label_int'] = mini_df['predicted_label'].map(label_mapping)\n",
    "\n",
    "print(mini_df)\n"
   ]
  },
  {
   "cell_type": "code",
   "execution_count": null,
   "metadata": {},
   "outputs": [],
   "source": [
    "f1 = f1_score(mini_df['label_int'], mini_df['predicted_label_int'], average='macro')\n",
    "print(f\"F1 score: {f1:.4f}\")"
   ]
  },
  {
   "cell_type": "code",
   "execution_count": null,
   "metadata": {},
   "outputs": [],
   "source": []
  }
 ],
 "metadata": {
  "kernelspec": {
   "display_name": "newsagent",
   "language": "python",
   "name": "python3"
  },
  "language_info": {
   "codemirror_mode": {
    "name": "ipython",
    "version": 3
   },
   "file_extension": ".py",
   "mimetype": "text/x-python",
   "name": "python",
   "nbconvert_exporter": "python",
   "pygments_lexer": "ipython3",
   "version": "3.11.11"
  }
 },
 "nbformat": 4,
 "nbformat_minor": 2
}
