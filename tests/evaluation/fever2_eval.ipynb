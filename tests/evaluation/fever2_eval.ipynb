{
 "cells": [
  {
   "cell_type": "markdown",
   "metadata": {},
   "source": [
    "# Fever 2.0 Evaluation Code\n",
    "\n",
    "Assumes the dataset is in `datasets/fever2-fixers-dev.jsonl` relative to this notebook\n",
    "\n"
   ]
  },
  {
   "cell_type": "code",
   "execution_count": 1,
   "metadata": {},
   "outputs": [
    {
     "name": "stdout",
     "output_type": "stream",
     "text": [
      "       id            label                                              claim  \\\n",
      "0  500000  NOT ENOUGH INFO  There is a convicted statutory rapist called C...   \n",
      "1  500001         SUPPORTS  There exists a producer and an actor called Si...   \n",
      "2  500002          REFUTES  Exotic Birds rejected to be an opening band fo...   \n",
      "\n",
      "                                            evidence  original_id  \\\n",
      "0                     [[[269158, None, None, None]]]     225798.0   \n",
      "1                [[[141141, 156349, Simon_Pegg, 0]]]     120126.0   \n",
      "2  [[[25977, 31918, Exotic_Birds, 2], [25977, 319...          NaN   \n",
      "\n",
      "     transformation                 attack  \\\n",
      "0  label_preserving      there.is.a.called   \n",
      "1  label_preserving  there.exists.a.called   \n",
      "2               NaN       word replacement   \n",
      "\n",
      "                                          annotation  \n",
      "0                                                N/A  \n",
      "1                                                N/A  \n",
      "2  OK - Claim is grammatical and label supported ...  \n",
      "Total rows: 1174\n",
      "Number of valid rows: 1174\n"
     ]
    }
   ],
   "source": [
    "import pandas as pd\n",
    "from sklearn.metrics import f1_score\n",
    "\n",
    "dataset = pd.read_json('datasets/fever2-fixers-dev.jsonl', lines=True)\n",
    "print(dataset.head(3))\n",
    "print(f\"Total rows: {len(dataset)}\")\n",
    "\n",
    "# Normalize label column to always uppercase\n",
    "dataset['label'] = dataset['label'].str.upper()\n",
    "\n",
    "def check_claim(row):\n",
    "    ok = True\n",
    "    if not isinstance(row['claim'], str):\n",
    "        print(row['claim'])\n",
    "        ok = False\n",
    "    if not isinstance(row['label'], str):\n",
    "        print(row['label'])\n",
    "        ok = False\n",
    "    if row['label'] not in ['SUPPORTS', 'REFUTES', 'NOT ENOUGH INFO']:\n",
    "        ok = False\n",
    "        print(row['label'])\n",
    "    return ok\n",
    "\n",
    "\n",
    "valid_rows = dataset.apply(check_claim, axis=1)\n",
    "\n",
    "# Check that every row has a valid claim (str) and label (\"SUPPORTS\", \"REFUTES\", \"NOT ENOUGH INFO\")\n",
    "print(f\"Number of valid rows: {valid_rows.sum()}\")"
   ]
  },
  {
   "cell_type": "code",
   "execution_count": 2,
   "metadata": {},
   "outputs": [],
   "source": [
    "from tqdm import tqdm\n",
    "from core.processing import process_query\n",
    "\n",
    "\n",
    "def translate_label(label: str) -> str:\n",
    "    \"\"\"Translate the newsagent label to the Fever2 label.\"\"\"\n",
    "    if label == 'true':\n",
    "        return 'SUPPORTS'\n",
    "    elif label == 'false':\n",
    "        return 'REFUTES'\n",
    "    else:\n",
    "        return 'NOT ENOUGH INFO'\n",
    "\n",
    "\n",
    "async def evaluate_df(df: pd.DataFrame, builtin_tools: list[str]=[], user_tool_kwargs=[]):\n",
    "    agent_responses, predicted_labels, correct_prediction = [], [], []\n",
    "    for i in tqdm(range(len(df))):\n",
    "        row = df.iloc[i]\n",
    "        claim = row['claim']\n",
    "        label = row['label']\n",
    "\n",
    "        agent_response = await process_query(text=claim, builtin_tools=builtin_tools, user_tool_kwargs=user_tool_kwargs)\n",
    "        predicted_label = agent_response['final_label']\n",
    "        predicted_fever_label = translate_label(predicted_label)\n",
    "\n",
    "        # Compile results\n",
    "        agent_responses.append(agent_response)\n",
    "        predicted_labels.append(predicted_fever_label)\n",
    "        correct_prediction.append(predicted_fever_label == label)\n",
    "    return agent_responses, predicted_labels, correct_prediction \n",
    "\n",
    "import nest_asyncio\n",
    "nest_asyncio.apply()\n",
    "\n"
   ]
  },
  {
   "cell_type": "code",
   "execution_count": 3,
   "metadata": {},
   "outputs": [],
   "source": [
    "async def run_evaluation(dataset, builtin_tools, user_tool_kwargs):\n",
    "    # Evaluate the entire dataset\n",
    "    df = dataset.copy()\n",
    "    agent_responses, preds, is_correct_list = await evaluate_df(df, builtin_tools=builtin_tools, user_tool_kwargs=user_tool_kwargs)\n",
    "    df['agent_response'] = agent_responses\n",
    "    df['predicted_label'] = preds\n",
    "    df['is_correct'] = is_correct_list\n",
    "\n",
    "    # Compute F1 score for the 3 labels\n",
    "    # Convert \"REFUTES\" to 0, \"SUPPORTS\" to 1, and \"NOT ENOUGH INFO\" to 2\n",
    "    label_mapping = {'REFUTES': 0, 'SUPPORTS': 1, 'NOT ENOUGH INFO': 2}\n",
    "    df['label_int'] = df['label'].map(label_mapping)\n",
    "    df['predicted_label_int'] = df['predicted_label'].map(label_mapping)\n",
    "\n",
    "    f1 = f1_score(df['label_int'],\n",
    "                  df['predicted_label_int'], average='macro')\n",
    "    print(f\"F1 score: {f1:.4f}\")\n",
    "    return df, f1\n",
    "\n"
   ]
  },
  {
   "cell_type": "code",
   "execution_count": 4,
   "metadata": {},
   "outputs": [],
   "source": [
    "# # Compute F1 score for the 3 labels\n",
    "# # Convert \"REFUTES\" to 0, \"SUPPORTS\" to 1, and \"NOT ENOUGH INFO\" to 2\n",
    "# label_mapping = {'REFUTES': 0, 'SUPPORTS': 1, 'NOT ENOUGH INFO': 2}\n",
    "# mini_df['label_int'] = mini_df['label'].map(label_mapping)\n",
    "# mini_df['predicted_label_int'] = mini_df['predicted_label'].map(label_mapping)\n",
    "\n",
    "# print(mini_df)\n",
    "# f1 = f1_score(mini_df['label_int'],\n",
    "#               mini_df['predicted_label_int'], average='macro')\n",
    "# print(f\"F1 score: {f1:.4f}\")"
   ]
  },
  {
   "cell_type": "markdown",
   "metadata": {},
   "source": [
    "Run with calculator, Wikipedia, and web search"
   ]
  },
  {
   "cell_type": "code",
   "execution_count": 8,
   "metadata": {},
   "outputs": [],
   "source": [
    "mini_df = dataset.iloc[:100].copy()"
   ]
  },
  {
   "cell_type": "code",
   "execution_count": 9,
   "metadata": {},
   "outputs": [
    {
     "name": "stderr",
     "output_type": "stream",
     "text": [
      "  8%|▊         | 8/100 [06:11<1:19:42, 51.98s/it]"
     ]
    },
    {
     "name": "stdout",
     "output_type": "stream",
     "text": [
      "Error fetching page 'Berjon': \"Berjon\" may refer to: \n",
      "Saúl Berjón\n",
      "Antoine Berjon\n",
      "Robin Berjon\n"
     ]
    },
    {
     "name": "stderr",
     "output_type": "stream",
     "text": [
      " 12%|█▏        | 12/100 [08:03<48:44, 33.23s/it] "
     ]
    },
    {
     "name": "stdout",
     "output_type": "stream",
     "text": [
      "Error: artifact in tool message didn't validate as list[Evidence]. Attempting to load from message.content. Error message: 1 validation error for RootModel[list[Evidence]]\n",
      "  Input should be a valid list [type=list_type, input_value=None, input_type=NoneType]\n",
      "    For further information visit https://errors.pydantic.dev/2.11/v/list_type\n",
      "Error: message.content didn't parse as json to a valid list[Evidence]. Attempting to load from message.content. Error message: 1 validation error for RootModel[list[Evidence]]\n",
      "  Invalid JSON: expected value at line 1 column 1 [type=json_invalid, input_value=\"Error: 1 validation erro...ease fix your mistakes.\", input_type=str]\n",
      "    For further information visit https://errors.pydantic.dev/2.11/v/json_invalid\n",
      "Error: artifact in tool message didn't validate as list[Evidence]. Attempting to load from message.content. Error message: 1 validation error for RootModel[list[Evidence]]\n",
      "  Input should be a valid list [type=list_type, input_value=None, input_type=NoneType]\n",
      "    For further information visit https://errors.pydantic.dev/2.11/v/list_type\n",
      "Error: message.content didn't parse as json to a valid list[Evidence]. Attempting to load from message.content. Error message: 1 validation error for RootModel[list[Evidence]]\n",
      "  Invalid JSON: expected value at line 1 column 1 [type=json_invalid, input_value='Error: 1 validation erro...ease fix your mistakes.', input_type=str]\n",
      "    For further information visit https://errors.pydantic.dev/2.11/v/json_invalid\n"
     ]
    },
    {
     "name": "stderr",
     "output_type": "stream",
     "text": [
      " 15%|█▌        | 15/100 [11:40<1:30:07, 63.62s/it]"
     ]
    },
    {
     "name": "stdout",
     "output_type": "stream",
     "text": [
      "Error: artifact in tool message didn't validate as list[Evidence]. Attempting to load from message.content. Error message: 1 validation error for RootModel[list[Evidence]]\n",
      "  Input should be a valid list [type=list_type, input_value=None, input_type=NoneType]\n",
      "    For further information visit https://errors.pydantic.dev/2.11/v/list_type\n",
      "Error: message.content didn't parse as json to a valid list[Evidence]. Attempting to load from message.content. Error message: 1 validation error for RootModel[list[Evidence]]\n",
      "  Invalid JSON: expected value at line 1 column 1 [type=json_invalid, input_value=\"Error: 1 validation erro...ease fix your mistakes.\", input_type=str]\n",
      "    For further information visit https://errors.pydantic.dev/2.11/v/json_invalid\n",
      "Error: artifact in tool message didn't validate as list[Evidence]. Attempting to load from message.content. Error message: 1 validation error for RootModel[list[Evidence]]\n",
      "  Input should be a valid list [type=list_type, input_value=None, input_type=NoneType]\n",
      "    For further information visit https://errors.pydantic.dev/2.11/v/list_type\n",
      "Error: message.content didn't parse as json to a valid list[Evidence]. Attempting to load from message.content. Error message: 1 validation error for RootModel[list[Evidence]]\n",
      "  Invalid JSON: expected value at line 1 column 1 [type=json_invalid, input_value=\"Error: 1 validation erro...ease fix your mistakes.\", input_type=str]\n",
      "    For further information visit https://errors.pydantic.dev/2.11/v/json_invalid\n"
     ]
    },
    {
     "name": "stderr",
     "output_type": "stream",
     "text": [
      " 16%|█▌        | 16/100 [13:50<1:57:01, 83.58s/it]"
     ]
    },
    {
     "name": "stdout",
     "output_type": "stream",
     "text": [
      "Error: artifact in tool message didn't validate as list[Evidence]. Attempting to load from message.content. Error message: 1 validation error for RootModel[list[Evidence]]\n",
      "  Input should be a valid list [type=list_type, input_value=None, input_type=NoneType]\n",
      "    For further information visit https://errors.pydantic.dev/2.11/v/list_type\n",
      "Error: message.content didn't parse as json to a valid list[Evidence]. Attempting to load from message.content. Error message: 1 validation error for RootModel[list[Evidence]]\n",
      "  Invalid JSON: expected value at line 1 column 1 [type=json_invalid, input_value='Error: 1 validation erro...ease fix your mistakes.', input_type=str]\n",
      "    For further information visit https://errors.pydantic.dev/2.11/v/json_invalid\n"
     ]
    },
    {
     "name": "stderr",
     "output_type": "stream",
     "text": [
      " 20%|██        | 20/100 [16:35<1:02:01, 46.51s/it]"
     ]
    },
    {
     "name": "stdout",
     "output_type": "stream",
     "text": [
      "Error fetching page 'Thunderstorm (disambiguation)': \"Thunderstorm (disambiguation)\" may refer to: \n",
      "Thunderstorm (band)\n",
      "Thunderstorm (album)\n",
      "Thunderstorm (film)\n",
      "Thunderstorm (play)\n",
      "Thunderstorm (opera)\n",
      "The Thunderstorm\n",
      "\"Thunderstorm\" (Peppa Pig)\n",
      "Thunderstorms and Neon Signs\n",
      "Electrical storm (disambiguation)\n",
      "Storm (disambiguation)\n",
      "Thunder (disambiguation)\n"
     ]
    },
    {
     "name": "stderr",
     "output_type": "stream",
     "text": [
      " 22%|██▏       | 22/100 [17:40<51:56, 39.96s/it]  "
     ]
    },
    {
     "name": "stdout",
     "output_type": "stream",
     "text": [
      "Error: artifact in tool message didn't validate as list[Evidence]. Attempting to load from message.content. Error message: 1 validation error for RootModel[list[Evidence]]\n",
      "  Input should be a valid list [type=list_type, input_value=None, input_type=NoneType]\n",
      "    For further information visit https://errors.pydantic.dev/2.11/v/list_type\n",
      "Error: message.content didn't parse as json to a valid list[Evidence]. Attempting to load from message.content. Error message: 1 validation error for RootModel[list[Evidence]]\n",
      "  Invalid JSON: expected value at line 1 column 1 [type=json_invalid, input_value='Error: 1 validation erro...ease fix your mistakes.', input_type=str]\n",
      "    For further information visit https://errors.pydantic.dev/2.11/v/json_invalid\n",
      "Error: artifact in tool message didn't validate as list[Evidence]. Attempting to load from message.content. Error message: 1 validation error for RootModel[list[Evidence]]\n",
      "  Input should be a valid list [type=list_type, input_value=None, input_type=NoneType]\n",
      "    For further information visit https://errors.pydantic.dev/2.11/v/list_type\n",
      "Error: message.content didn't parse as json to a valid list[Evidence]. Attempting to load from message.content. Error message: 1 validation error for RootModel[list[Evidence]]\n",
      "  Invalid JSON: expected value at line 1 column 1 [type=json_invalid, input_value='Error: 1 validation erro...ease fix your mistakes.', input_type=str]\n",
      "    For further information visit https://errors.pydantic.dev/2.11/v/json_invalid\n"
     ]
    },
    {
     "name": "stderr",
     "output_type": "stream",
     "text": [
      " 25%|██▌       | 25/100 [20:12<1:00:38, 48.51s/it]"
     ]
    },
    {
     "name": "stdout",
     "output_type": "stream",
     "text": [
      "Error: artifact in tool message didn't validate as list[Evidence]. Attempting to load from message.content. Error message: 1 validation error for RootModel[list[Evidence]]\n",
      "  Input should be a valid list [type=list_type, input_value=None, input_type=NoneType]\n",
      "    For further information visit https://errors.pydantic.dev/2.11/v/list_type\n",
      "Error: message.content didn't parse as json to a valid list[Evidence]. Attempting to load from message.content. Error message: 1 validation error for RootModel[list[Evidence]]\n",
      "  Invalid JSON: expected value at line 1 column 1 [type=json_invalid, input_value=\"Error: 1 validation erro...ease fix your mistakes.\", input_type=str]\n",
      "    For further information visit https://errors.pydantic.dev/2.11/v/json_invalid\n",
      "Error: artifact in tool message didn't validate as list[Evidence]. Attempting to load from message.content. Error message: 1 validation error for RootModel[list[Evidence]]\n",
      "  Input should be a valid list [type=list_type, input_value=None, input_type=NoneType]\n",
      "    For further information visit https://errors.pydantic.dev/2.11/v/list_type\n",
      "Error: message.content didn't parse as json to a valid list[Evidence]. Attempting to load from message.content. Error message: 1 validation error for RootModel[list[Evidence]]\n",
      "  Invalid JSON: expected value at line 1 column 1 [type=json_invalid, input_value='Error: 1 validation erro...ease fix your mistakes.', input_type=str]\n",
      "    For further information visit https://errors.pydantic.dev/2.11/v/json_invalid\n"
     ]
    },
    {
     "name": "stderr",
     "output_type": "stream",
     "text": [
      " 37%|███▋      | 37/100 [31:13<58:23, 55.61s/it]  "
     ]
    },
    {
     "name": "stdout",
     "output_type": "stream",
     "text": [
      "Error: artifact in tool message didn't validate as list[Evidence]. Attempting to load from message.content. Error message: 1 validation error for RootModel[list[Evidence]]\n",
      "  Input should be a valid list [type=list_type, input_value=None, input_type=NoneType]\n",
      "    For further information visit https://errors.pydantic.dev/2.11/v/list_type\n",
      "Error: message.content didn't parse as json to a valid list[Evidence]. Attempting to load from message.content. Error message: 1 validation error for RootModel[list[Evidence]]\n",
      "  Invalid JSON: expected value at line 1 column 1 [type=json_invalid, input_value=\"Error: 1 validation erro...ease fix your mistakes.\", input_type=str]\n",
      "    For further information visit https://errors.pydantic.dev/2.11/v/json_invalid\n"
     ]
    },
    {
     "name": "stderr",
     "output_type": "stream",
     "text": [
      " 70%|███████   | 70/100 [57:26<18:19, 36.64s/it]  "
     ]
    },
    {
     "name": "stdout",
     "output_type": "stream",
     "text": [
      "Error: artifact in tool message didn't validate as list[Evidence]. Attempting to load from message.content. Error message: 1 validation error for RootModel[list[Evidence]]\n",
      "  Input should be a valid list [type=list_type, input_value=None, input_type=NoneType]\n",
      "    For further information visit https://errors.pydantic.dev/2.11/v/list_type\n",
      "Error: message.content didn't parse as json to a valid list[Evidence]. Attempting to load from message.content. Error message: 1 validation error for RootModel[list[Evidence]]\n",
      "  Invalid JSON: expected value at line 1 column 1 [type=json_invalid, input_value=\"Error: 1 validation erro...ease fix your mistakes.\", input_type=str]\n",
      "    For further information visit https://errors.pydantic.dev/2.11/v/json_invalid\n",
      "Error: artifact in tool message didn't validate as list[Evidence]. Attempting to load from message.content. Error message: 1 validation error for RootModel[list[Evidence]]\n",
      "  Input should be a valid list [type=list_type, input_value=None, input_type=NoneType]\n",
      "    For further information visit https://errors.pydantic.dev/2.11/v/list_type\n",
      "Error: message.content didn't parse as json to a valid list[Evidence]. Attempting to load from message.content. Error message: 1 validation error for RootModel[list[Evidence]]\n",
      "  Invalid JSON: expected value at line 1 column 1 [type=json_invalid, input_value='Error: 1 validation erro...ease fix your mistakes.', input_type=str]\n",
      "    For further information visit https://errors.pydantic.dev/2.11/v/json_invalid\n"
     ]
    },
    {
     "name": "stderr",
     "output_type": "stream",
     "text": [
      "100%|██████████| 100/100 [1:17:20<00:00, 46.40s/it]"
     ]
    },
    {
     "name": "stdout",
     "output_type": "stream",
     "text": [
      "F1 score: 0.5333\n"
     ]
    },
    {
     "name": "stderr",
     "output_type": "stream",
     "text": [
      "\n"
     ]
    }
   ],
   "source": [
    "mini_results, mini_f1 = await run_evaluation(dataset=mini_df, builtin_tools=['calculator', 'web_search', 'wikipedia'], user_tool_kwargs=[])"
   ]
  },
  {
   "cell_type": "code",
   "execution_count": 10,
   "metadata": {},
   "outputs": [
    {
     "name": "stdout",
     "output_type": "stream",
     "text": [
      "0.5332563951979677\n"
     ]
    }
   ],
   "source": [
    "print(mini_f1)"
   ]
  },
  {
   "cell_type": "markdown",
   "metadata": {},
   "source": [
    "Write out results"
   ]
  },
  {
   "cell_type": "code",
   "execution_count": 11,
   "metadata": {},
   "outputs": [],
   "source": [
    "with open('f1.txt', 'w') as f:\n",
    "    f.write(f\"F1: {mini_f1:.4f}\\n\")\n",
    "\n",
    "mini_results.to_json('mini_results_o3mini.jsonl', lines=True, orient='records')"
   ]
  },
  {
   "cell_type": "code",
   "execution_count": 23,
   "metadata": {},
   "outputs": [],
   "source": [
    "from sklearn.metrics import precision_recall_fscore_support\n",
    "\n",
    "precision, recall, fscore, support = precision_recall_fscore_support(mini_results['label'], mini_results['predicted_label'], average='macro')"
   ]
  },
  {
   "cell_type": "code",
   "execution_count": null,
   "metadata": {},
   "outputs": [
    {
     "name": "stdout",
     "output_type": "stream",
     "text": [
      "None\n",
      "Precision: 0.5390891952397786\n",
      "Recall: 0.548611111111111\n"
     ]
    }
   ],
   "source": [
    "print(f\"Precision: {precision:.4f}\")\n",
    "print(f\"Recall: {recall:.4f}\")"
   ]
  },
  {
   "cell_type": "code",
   "execution_count": 25,
   "metadata": {},
   "outputs": [
    {
     "name": "stdout",
     "output_type": "stream",
     "text": [
      "Precision: 0.4437\n",
      "Recall: 0.4225\n",
      "F1: 0.4177\n"
     ]
    }
   ],
   "source": [
    "mistral_results = pd.read_json('mini_results.jsonl', lines=True)\n",
    "\n",
    "precision, recall, fscore, support = precision_recall_fscore_support(mistral_results['label'], mistral_results['predicted_label'], average='macro')\n",
    "print(f\"Precision: {precision:.4f}\")\n",
    "print(f\"Recall: {recall:.4f}\")\n",
    "print(f\"F1: {fscore:.4f}\")"
   ]
  },
  {
   "cell_type": "code",
   "execution_count": null,
   "metadata": {},
   "outputs": [],
   "source": []
  }
 ],
 "metadata": {
  "kernelspec": {
   "display_name": "newsagent",
   "language": "python",
   "name": "python3"
  },
  "language_info": {
   "codemirror_mode": {
    "name": "ipython",
    "version": 3
   },
   "file_extension": ".py",
   "mimetype": "text/x-python",
   "name": "python",
   "nbconvert_exporter": "python",
   "pygments_lexer": "ipython3",
   "version": "3.11.11"
  }
 },
 "nbformat": 4,
 "nbformat_minor": 2
}
