{
 "cells": [
  {
   "cell_type": "markdown",
   "metadata": {},
   "source": [
    "# Politifact Evaluation Code\n",
    "\n",
    "Assumes the dataset is in `politifact_factcheck_data.jsonl` relative to this notebook. \n",
    "\n",
    "NOTE: file downloads as `.json`, not `.jsonl`, although the format is in JSON lines.\n",
    "\n"
   ]
  },
  {
   "cell_type": "markdown",
   "metadata": {},
   "source": [
    "Politifact dataset has 6 `verdict` labels:\n",
    "* true\n",
    "* mostly-true\n",
    "* half-true\n",
    "* false\n",
    "* mostly-false\n",
    "* pants-fire\n",
    "\n",
    "We will map Politifact labels as follows:\n",
    "1. `true, mostly-true` to `true`\n",
    "1. `false, mostly-false, pants-fire` to `false`\n",
    "1. `half-true` to `mixed`\n",
    "\n",
    "We will map the NewsAgent label `unknown` to `mixed`, and keep `true` and `false` as-is"
   ]
  },
  {
   "cell_type": "markdown",
   "metadata": {},
   "source": [
    "### Checking dataset\n",
    "\n",
    "1. `statement` value must be a string\n",
    "1. `verdict` must be one of the 6 Politifact label strings"
   ]
  },
  {
   "cell_type": "code",
   "execution_count": 1,
   "metadata": {},
   "outputs": [
    {
     "name": "stdout",
     "output_type": "stream",
     "text": [
      "Claim Decomposer model: o3-mini\n",
      "Research agent model: o3-mini\n",
      "Reasoning agent model: o3-mini\n",
      "Verdict agent model: o3-mini\n",
      "       verdict statement_originator  \\\n",
      "0         true         Barack Obama   \n",
      "1        false           Matt Gaetz   \n",
      "2  mostly-true         Kelly Ayotte   \n",
      "\n",
      "                                           statement statement_date  \\\n",
      "0  John McCain opposed bankruptcy protections for...      6/11/2008   \n",
      "1  \"Bennie Thompson actively cheer-led riots in t...       6/7/2022   \n",
      "2  Says Maggie Hassan was \"out of state on 30 day...      5/18/2016   \n",
      "\n",
      "  statement_source        factchecker factcheck_date  \\\n",
      "0           speech  Adriel Bettelheim      6/16/2008   \n",
      "1       television        Yacob Reyes      6/13/2022   \n",
      "2             news     Clay Wirestone      5/27/2016   \n",
      "\n",
      "                             factcheck_analysis_link  \n",
      "0  https://www.politifact.com/factchecks/2008/jun...  \n",
      "1  https://www.politifact.com/factchecks/2022/jun...  \n",
      "2  https://www.politifact.com/factchecks/2016/may...  \n",
      "Total rows: 21152\n",
      "Number of valid rows: 21152\n"
     ]
    }
   ],
   "source": [
    "import pandas as pd\n",
    "from sklearn.metrics import f1_score\n",
    "import os\n",
    "from dotenv import load_dotenv\n",
    "load_dotenv('../../core/.env', override=True)\n",
    "print(f\"Claim Decomposer model: {os.getenv('CLAIM_DECOMPOSER_MODEL')}\")\n",
    "print(f\"Research agent model: {os.getenv('RESEARCH_AGENT_MODEL')}\")\n",
    "print(f\"Reasoning agent model: {os.getenv('REASONING_AGENT_MODEL')}\")\n",
    "print(f\"Verdict agent model: {os.getenv('VERDICT_AGENT_MODEL')}\")\n",
    "\n",
    "dataset = pd.read_json('datasets/politifact_factcheck_data.jsonl', lines=True)\n",
    "print(dataset.head(3))\n",
    "print(f\"Total rows: {len(dataset)}\")\n",
    "politifact_labels = ['true', 'mostly-true', 'half-true', 'mostly-false', 'false', 'pants-fire']\n",
    "\n",
    "\n",
    "def check_claim(row):\n",
    "    ok = True\n",
    "    if not isinstance(row['statement'], str):\n",
    "        print(row['statement'])\n",
    "        ok = False\n",
    "    if not isinstance(row['verdict'], str):\n",
    "        print(row['verdict'])\n",
    "        ok = False\n",
    "    if row['verdict'] not in politifact_labels:\n",
    "        ok = False\n",
    "        print(row['verdict'])\n",
    "    return ok\n",
    "\n",
    "\n",
    "valid_rows = dataset.apply(check_claim, axis=1)\n",
    "\n",
    "# Check that every row has a valid claim (str) and label (\"SUPPORTS\", \"REFUTES\", \"NOT ENOUGH INFO\")\n",
    "print(f\"Number of valid rows: {valid_rows.sum()}\")"
   ]
  },
  {
   "cell_type": "code",
   "execution_count": 2,
   "metadata": {},
   "outputs": [
    {
     "data": {
      "text/html": [
       "<div>\n",
       "<style scoped>\n",
       "    .dataframe tbody tr th:only-of-type {\n",
       "        vertical-align: middle;\n",
       "    }\n",
       "\n",
       "    .dataframe tbody tr th {\n",
       "        vertical-align: top;\n",
       "    }\n",
       "\n",
       "    .dataframe thead th {\n",
       "        text-align: right;\n",
       "    }\n",
       "</style>\n",
       "<table border=\"1\" class=\"dataframe\">\n",
       "  <thead>\n",
       "    <tr style=\"text-align: right;\">\n",
       "      <th></th>\n",
       "      <th>verdict</th>\n",
       "      <th>statement_originator</th>\n",
       "      <th>statement</th>\n",
       "      <th>statement_date</th>\n",
       "      <th>statement_source</th>\n",
       "      <th>factchecker</th>\n",
       "      <th>factcheck_date</th>\n",
       "      <th>factcheck_analysis_link</th>\n",
       "      <th>label</th>\n",
       "    </tr>\n",
       "  </thead>\n",
       "  <tbody>\n",
       "    <tr>\n",
       "      <th>0</th>\n",
       "      <td>true</td>\n",
       "      <td>Barack Obama</td>\n",
       "      <td>John McCain opposed bankruptcy protections for...</td>\n",
       "      <td>6/11/2008</td>\n",
       "      <td>speech</td>\n",
       "      <td>Adriel Bettelheim</td>\n",
       "      <td>6/16/2008</td>\n",
       "      <td>https://www.politifact.com/factchecks/2008/jun...</td>\n",
       "      <td>true</td>\n",
       "    </tr>\n",
       "    <tr>\n",
       "      <th>1</th>\n",
       "      <td>false</td>\n",
       "      <td>Matt Gaetz</td>\n",
       "      <td>\"Bennie Thompson actively cheer-led riots in t...</td>\n",
       "      <td>6/7/2022</td>\n",
       "      <td>television</td>\n",
       "      <td>Yacob Reyes</td>\n",
       "      <td>6/13/2022</td>\n",
       "      <td>https://www.politifact.com/factchecks/2022/jun...</td>\n",
       "      <td>false</td>\n",
       "    </tr>\n",
       "    <tr>\n",
       "      <th>2</th>\n",
       "      <td>mostly-true</td>\n",
       "      <td>Kelly Ayotte</td>\n",
       "      <td>Says Maggie Hassan was \"out of state on 30 day...</td>\n",
       "      <td>5/18/2016</td>\n",
       "      <td>news</td>\n",
       "      <td>Clay Wirestone</td>\n",
       "      <td>5/27/2016</td>\n",
       "      <td>https://www.politifact.com/factchecks/2016/may...</td>\n",
       "      <td>true</td>\n",
       "    </tr>\n",
       "  </tbody>\n",
       "</table>\n",
       "</div>"
      ],
      "text/plain": [
       "       verdict statement_originator  \\\n",
       "0         true         Barack Obama   \n",
       "1        false           Matt Gaetz   \n",
       "2  mostly-true         Kelly Ayotte   \n",
       "\n",
       "                                           statement statement_date  \\\n",
       "0  John McCain opposed bankruptcy protections for...      6/11/2008   \n",
       "1  \"Bennie Thompson actively cheer-led riots in t...       6/7/2022   \n",
       "2  Says Maggie Hassan was \"out of state on 30 day...      5/18/2016   \n",
       "\n",
       "  statement_source        factchecker factcheck_date  \\\n",
       "0           speech  Adriel Bettelheim      6/16/2008   \n",
       "1       television        Yacob Reyes      6/13/2022   \n",
       "2             news     Clay Wirestone      5/27/2016   \n",
       "\n",
       "                             factcheck_analysis_link  label  \n",
       "0  https://www.politifact.com/factchecks/2008/jun...   true  \n",
       "1  https://www.politifact.com/factchecks/2022/jun...  false  \n",
       "2  https://www.politifact.com/factchecks/2016/may...   true  "
      ]
     },
     "execution_count": 2,
     "metadata": {},
     "output_type": "execute_result"
    }
   ],
   "source": [
    "from tqdm import tqdm\n",
    "from core.processing import process_query\n",
    "\n",
    "\n",
    "def translate_label(label: str) -> str:\n",
    "    \"\"\"Translate the newsagent label to the Politifact label.\"\"\"\n",
    "    return 'mixed' if label == 'unknown' else label\n",
    "# newsagent_label_mapping = {\n",
    "#     'true': 'true',\n",
    "#     'unknown': 'mixed',\n",
    "#     'mixed': 'mixed',\n",
    "#     'false': 'false',\n",
    "# }\n",
    "\n",
    "politifact_label_mapping = {\n",
    "    'true': 'true',\n",
    "    'mostly-true': 'true',\n",
    "    'half-true': 'mixed',\n",
    "    'mostly-false': 'false',\n",
    "    'false': 'false',\n",
    "    'pants-fire': 'false'\n",
    "}\n",
    "dataset['label'] = dataset['verdict'].map(politifact_label_mapping)\n",
    "dataset.head(3)"
   ]
  },
  {
   "cell_type": "code",
   "execution_count": 3,
   "metadata": {},
   "outputs": [],
   "source": [
    "async def evaluate_df(df: pd.DataFrame, builtin_tools: list[str]=[], user_tool_kwargs=[]):\n",
    "    agent_responses, predicted_labels, correct_prediction = [], [], []\n",
    "    for i in tqdm(range(len(df))):\n",
    "        row = df.iloc[i]\n",
    "        claim = row['statement']\n",
    "        label = row['label']\n",
    "\n",
    "        agent_response = await process_query(text=claim, builtin_tools=builtin_tools, user_tool_kwargs=user_tool_kwargs)\n",
    "        predicted_label = agent_response['final_label']\n",
    "        predicted_politifact_label = translate_label(predicted_label)\n",
    "\n",
    "        # Compile results\n",
    "        agent_responses.append(agent_response)\n",
    "        predicted_labels.append(predicted_politifact_label)\n",
    "        correct_prediction.append(predicted_politifact_label == label)\n",
    "    return agent_responses, predicted_labels, correct_prediction \n",
    "\n",
    "import nest_asyncio\n",
    "nest_asyncio.apply()\n",
    "\n"
   ]
  },
  {
   "cell_type": "code",
   "execution_count": 4,
   "metadata": {},
   "outputs": [],
   "source": [
    "async def run_evaluation(dataset, builtin_tools, user_tool_kwargs):\n",
    "    \"\"\"\n",
    "    Assumes the dataset has a 'label' column with the labels after the mapping.\n",
    "    \"\"\"\n",
    "    # Evaluate the entire dataset\n",
    "    df = dataset.copy()\n",
    "    agent_responses, preds, is_correct_list = await evaluate_df(df, builtin_tools=builtin_tools, user_tool_kwargs=user_tool_kwargs)\n",
    "    df['agent_response'] = agent_responses\n",
    "    df['predicted_label'] = preds\n",
    "    df['is_correct'] = is_correct_list\n",
    "\n",
    "    # Compute F1 score for the 3 labels\n",
    "    f1 = f1_score(df['label'],\n",
    "                  df['predicted_label'], average='macro')\n",
    "    print(f\"F1 score: {f1:.4f}\")\n",
    "    return df, f1\n",
    "\n"
   ]
  },
  {
   "cell_type": "markdown",
   "metadata": {},
   "source": [
    "Run with calculator, Wikipedia, and web search"
   ]
  },
  {
   "cell_type": "code",
   "execution_count": 5,
   "metadata": {},
   "outputs": [],
   "source": [
    "mini_df = dataset.iloc[:100].copy()"
   ]
  },
  {
   "cell_type": "code",
   "execution_count": 6,
   "metadata": {},
   "outputs": [
    {
     "name": "stderr",
     "output_type": "stream",
     "text": [
      " 11%|█         | 11/100 [08:36<1:05:59, 44.49s/it]"
     ]
    },
    {
     "name": "stdout",
     "output_type": "stream",
     "text": [
      "Error: artifact in tool message didn't validate as list[Evidence]. Attempting to load from message.content. Error message: 1 validation error for RootModel[list[Evidence]]\n",
      "  Input should be a valid list [type=list_type, input_value=None, input_type=NoneType]\n",
      "    For further information visit https://errors.pydantic.dev/2.11/v/list_type\n",
      "Error: message.content didn't parse as json to a valid list[Evidence]. Attempting to load from message.content. Error message: 1 validation error for RootModel[list[Evidence]]\n",
      "  Invalid JSON: expected value at line 1 column 1 [type=json_invalid, input_value='Error: 1 validation erro...ease fix your mistakes.', input_type=str]\n",
      "    For further information visit https://errors.pydantic.dev/2.11/v/json_invalid\n"
     ]
    },
    {
     "name": "stderr",
     "output_type": "stream",
     "text": [
      " 12%|█▏        | 12/100 [09:25<1:07:10, 45.80s/it]"
     ]
    },
    {
     "name": "stdout",
     "output_type": "stream",
     "text": [
      "Error: artifact in tool message didn't validate as list[Evidence]. Attempting to load from message.content. Error message: 1 validation error for RootModel[list[Evidence]]\n",
      "  Input should be a valid list [type=list_type, input_value=None, input_type=NoneType]\n",
      "    For further information visit https://errors.pydantic.dev/2.11/v/list_type\n",
      "Error: message.content didn't parse as json to a valid list[Evidence]. Attempting to load from message.content. Error message: 1 validation error for RootModel[list[Evidence]]\n",
      "  Invalid JSON: expected value at line 1 column 1 [type=json_invalid, input_value=\"Error: 1 validation erro...ease fix your mistakes.\", input_type=str]\n",
      "    For further information visit https://errors.pydantic.dev/2.11/v/json_invalid\n"
     ]
    },
    {
     "name": "stderr",
     "output_type": "stream",
     "text": [
      " 14%|█▍        | 14/100 [10:38<57:37, 40.20s/it]  "
     ]
    },
    {
     "name": "stdout",
     "output_type": "stream",
     "text": [
      "Error: artifact in tool message didn't validate as list[Evidence]. Attempting to load from message.content. Error message: 1 validation error for RootModel[list[Evidence]]\n",
      "  Input should be a valid list [type=list_type, input_value=None, input_type=NoneType]\n",
      "    For further information visit https://errors.pydantic.dev/2.11/v/list_type\n",
      "Error: message.content didn't parse as json to a valid list[Evidence]. Attempting to load from message.content. Error message: 1 validation error for RootModel[list[Evidence]]\n",
      "  Invalid JSON: expected value at line 1 column 1 [type=json_invalid, input_value='Error: 1 validation erro...ease fix your mistakes.', input_type=str]\n",
      "    For further information visit https://errors.pydantic.dev/2.11/v/json_invalid\n"
     ]
    },
    {
     "name": "stderr",
     "output_type": "stream",
     "text": [
      " 19%|█▉        | 19/100 [15:36<1:14:59, 55.56s/it]"
     ]
    },
    {
     "name": "stdout",
     "output_type": "stream",
     "text": [
      "Error during Tavily search: 502 Server Error: Bad Gateway for url: https://api.tavily.com/search\n"
     ]
    },
    {
     "name": "stderr",
     "output_type": "stream",
     "text": [
      " 48%|████▊     | 48/100 [37:41<30:16, 34.93s/it]  "
     ]
    },
    {
     "name": "stdout",
     "output_type": "stream",
     "text": [
      "Error: artifact in tool message didn't validate as list[Evidence]. Attempting to load from message.content. Error message: 1 validation error for RootModel[list[Evidence]]\n",
      "  Input should be a valid list [type=list_type, input_value=None, input_type=NoneType]\n",
      "    For further information visit https://errors.pydantic.dev/2.11/v/list_type\n",
      "Error: message.content didn't parse as json to a valid list[Evidence]. Attempting to load from message.content. Error message: 1 validation error for RootModel[list[Evidence]]\n",
      "  Invalid JSON: expected value at line 1 column 1 [type=json_invalid, input_value='Error: 1 validation erro...ease fix your mistakes.', input_type=str]\n",
      "    For further information visit https://errors.pydantic.dev/2.11/v/json_invalid\n"
     ]
    },
    {
     "name": "stderr",
     "output_type": "stream",
     "text": [
      "100%|██████████| 100/100 [1:19:44<00:00, 47.84s/it]"
     ]
    },
    {
     "name": "stdout",
     "output_type": "stream",
     "text": [
      "F1 score: 0.3610\n"
     ]
    },
    {
     "name": "stderr",
     "output_type": "stream",
     "text": [
      "\n"
     ]
    }
   ],
   "source": [
    "mini_results, mini_f1 = await run_evaluation(dataset=mini_df, builtin_tools=['calculator', 'web_search', 'wikipedia_tool'], user_tool_kwargs=[])"
   ]
  },
  {
   "cell_type": "code",
   "execution_count": 7,
   "metadata": {},
   "outputs": [
    {
     "name": "stdout",
     "output_type": "stream",
     "text": [
      "0.36103896103896105\n"
     ]
    }
   ],
   "source": [
    "print(mini_f1)"
   ]
  },
  {
   "cell_type": "markdown",
   "metadata": {},
   "source": [
    "Write out results"
   ]
  },
  {
   "cell_type": "code",
   "execution_count": 8,
   "metadata": {},
   "outputs": [],
   "source": [
    "with open('politifact_f1.txt', 'w') as f:\n",
    "    f.write(f\"F1: {mini_f1:.4f}\\n\")\n",
    "\n",
    "mini_results.to_json('politifact_results_o3mini.jsonl', lines=True, orient='records')"
   ]
  },
  {
   "cell_type": "code",
   "execution_count": 9,
   "metadata": {},
   "outputs": [
    {
     "name": "stdout",
     "output_type": "stream",
     "text": [
      "Precision: 0.3655\n",
      "Recall: 0.3834\n",
      "F1: 0.3610\n"
     ]
    }
   ],
   "source": [
    "from sklearn.metrics import precision_recall_fscore_support\n",
    "\n",
    "precision, recall, fscore, support = precision_recall_fscore_support(mini_results['label'], mini_results['predicted_label'], average='macro')\n",
    "print(f\"Precision: {precision:.4f}\")\n",
    "print(f\"Recall: {recall:.4f}\")\n",
    "print(f\"F1: {fscore:.4f}\")"
   ]
  },
  {
   "cell_type": "code",
   "execution_count": 11,
   "metadata": {},
   "outputs": [
    {
     "name": "stdout",
     "output_type": "stream",
     "text": [
      "Precision: 0.3958\n",
      "Recall: 0.3366\n",
      "F1: 0.3330\n"
     ]
    }
   ],
   "source": [
    "mistral_results = pd.read_json('politifact_results.jsonl', lines=True)\n",
    "precision, recall, fscore, support = precision_recall_fscore_support(mistral_results['label'], mistral_results['predicted_label'], average='macro')\n",
    "print(f\"Precision: {precision:.4f}\")\n",
    "print(f\"Recall: {recall:.4f}\")\n",
    "print(f\"F1: {fscore:.4f}\")"
   ]
  },
  {
   "cell_type": "code",
   "execution_count": null,
   "metadata": {},
   "outputs": [],
   "source": []
  }
 ],
 "metadata": {
  "kernelspec": {
   "display_name": "newsagent",
   "language": "python",
   "name": "python3"
  },
  "language_info": {
   "codemirror_mode": {
    "name": "ipython",
    "version": 3
   },
   "file_extension": ".py",
   "mimetype": "text/x-python",
   "name": "python",
   "nbconvert_exporter": "python",
   "pygments_lexer": "ipython3",
   "version": "3.11.11"
  }
 },
 "nbformat": 4,
 "nbformat_minor": 2
}
